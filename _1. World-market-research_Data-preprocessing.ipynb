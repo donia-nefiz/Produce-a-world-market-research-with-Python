{
 "cells": [
  {
   "cell_type": "markdown",
   "id": "f8b22c1d",
   "metadata": {},
   "source": [
    "# Produce a world market research with Python"
   ]
  },
  {
   "cell_type": "markdown",
   "id": "0577cd0e",
   "metadata": {},
   "source": [
    "## <i>Exploration and data cleaning</i>"
   ]
  },
  {
   "cell_type": "markdown",
   "id": "e0e867f8",
   "metadata": {},
   "source": [
    " "
   ]
  },
  {
   "cell_type": "markdown",
   "id": "2f514382",
   "metadata": {},
   "source": [
    "My mission here for <i>La Poule qui chante</i> is to analyze the global chicken market to help them choose their direction for international development.\n",
    "\n",
    "All data have been sourced from www.fao.org for the year 2017.\n",
    "\n",
    "In this part, we will start by determining the relevant indicators for our mission and prepare the data for the rest of the analysis.\n",
    "\n",
    " <br>\n",
    " \n",
    "<u> Summary</u> :\n",
    "\n",
    " Tools [(here)](#another_cell_0)\n",
    "\n",
    " I. Explore and clean <a href=\"https://github.com/donia-nefiz/Produce-a-world-market-research-with-Python\" target=\"_blank\">world market research data</a><br>\n",
    "     -- A. Worldwilde chicken consumption and sale (2017)<br>\n",
    "     ---- 1. [chicken_consumption.csv](http://localhost:8888/edit/chicken_consum_2017.csv) : exploration and data cleaning [(here)](#another_cell_a)<br>\n",
    "     ---- 2. [chicken_availibility.csv](http://localhost:8888/edit/chicken_avail_2017.csv) : exploration and data cleaning [(here)](#another_cell_b)<br>\n",
    "     ---- 3. [chicken_availibility_per_habitant.csv](http://localhost:8888/edit/chicken_avail_per_hab_2017.csv) : exploration and data cleaning [(here)](#another_cell_c)<br>\n",
    "     ---- 4.  [chicken_production.csv](http://localhost:8888/edit/chicken_prod_2017.csv) : exploration and data cleaning [(here)](#another_cell_d)<br>\n",
    "     ---- 5.   [chicken_exportation.csv](http://localhost:8888/edit/chicken_export_2017.csv) : exploration and data cleaning [(here)](#another_cell_e)<br>\n",
    "     ---- 6.   [chicken_importation.csv](http://localhost:8888/edit/chicken_import_2017.csv) : exploration and data cleaning [(here)](#another_cell_f)<br>\n",
    "     ---- 7. Merge dataframes, explore and clean [(here)](#another_cell_g)<br>\n",
    "     -- Conclusion (part I/a) [(here)](#another_cell_h)<br>\n",
    "      <br>\n",
    "     -- B. Global macroeconomic and political data (2017)<br>\n",
    "     ---- 1. [data_population.csv](http://localhost:8888/edit/data_population_2017.csv) : exploration and data cleaning [(here)](#another_cell_i)<br>\n",
    "     ---- 2. [data_political_stability.csv](http://localhost:8888/edit/data_political_stability_2017.csv) : exploration and data cleaning [(here)](#another_cell_j)<br>\n",
    "     ---- 3. [data_gdp_per_hab.csv](http://localhost:8888/edit/data_PIB_hab_2017.csv) : exploration and data cleaning [(here)](#another_cell_k)<br>\n",
    "     ---- 4.  [data_inflation.csv](http://localhost:8888/edit/data_inflation_food_month_2017.csv) : exploration and data cleaning [(here)](#another_cell_l)<br>\n",
    "     ---- 5. Final merge, explore and clean [(here)](#another_cell_m)<br>\n",
    "     -- Conclusion (part I/b) [(here)](#another_cell_n)<br>\n",
    "     \n",
    "  Conclusion [(here)](#another_cell_0)"
   ]
  },
  {
   "cell_type": "markdown",
   "id": "a8dc4e3a",
   "metadata": {},
   "source": [
    " <a id='another_cell_0'></a>"
   ]
  },
  {
   "cell_type": "markdown",
   "id": "3cb10302",
   "metadata": {},
   "source": [
    "### Tools"
   ]
  },
  {
   "cell_type": "code",
   "execution_count": 1,
   "id": "95056797",
   "metadata": {},
   "outputs": [],
   "source": [
    "import numpy as np\n",
    "import pandas as pd\n",
    "import matplotlib.pyplot as plt\n",
    "import seaborn as sns\n",
    "import warnings"
   ]
  },
  {
   "cell_type": "code",
   "execution_count": 2,
   "id": "c7e130c3",
   "metadata": {},
   "outputs": [],
   "source": [
    "#Check null values function :\n",
    "def check_nan(data, column):\n",
    "    if len(data[data[column].isnull()]) == 0:\n",
    "        print (\"The column\", column, \"does not contain any missing values\")\n",
    "    else :\n",
    "        print(\"The column\", column, \"contain \", len(data[data[column].isnull()]), \" missing values\")"
   ]
  },
  {
   "cell_type": "code",
   "execution_count": 3,
   "id": "9378449d",
   "metadata": {},
   "outputs": [],
   "source": [
    "#Check duplicates function :\n",
    "def check_duplicates(data, column):\n",
    "    n = len(data.index)\n",
    "    if len(data[column].drop_duplicates()) == n :\n",
    "        print (\"The column\", column, \"does not contain duplicates\")\n",
    "    else :\n",
    "        print(\"The column\", column, \"contains \", len(data[data[column].duplicated()]), \" duplicates.\")\n",
    "        return data[data[column].duplicated()]"
   ]
  },
  {
   "cell_type": "markdown",
   "id": "4c83f18e",
   "metadata": {},
   "source": [
    " "
   ]
  },
  {
   "cell_type": "markdown",
   "id": "aa3a3a62",
   "metadata": {},
   "source": [
    "## I. World market research data, files exploration and data cleaning"
   ]
  },
  {
   "cell_type": "markdown",
   "id": "f3820031",
   "metadata": {},
   "source": [
    "### A. Worldwilde chicken consumption and sale (2017)"
   ]
  },
  {
   "cell_type": "markdown",
   "id": "654360da",
   "metadata": {},
   "source": [
    "<a id='another_cell_a'></a>"
   ]
  },
  {
   "cell_type": "markdown",
   "id": "fd6b24bd",
   "metadata": {},
   "source": [
    "#### 1. [chicken_consumption.csv](http://localhost:8888/edit/chicken_consum_2017.csv) : exploration and data cleaning"
   ]
  },
  {
   "cell_type": "markdown",
   "id": "a0f710aa",
   "metadata": {},
   "source": [
    "- Loading file:"
   ]
  },
  {
   "cell_type": "code",
   "execution_count": 4,
   "id": "045b66e5",
   "metadata": {},
   "outputs": [],
   "source": [
    "chicken_consum = pd.read_csv('chicken_consum_2017.csv', sep=';')"
   ]
  },
  {
   "cell_type": "markdown",
   "id": "1442e77f",
   "metadata": {},
   "source": [
    "- First 5 rows display :"
   ]
  },
  {
   "cell_type": "code",
   "execution_count": 5,
   "id": "49a5be12",
   "metadata": {},
   "outputs": [
    {
     "data": {
      "text/html": [
       "<div>\n",
       "<style scoped>\n",
       "    .dataframe tbody tr th:only-of-type {\n",
       "        vertical-align: middle;\n",
       "    }\n",
       "\n",
       "    .dataframe tbody tr th {\n",
       "        vertical-align: top;\n",
       "    }\n",
       "\n",
       "    .dataframe thead th {\n",
       "        text-align: right;\n",
       "    }\n",
       "</style>\n",
       "<table border=\"1\" class=\"dataframe\">\n",
       "  <thead>\n",
       "    <tr style=\"text-align: right;\">\n",
       "      <th></th>\n",
       "      <th>Code zone</th>\n",
       "      <th>Zone</th>\n",
       "      <th>Code Élément</th>\n",
       "      <th>Élément</th>\n",
       "      <th>Code Produit</th>\n",
       "      <th>Produit</th>\n",
       "      <th>Année</th>\n",
       "      <th>Unité</th>\n",
       "      <th>Valeur</th>\n",
       "    </tr>\n",
       "  </thead>\n",
       "  <tbody>\n",
       "    <tr>\n",
       "      <th>0</th>\n",
       "      <td>2</td>\n",
       "      <td>Afghanistan</td>\n",
       "      <td>5142</td>\n",
       "      <td>Nourriture</td>\n",
       "      <td>2734</td>\n",
       "      <td>Viande de Volailles</td>\n",
       "      <td>2017</td>\n",
       "      <td>Milliers de tonnes</td>\n",
       "      <td>55</td>\n",
       "    </tr>\n",
       "    <tr>\n",
       "      <th>1</th>\n",
       "      <td>202</td>\n",
       "      <td>Afrique du Sud</td>\n",
       "      <td>5142</td>\n",
       "      <td>Nourriture</td>\n",
       "      <td>2734</td>\n",
       "      <td>Viande de Volailles</td>\n",
       "      <td>2017</td>\n",
       "      <td>Milliers de tonnes</td>\n",
       "      <td>2035</td>\n",
       "    </tr>\n",
       "    <tr>\n",
       "      <th>2</th>\n",
       "      <td>3</td>\n",
       "      <td>Albanie</td>\n",
       "      <td>5142</td>\n",
       "      <td>Nourriture</td>\n",
       "      <td>2734</td>\n",
       "      <td>Viande de Volailles</td>\n",
       "      <td>2017</td>\n",
       "      <td>Milliers de tonnes</td>\n",
       "      <td>47</td>\n",
       "    </tr>\n",
       "    <tr>\n",
       "      <th>3</th>\n",
       "      <td>4</td>\n",
       "      <td>Algérie</td>\n",
       "      <td>5142</td>\n",
       "      <td>Nourriture</td>\n",
       "      <td>2734</td>\n",
       "      <td>Viande de Volailles</td>\n",
       "      <td>2017</td>\n",
       "      <td>Milliers de tonnes</td>\n",
       "      <td>264</td>\n",
       "    </tr>\n",
       "    <tr>\n",
       "      <th>4</th>\n",
       "      <td>79</td>\n",
       "      <td>Allemagne</td>\n",
       "      <td>5142</td>\n",
       "      <td>Nourriture</td>\n",
       "      <td>2734</td>\n",
       "      <td>Viande de Volailles</td>\n",
       "      <td>2017</td>\n",
       "      <td>Milliers de tonnes</td>\n",
       "      <td>1609</td>\n",
       "    </tr>\n",
       "  </tbody>\n",
       "</table>\n",
       "</div>"
      ],
      "text/plain": [
       "   Code zone            Zone  Code Élément     Élément  Code Produit  \\\n",
       "0          2     Afghanistan          5142  Nourriture          2734   \n",
       "1        202  Afrique du Sud          5142  Nourriture          2734   \n",
       "2          3         Albanie          5142  Nourriture          2734   \n",
       "3          4         Algérie          5142  Nourriture          2734   \n",
       "4         79       Allemagne          5142  Nourriture          2734   \n",
       "\n",
       "               Produit  Année               Unité  Valeur  \n",
       "0  Viande de Volailles   2017  Milliers de tonnes      55  \n",
       "1  Viande de Volailles   2017  Milliers de tonnes    2035  \n",
       "2  Viande de Volailles   2017  Milliers de tonnes      47  \n",
       "3  Viande de Volailles   2017  Milliers de tonnes     264  \n",
       "4  Viande de Volailles   2017  Milliers de tonnes    1609  "
      ]
     },
     "execution_count": 5,
     "metadata": {},
     "output_type": "execute_result"
    }
   ],
   "source": [
    "chicken_consum.head()"
   ]
  },
  {
   "cell_type": "markdown",
   "id": "ff790a4c",
   "metadata": {},
   "source": [
    "- Number of rows and columns :"
   ]
  },
  {
   "cell_type": "code",
   "execution_count": 6,
   "id": "7b00a5ae",
   "metadata": {},
   "outputs": [
    {
     "data": {
      "text/plain": [
       "(170, 9)"
      ]
     },
     "execution_count": 6,
     "metadata": {},
     "output_type": "execute_result"
    }
   ],
   "source": [
    "chicken_consum.shape"
   ]
  },
  {
   "cell_type": "markdown",
   "id": "f8ed62a1",
   "metadata": {},
   "source": [
    "- .info display :"
   ]
  },
  {
   "cell_type": "code",
   "execution_count": 7,
   "id": "9e58bc0e",
   "metadata": {},
   "outputs": [
    {
     "name": "stdout",
     "output_type": "stream",
     "text": [
      "<class 'pandas.core.frame.DataFrame'>\n",
      "RangeIndex: 170 entries, 0 to 169\n",
      "Data columns (total 9 columns):\n",
      " #   Column        Non-Null Count  Dtype \n",
      "---  ------        --------------  ----- \n",
      " 0   Code zone     170 non-null    int64 \n",
      " 1   Zone          170 non-null    object\n",
      " 2   Code Élément  170 non-null    int64 \n",
      " 3   Élément       170 non-null    object\n",
      " 4   Code Produit  170 non-null    int64 \n",
      " 5   Produit       170 non-null    object\n",
      " 6   Année         170 non-null    int64 \n",
      " 7   Unité         170 non-null    object\n",
      " 8   Valeur        170 non-null    int64 \n",
      "dtypes: int64(5), object(4)\n",
      "memory usage: 12.1+ KB\n"
     ]
    }
   ],
   "source": [
    "chicken_consum.info()"
   ]
  },
  {
   "cell_type": "markdown",
   "id": "f3361282",
   "metadata": {},
   "source": [
    "- Check null and duplicates values :"
   ]
  },
  {
   "cell_type": "code",
   "execution_count": 8,
   "id": "af61d864",
   "metadata": {},
   "outputs": [
    {
     "name": "stdout",
     "output_type": "stream",
     "text": [
      "The column Code zone does not contain any missing values\n",
      "The column Code zone does not contain duplicates\n"
     ]
    }
   ],
   "source": [
    "check_nan(chicken_consum, \"Code zone\")\n",
    "check_duplicates(chicken_consum, \"Code zone\")"
   ]
  },
  {
   "cell_type": "markdown",
   "id": "42d502ef",
   "metadata": {},
   "source": [
    "<div class=\"alert-success\">\n",
    "    <u>Notice</u> :\n",
    "<i><br><li> Chicken consumption data give information on the chicken consumption of every country in the world : their zone code (primary key), the name of zone and the value of chicken consumption (in thousands of tons)</br></li>\n",
    "<li> There are 170 countries concerned in 2017</li>\n",
    "<li> The data file does not contain any missing value or duplicates on the primary key</li>\n",
    "</i></div>"
   ]
  },
  {
   "cell_type": "markdown",
   "id": "fadd9400",
   "metadata": {},
   "source": [
    "- Values conversion (from thousands of tons to tons) :"
   ]
  },
  {
   "cell_type": "code",
   "execution_count": 9,
   "id": "6a37a2a6",
   "metadata": {},
   "outputs": [],
   "source": [
    "chicken_consum['Valeur'] = chicken_consum['Valeur'] * 1000\n",
    "chicken_consum.rename(columns={\"Valeur\":\"Consommation de poulet (en tonnes)\"}, inplace=True)"
   ]
  },
  {
   "cell_type": "markdown",
   "id": "720f8b48",
   "metadata": {},
   "source": [
    "- Removed some unnecessary columns :"
   ]
  },
  {
   "cell_type": "code",
   "execution_count": 10,
   "id": "4f5c9d4c",
   "metadata": {},
   "outputs": [
    {
     "data": {
      "text/html": [
       "<div>\n",
       "<style scoped>\n",
       "    .dataframe tbody tr th:only-of-type {\n",
       "        vertical-align: middle;\n",
       "    }\n",
       "\n",
       "    .dataframe tbody tr th {\n",
       "        vertical-align: top;\n",
       "    }\n",
       "\n",
       "    .dataframe thead th {\n",
       "        text-align: right;\n",
       "    }\n",
       "</style>\n",
       "<table border=\"1\" class=\"dataframe\">\n",
       "  <thead>\n",
       "    <tr style=\"text-align: right;\">\n",
       "      <th></th>\n",
       "      <th>Code zone</th>\n",
       "      <th>Zone</th>\n",
       "      <th>Consommation de poulet (en tonnes)</th>\n",
       "    </tr>\n",
       "  </thead>\n",
       "  <tbody>\n",
       "    <tr>\n",
       "      <th>0</th>\n",
       "      <td>2</td>\n",
       "      <td>Afghanistan</td>\n",
       "      <td>55000</td>\n",
       "    </tr>\n",
       "    <tr>\n",
       "      <th>1</th>\n",
       "      <td>202</td>\n",
       "      <td>Afrique du Sud</td>\n",
       "      <td>2035000</td>\n",
       "    </tr>\n",
       "    <tr>\n",
       "      <th>2</th>\n",
       "      <td>3</td>\n",
       "      <td>Albanie</td>\n",
       "      <td>47000</td>\n",
       "    </tr>\n",
       "    <tr>\n",
       "      <th>3</th>\n",
       "      <td>4</td>\n",
       "      <td>Algérie</td>\n",
       "      <td>264000</td>\n",
       "    </tr>\n",
       "    <tr>\n",
       "      <th>4</th>\n",
       "      <td>79</td>\n",
       "      <td>Allemagne</td>\n",
       "      <td>1609000</td>\n",
       "    </tr>\n",
       "  </tbody>\n",
       "</table>\n",
       "</div>"
      ],
      "text/plain": [
       "   Code zone            Zone  Consommation de poulet (en tonnes)\n",
       "0          2     Afghanistan                               55000\n",
       "1        202  Afrique du Sud                             2035000\n",
       "2          3         Albanie                               47000\n",
       "3          4         Algérie                              264000\n",
       "4         79       Allemagne                             1609000"
      ]
     },
     "execution_count": 10,
     "metadata": {},
     "output_type": "execute_result"
    }
   ],
   "source": [
    "chicken_consum.drop(columns =['Code Élément', 'Élément', 'Code Produit', 'Produit', 'Année', 'Unité'], inplace=True)\n",
    "chicken_consum.head()"
   ]
  },
  {
   "cell_type": "markdown",
   "id": "ff481fe4",
   "metadata": {},
   "source": [
    "- Outliers on the variable \"Consommation de poulet\" : "
   ]
  },
  {
   "cell_type": "code",
   "execution_count": 11,
   "id": "511fc8ff",
   "metadata": {},
   "outputs": [
    {
     "name": "stdout",
     "output_type": "stream",
     "text": [
      "---------------------------------------------------------------------------------------------------- \n",
      "\n"
     ]
    },
    {
     "data": {
      "image/png": "[encoded data removed]",
      "text/plain": [
       "<Figure size 648x432 with 1 Axes>"
      ]
     },
     "metadata": {
      "needs_background": "light"
     },
     "output_type": "display_data"
    },
    {
     "name": "stdout",
     "output_type": "stream",
     "text": [
      "---------------------------------------------------------------------------------------------------- \n",
      "\n"
     ]
    },
    {
     "data": {
      "text/html": [
       "<div>\n",
       "<style scoped>\n",
       "    .dataframe tbody tr th:only-of-type {\n",
       "        vertical-align: middle;\n",
       "    }\n",
       "\n",
       "    .dataframe tbody tr th {\n",
       "        vertical-align: top;\n",
       "    }\n",
       "\n",
       "    .dataframe thead th {\n",
       "        text-align: right;\n",
       "    }\n",
       "</style>\n",
       "<table border=\"1\" class=\"dataframe\">\n",
       "  <thead>\n",
       "    <tr style=\"text-align: right;\">\n",
       "      <th></th>\n",
       "      <th>Code zone</th>\n",
       "      <th>Zone</th>\n",
       "      <th>Consommation de poulet (en tonnes)</th>\n",
       "      <th>zscore</th>\n",
       "    </tr>\n",
       "  </thead>\n",
       "  <tbody>\n",
       "    <tr>\n",
       "      <th>52</th>\n",
       "      <td>231</td>\n",
       "      <td>États-Unis d'Amérique</td>\n",
       "      <td>18100000</td>\n",
       "      <td>8.164090</td>\n",
       "    </tr>\n",
       "    <tr>\n",
       "      <th>33</th>\n",
       "      <td>41</td>\n",
       "      <td>Chine, continentale</td>\n",
       "      <td>17518000</td>\n",
       "      <td>7.891688</td>\n",
       "    </tr>\n",
       "    <tr>\n",
       "      <th>23</th>\n",
       "      <td>21</td>\n",
       "      <td>Brésil</td>\n",
       "      <td>9982000</td>\n",
       "      <td>4.364499</td>\n",
       "    </tr>\n",
       "  </tbody>\n",
       "</table>\n",
       "</div>"
      ],
      "text/plain": [
       "    Code zone                   Zone  Consommation de poulet (en tonnes)  \\\n",
       "52        231  États-Unis d'Amérique                            18100000   \n",
       "33         41    Chine, continentale                            17518000   \n",
       "23         21                 Brésil                             9982000   \n",
       "\n",
       "      zscore  \n",
       "52  8.164090  \n",
       "33  7.891688  \n",
       "23  4.364499  "
      ]
     },
     "execution_count": 11,
     "metadata": {},
     "output_type": "execute_result"
    }
   ],
   "source": [
    "outliers = chicken_consum.copy()\n",
    "outliers[\"zscore\"] = (outliers[\"Consommation de poulet (en tonnes)\"] - outliers[\"Consommation de poulet (en tonnes)\"].mean())/outliers[\"Consommation de poulet (en tonnes)\"].std()\n",
    "the_ok = outliers[(outliers[\"zscore\"] <= 2) & (outliers[\"zscore\"] >= -2)]\n",
    "the_outliers = outliers[outliers[\"zscore\"].abs() >2];\n",
    "print('-'*100, \"\\n\")\n",
    "plt.figure(figsize=(9,6))\n",
    "sns.scatterplot(x=the_ok[\"Consommation de poulet (en tonnes)\"].index, y=the_ok[\"Consommation de poulet (en tonnes)\"].values,)\n",
    "sns.scatterplot(x=the_outliers[\"Consommation de poulet (en tonnes)\"].index, y=the_outliers[\"Consommation de poulet (en tonnes)\"].values)\n",
    "plt.title('Outliers graphic representation')\n",
    "plt.savefig(\"Part1.Outliers graphic representation on chicken consumption.png\", bbox_inches='tight')\n",
    "plt.show()\n",
    "print('-'*100, \"\\n\")\n",
    "the_outliers.sort_values(by=[\"zscore\"], ascending=False)"
   ]
  },
  {
   "cell_type": "markdown",
   "id": "dff13272",
   "metadata": {},
   "source": [
    "<div class=\"alert-warning\">\n",
    "    <u>Warning</u> :\n",
    "<i><br><li> Number of outliers detected : 3</br></li>\n",
    "<i><li> The biggest consumers of chicken in the world are : the USA, China and Brazil</li>\n",
    "</i></div>"
   ]
  },
  {
   "cell_type": "markdown",
   "id": "d877e2f0",
   "metadata": {},
   "source": [
    " <a id='another_cell_b'></a>\n"
   ]
  },
  {
   "cell_type": "markdown",
   "id": "7a86823f",
   "metadata": {},
   "source": [
    "#### 2. [chicken_availibility.csv](http://localhost:8888/edit/chicken_avail_2017.csv) : exploration and data cleaning"
   ]
  },
  {
   "cell_type": "markdown",
   "id": "82925741",
   "metadata": {},
   "source": [
    "- Loading file:"
   ]
  },
  {
   "cell_type": "code",
   "execution_count": 12,
   "id": "38e7d46c",
   "metadata": {},
   "outputs": [],
   "source": [
    "chicken_avail = pd.read_csv('chicken_avail_2017.csv', sep=';')"
   ]
  },
  {
   "cell_type": "markdown",
   "id": "8932303b",
   "metadata": {},
   "source": [
    "- First 5 rows display :"
   ]
  },
  {
   "cell_type": "code",
   "execution_count": 13,
   "id": "05ce6096",
   "metadata": {},
   "outputs": [
    {
     "data": {
      "text/html": [
       "<div>\n",
       "<style scoped>\n",
       "    .dataframe tbody tr th:only-of-type {\n",
       "        vertical-align: middle;\n",
       "    }\n",
       "\n",
       "    .dataframe tbody tr th {\n",
       "        vertical-align: top;\n",
       "    }\n",
       "\n",
       "    .dataframe thead th {\n",
       "        text-align: right;\n",
       "    }\n",
       "</style>\n",
       "<table border=\"1\" class=\"dataframe\">\n",
       "  <thead>\n",
       "    <tr style=\"text-align: right;\">\n",
       "      <th></th>\n",
       "      <th>Code zone</th>\n",
       "      <th>Zone</th>\n",
       "      <th>Code Élément</th>\n",
       "      <th>Élément</th>\n",
       "      <th>Produit</th>\n",
       "      <th>Année</th>\n",
       "      <th>Unité</th>\n",
       "      <th>Valeur</th>\n",
       "    </tr>\n",
       "  </thead>\n",
       "  <tbody>\n",
       "    <tr>\n",
       "      <th>0</th>\n",
       "      <td>2</td>\n",
       "      <td>Afghanistan</td>\n",
       "      <td>5301</td>\n",
       "      <td>Disponibilité intérieure</td>\n",
       "      <td>Viande de Volailles</td>\n",
       "      <td>2017</td>\n",
       "      <td>Milliers de tonnes</td>\n",
       "      <td>57</td>\n",
       "    </tr>\n",
       "    <tr>\n",
       "      <th>1</th>\n",
       "      <td>202</td>\n",
       "      <td>Afrique du Sud</td>\n",
       "      <td>5301</td>\n",
       "      <td>Disponibilité intérieure</td>\n",
       "      <td>Viande de Volailles</td>\n",
       "      <td>2017</td>\n",
       "      <td>Milliers de tonnes</td>\n",
       "      <td>2118</td>\n",
       "    </tr>\n",
       "    <tr>\n",
       "      <th>2</th>\n",
       "      <td>3</td>\n",
       "      <td>Albanie</td>\n",
       "      <td>5301</td>\n",
       "      <td>Disponibilité intérieure</td>\n",
       "      <td>Viande de Volailles</td>\n",
       "      <td>2017</td>\n",
       "      <td>Milliers de tonnes</td>\n",
       "      <td>47</td>\n",
       "    </tr>\n",
       "    <tr>\n",
       "      <th>3</th>\n",
       "      <td>4</td>\n",
       "      <td>Algérie</td>\n",
       "      <td>5301</td>\n",
       "      <td>Disponibilité intérieure</td>\n",
       "      <td>Viande de Volailles</td>\n",
       "      <td>2017</td>\n",
       "      <td>Milliers de tonnes</td>\n",
       "      <td>277</td>\n",
       "    </tr>\n",
       "    <tr>\n",
       "      <th>4</th>\n",
       "      <td>79</td>\n",
       "      <td>Allemagne</td>\n",
       "      <td>5301</td>\n",
       "      <td>Disponibilité intérieure</td>\n",
       "      <td>Viande de Volailles</td>\n",
       "      <td>2017</td>\n",
       "      <td>Milliers de tonnes</td>\n",
       "      <td>1739</td>\n",
       "    </tr>\n",
       "  </tbody>\n",
       "</table>\n",
       "</div>"
      ],
      "text/plain": [
       "   Code zone            Zone  Code Élément                   Élément  \\\n",
       "0          2     Afghanistan          5301  Disponibilité intérieure   \n",
       "1        202  Afrique du Sud          5301  Disponibilité intérieure   \n",
       "2          3         Albanie          5301  Disponibilité intérieure   \n",
       "3          4         Algérie          5301  Disponibilité intérieure   \n",
       "4         79       Allemagne          5301  Disponibilité intérieure   \n",
       "\n",
       "               Produit  Année               Unité  Valeur  \n",
       "0  Viande de Volailles   2017  Milliers de tonnes      57  \n",
       "1  Viande de Volailles   2017  Milliers de tonnes    2118  \n",
       "2  Viande de Volailles   2017  Milliers de tonnes      47  \n",
       "3  Viande de Volailles   2017  Milliers de tonnes     277  \n",
       "4  Viande de Volailles   2017  Milliers de tonnes    1739  "
      ]
     },
     "execution_count": 13,
     "metadata": {},
     "output_type": "execute_result"
    }
   ],
   "source": [
    "chicken_avail.head()"
   ]
  },
  {
   "cell_type": "markdown",
   "id": "6769255d",
   "metadata": {},
   "source": [
    "- Number of rows and columns :"
   ]
  },
  {
   "cell_type": "code",
   "execution_count": 14,
   "id": "50473c0c",
   "metadata": {},
   "outputs": [
    {
     "data": {
      "text/plain": [
       "(170, 8)"
      ]
     },
     "execution_count": 14,
     "metadata": {},
     "output_type": "execute_result"
    }
   ],
   "source": [
    "chicken_avail.shape"
   ]
  },
  {
   "cell_type": "markdown",
   "id": "f368d0e4",
   "metadata": {},
   "source": [
    "- .info display :"
   ]
  },
  {
   "cell_type": "code",
   "execution_count": 15,
   "id": "e02bda03",
   "metadata": {},
   "outputs": [
    {
     "name": "stdout",
     "output_type": "stream",
     "text": [
      "<class 'pandas.core.frame.DataFrame'>\n",
      "RangeIndex: 170 entries, 0 to 169\n",
      "Data columns (total 8 columns):\n",
      " #   Column        Non-Null Count  Dtype \n",
      "---  ------        --------------  ----- \n",
      " 0   Code zone     170 non-null    int64 \n",
      " 1   Zone          170 non-null    object\n",
      " 2   Code Élément  170 non-null    int64 \n",
      " 3   Élément       170 non-null    object\n",
      " 4   Produit       170 non-null    object\n",
      " 5   Année         170 non-null    int64 \n",
      " 6   Unité         170 non-null    object\n",
      " 7   Valeur        170 non-null    int64 \n",
      "dtypes: int64(4), object(4)\n",
      "memory usage: 10.8+ KB\n"
     ]
    }
   ],
   "source": [
    "chicken_avail.info()"
   ]
  },
  {
   "cell_type": "markdown",
   "id": "83049c2f",
   "metadata": {},
   "source": [
    "- Check missing and duplicate values :"
   ]
  },
  {
   "cell_type": "code",
   "execution_count": 16,
   "id": "b905e20c",
   "metadata": {},
   "outputs": [
    {
     "name": "stdout",
     "output_type": "stream",
     "text": [
      "The column Code zone does not contain any missing values\n",
      "The column Code zone does not contain duplicates\n"
     ]
    }
   ],
   "source": [
    "check_nan(chicken_avail, \"Code zone\")\n",
    "check_duplicates(chicken_avail,\"Code zone\")"
   ]
  },
  {
   "cell_type": "markdown",
   "id": "be4e40c3",
   "metadata": {},
   "source": [
    "<div class=\"alert-success\">\n",
    "    <u>Notice</u> :\n",
    "<i><br><li> Chicken availibility data give information on the chicken availibility of every country in the world : their zone code (primary key), the name of zone and the value of chicken availibility (in thousands of tons)</br></li>\n",
    "<li> There are 170 countries concerned in 2017</li>\n",
    "<li> The data file does not contain any missing value or duplicates on the primary key</li>\n",
    "</i></div>"
   ]
  },
  {
   "cell_type": "markdown",
   "id": "64658f56",
   "metadata": {},
   "source": [
    "- Values conversion (from thousands of tons to tons) :"
   ]
  },
  {
   "cell_type": "code",
   "execution_count": 17,
   "id": "58d8dd80",
   "metadata": {},
   "outputs": [],
   "source": [
    "chicken_avail['Valeur'] = chicken_avail['Valeur'] * 1000\n",
    "chicken_avail.rename(columns={\"Valeur\":\"Disponibilité de poulet (en tonnes)\"}, inplace=True)"
   ]
  },
  {
   "cell_type": "markdown",
   "id": "e0983f75",
   "metadata": {},
   "source": [
    "- Removed some unnecessary columns :"
   ]
  },
  {
   "cell_type": "code",
   "execution_count": 18,
   "id": "d6d7a944",
   "metadata": {},
   "outputs": [
    {
     "data": {
      "text/html": [
       "<div>\n",
       "<style scoped>\n",
       "    .dataframe tbody tr th:only-of-type {\n",
       "        vertical-align: middle;\n",
       "    }\n",
       "\n",
       "    .dataframe tbody tr th {\n",
       "        vertical-align: top;\n",
       "    }\n",
       "\n",
       "    .dataframe thead th {\n",
       "        text-align: right;\n",
       "    }\n",
       "</style>\n",
       "<table border=\"1\" class=\"dataframe\">\n",
       "  <thead>\n",
       "    <tr style=\"text-align: right;\">\n",
       "      <th></th>\n",
       "      <th>Code zone</th>\n",
       "      <th>Disponibilité de poulet (en tonnes)</th>\n",
       "    </tr>\n",
       "  </thead>\n",
       "  <tbody>\n",
       "    <tr>\n",
       "      <th>0</th>\n",
       "      <td>2</td>\n",
       "      <td>57000</td>\n",
       "    </tr>\n",
       "    <tr>\n",
       "      <th>1</th>\n",
       "      <td>202</td>\n",
       "      <td>2118000</td>\n",
       "    </tr>\n",
       "    <tr>\n",
       "      <th>2</th>\n",
       "      <td>3</td>\n",
       "      <td>47000</td>\n",
       "    </tr>\n",
       "    <tr>\n",
       "      <th>3</th>\n",
       "      <td>4</td>\n",
       "      <td>277000</td>\n",
       "    </tr>\n",
       "    <tr>\n",
       "      <th>4</th>\n",
       "      <td>79</td>\n",
       "      <td>1739000</td>\n",
       "    </tr>\n",
       "  </tbody>\n",
       "</table>\n",
       "</div>"
      ],
      "text/plain": [
       "   Code zone  Disponibilité de poulet (en tonnes)\n",
       "0          2                                57000\n",
       "1        202                              2118000\n",
       "2          3                                47000\n",
       "3          4                               277000\n",
       "4         79                              1739000"
      ]
     },
     "execution_count": 18,
     "metadata": {},
     "output_type": "execute_result"
    }
   ],
   "source": [
    "chicken_avail.drop(columns =['Zone', 'Code Élément', 'Élément', 'Produit', 'Année', 'Unité'], inplace=True)\n",
    "chicken_avail.head()"
   ]
  },
  {
   "cell_type": "markdown",
   "id": "721ac024",
   "metadata": {},
   "source": [
    "- Outliers on the variable \"Disponibilité de poulet\" : "
   ]
  },
  {
   "cell_type": "code",
   "execution_count": 19,
   "id": "a9bb8827",
   "metadata": {},
   "outputs": [
    {
     "name": "stdout",
     "output_type": "stream",
     "text": [
      "---------------------------------------------------------------------------------------------------- \n",
      "\n"
     ]
    },
    {
     "data": {
      "image/png": "[encoded data removed]",
      "text/plain": [
       "<Figure size 648x432 with 1 Axes>"
      ]
     },
     "metadata": {
      "needs_background": "light"
     },
     "output_type": "display_data"
    },
    {
     "name": "stdout",
     "output_type": "stream",
     "text": [
      "---------------------------------------------------------------------------------------------------- \n",
      "\n"
     ]
    },
    {
     "data": {
      "text/html": [
       "<div>\n",
       "<style scoped>\n",
       "    .dataframe tbody tr th:only-of-type {\n",
       "        vertical-align: middle;\n",
       "    }\n",
       "\n",
       "    .dataframe tbody tr th {\n",
       "        vertical-align: top;\n",
       "    }\n",
       "\n",
       "    .dataframe thead th {\n",
       "        text-align: right;\n",
       "    }\n",
       "</style>\n",
       "<table border=\"1\" class=\"dataframe\">\n",
       "  <thead>\n",
       "    <tr style=\"text-align: right;\">\n",
       "      <th></th>\n",
       "      <th>Code zone</th>\n",
       "      <th>Disponibilité de poulet (en tonnes)</th>\n",
       "      <th>zscore</th>\n",
       "    </tr>\n",
       "  </thead>\n",
       "  <tbody>\n",
       "    <tr>\n",
       "      <th>52</th>\n",
       "      <td>231</td>\n",
       "      <td>18266000</td>\n",
       "      <td>8.037001</td>\n",
       "    </tr>\n",
       "    <tr>\n",
       "      <th>33</th>\n",
       "      <td>41</td>\n",
       "      <td>18161000</td>\n",
       "      <td>7.988994</td>\n",
       "    </tr>\n",
       "    <tr>\n",
       "      <th>23</th>\n",
       "      <td>21</td>\n",
       "      <td>9982000</td>\n",
       "      <td>4.249484</td>\n",
       "    </tr>\n",
       "  </tbody>\n",
       "</table>\n",
       "</div>"
      ],
      "text/plain": [
       "    Code zone  Disponibilité de poulet (en tonnes)    zscore\n",
       "52        231                             18266000  8.037001\n",
       "33         41                             18161000  7.988994\n",
       "23         21                              9982000  4.249484"
      ]
     },
     "execution_count": 19,
     "metadata": {},
     "output_type": "execute_result"
    }
   ],
   "source": [
    "outliers = chicken_avail.copy()\n",
    "outliers[\"zscore\"] = (outliers[\"Disponibilité de poulet (en tonnes)\"] - outliers[\"Disponibilité de poulet (en tonnes)\"].mean())/outliers[\"Disponibilité de poulet (en tonnes)\"].std()\n",
    "the_ok = outliers[(outliers[\"zscore\"] <= 2) & (outliers[\"zscore\"] >= -2)]\n",
    "the_outliers = outliers[outliers[\"zscore\"].abs() >2];\n",
    "print('-'*100, \"\\n\")\n",
    "plt.figure(figsize=(9,6))\n",
    "sns.scatterplot(x=the_ok[\"Disponibilité de poulet (en tonnes)\"].index, y=the_ok[\"Disponibilité de poulet (en tonnes)\"].values,)\n",
    "sns.scatterplot(x=the_outliers[\"Disponibilité de poulet (en tonnes)\"].index, y=the_outliers[\"Disponibilité de poulet (en tonnes)\"].values)\n",
    "plt.title('Outliers graphic representation')\n",
    "plt.savefig(\"Part1.Outliers graphic representation on chicken availibility.png\", bbox_inches='tight')\n",
    "plt.show()\n",
    "print('-'*100, \"\\n\")\n",
    "the_outliers.sort_values(by=[\"zscore\"], ascending=False)"
   ]
  },
  {
   "cell_type": "markdown",
   "id": "658374cb",
   "metadata": {},
   "source": [
    "<div class=\"alert-warning\">\n",
    "    <u>Warning</u> :\n",
    "<i><br><li> Number of outliers detected : 3</br></li>\n",
    "<i><li> The biggest availibility of chicken in the world are in : the USA, China and Brazil</li>\n",
    "</i></div>"
   ]
  },
  {
   "cell_type": "markdown",
   "id": "32d1ace9",
   "metadata": {},
   "source": [
    "  <a id='another_cell_c'></a>"
   ]
  },
  {
   "cell_type": "markdown",
   "id": "59d67a9f",
   "metadata": {},
   "source": [
    "#### 3. [chicken_availibility_per_habitant.csv](http://localhost:8888/edit/chicken_avail_per_hab_2017.csv) : exploration and data cleaning\n"
   ]
  },
  {
   "cell_type": "markdown",
   "id": "2c06c344",
   "metadata": {},
   "source": [
    "- Loading file:"
   ]
  },
  {
   "cell_type": "code",
   "execution_count": 20,
   "id": "afa04da3",
   "metadata": {},
   "outputs": [],
   "source": [
    "chicken_avail_per_hab = pd.read_csv('chicken_avail_per_hab_2017.csv', sep=';')"
   ]
  },
  {
   "cell_type": "markdown",
   "id": "61799f36",
   "metadata": {},
   "source": [
    "- First 5 rows display :"
   ]
  },
  {
   "cell_type": "code",
   "execution_count": 21,
   "id": "928ed6c2",
   "metadata": {},
   "outputs": [
    {
     "data": {
      "text/html": [
       "<div>\n",
       "<style scoped>\n",
       "    .dataframe tbody tr th:only-of-type {\n",
       "        vertical-align: middle;\n",
       "    }\n",
       "\n",
       "    .dataframe tbody tr th {\n",
       "        vertical-align: top;\n",
       "    }\n",
       "\n",
       "    .dataframe thead th {\n",
       "        text-align: right;\n",
       "    }\n",
       "</style>\n",
       "<table border=\"1\" class=\"dataframe\">\n",
       "  <thead>\n",
       "    <tr style=\"text-align: right;\">\n",
       "      <th></th>\n",
       "      <th>Code zone</th>\n",
       "      <th>Zone</th>\n",
       "      <th>Code Élément</th>\n",
       "      <th>Élément</th>\n",
       "      <th>Produit</th>\n",
       "      <th>Année</th>\n",
       "      <th>Unité</th>\n",
       "      <th>Valeur</th>\n",
       "    </tr>\n",
       "  </thead>\n",
       "  <tbody>\n",
       "    <tr>\n",
       "      <th>0</th>\n",
       "      <td>2</td>\n",
       "      <td>Afghanistan</td>\n",
       "      <td>645</td>\n",
       "      <td>Disponibilité alimentaire en quantité (kg/pers...</td>\n",
       "      <td>Viande de Volailles</td>\n",
       "      <td>2017</td>\n",
       "      <td>kg</td>\n",
       "      <td>1.53</td>\n",
       "    </tr>\n",
       "    <tr>\n",
       "      <th>1</th>\n",
       "      <td>202</td>\n",
       "      <td>Afrique du Sud</td>\n",
       "      <td>645</td>\n",
       "      <td>Disponibilité alimentaire en quantité (kg/pers...</td>\n",
       "      <td>Viande de Volailles</td>\n",
       "      <td>2017</td>\n",
       "      <td>kg</td>\n",
       "      <td>35.69</td>\n",
       "    </tr>\n",
       "    <tr>\n",
       "      <th>2</th>\n",
       "      <td>3</td>\n",
       "      <td>Albanie</td>\n",
       "      <td>645</td>\n",
       "      <td>Disponibilité alimentaire en quantité (kg/pers...</td>\n",
       "      <td>Viande de Volailles</td>\n",
       "      <td>2017</td>\n",
       "      <td>kg</td>\n",
       "      <td>16.36</td>\n",
       "    </tr>\n",
       "    <tr>\n",
       "      <th>3</th>\n",
       "      <td>4</td>\n",
       "      <td>Algérie</td>\n",
       "      <td>645</td>\n",
       "      <td>Disponibilité alimentaire en quantité (kg/pers...</td>\n",
       "      <td>Viande de Volailles</td>\n",
       "      <td>2017</td>\n",
       "      <td>kg</td>\n",
       "      <td>6.38</td>\n",
       "    </tr>\n",
       "    <tr>\n",
       "      <th>4</th>\n",
       "      <td>79</td>\n",
       "      <td>Allemagne</td>\n",
       "      <td>645</td>\n",
       "      <td>Disponibilité alimentaire en quantité (kg/pers...</td>\n",
       "      <td>Viande de Volailles</td>\n",
       "      <td>2017</td>\n",
       "      <td>kg</td>\n",
       "      <td>19.47</td>\n",
       "    </tr>\n",
       "  </tbody>\n",
       "</table>\n",
       "</div>"
      ],
      "text/plain": [
       "   Code zone            Zone  Code Élément  \\\n",
       "0          2     Afghanistan           645   \n",
       "1        202  Afrique du Sud           645   \n",
       "2          3         Albanie           645   \n",
       "3          4         Algérie           645   \n",
       "4         79       Allemagne           645   \n",
       "\n",
       "                                             Élément              Produit  \\\n",
       "0  Disponibilité alimentaire en quantité (kg/pers...  Viande de Volailles   \n",
       "1  Disponibilité alimentaire en quantité (kg/pers...  Viande de Volailles   \n",
       "2  Disponibilité alimentaire en quantité (kg/pers...  Viande de Volailles   \n",
       "3  Disponibilité alimentaire en quantité (kg/pers...  Viande de Volailles   \n",
       "4  Disponibilité alimentaire en quantité (kg/pers...  Viande de Volailles   \n",
       "\n",
       "   Année Unité  Valeur  \n",
       "0   2017    kg    1.53  \n",
       "1   2017    kg   35.69  \n",
       "2   2017    kg   16.36  \n",
       "3   2017    kg    6.38  \n",
       "4   2017    kg   19.47  "
      ]
     },
     "execution_count": 21,
     "metadata": {},
     "output_type": "execute_result"
    }
   ],
   "source": [
    "chicken_avail_per_hab.head()"
   ]
  },
  {
   "cell_type": "markdown",
   "id": "1c288812",
   "metadata": {},
   "source": [
    "- Number of rows and columns :"
   ]
  },
  {
   "cell_type": "code",
   "execution_count": 22,
   "id": "7bfa1dce",
   "metadata": {},
   "outputs": [
    {
     "data": {
      "text/plain": [
       "(172, 8)"
      ]
     },
     "execution_count": 22,
     "metadata": {},
     "output_type": "execute_result"
    }
   ],
   "source": [
    "chicken_avail_per_hab.shape"
   ]
  },
  {
   "cell_type": "markdown",
   "id": "3591f866",
   "metadata": {},
   "source": [
    "- .info display :"
   ]
  },
  {
   "cell_type": "code",
   "execution_count": 23,
   "id": "40cad71c",
   "metadata": {},
   "outputs": [
    {
     "name": "stdout",
     "output_type": "stream",
     "text": [
      "<class 'pandas.core.frame.DataFrame'>\n",
      "RangeIndex: 172 entries, 0 to 171\n",
      "Data columns (total 8 columns):\n",
      " #   Column        Non-Null Count  Dtype  \n",
      "---  ------        --------------  -----  \n",
      " 0   Code zone     172 non-null    int64  \n",
      " 1   Zone          172 non-null    object \n",
      " 2   Code Élément  172 non-null    int64  \n",
      " 3   Élément       172 non-null    object \n",
      " 4   Produit       172 non-null    object \n",
      " 5   Année         172 non-null    int64  \n",
      " 6   Unité         172 non-null    object \n",
      " 7   Valeur        172 non-null    float64\n",
      "dtypes: float64(1), int64(3), object(4)\n",
      "memory usage: 10.9+ KB\n"
     ]
    }
   ],
   "source": [
    "chicken_avail_per_hab.info()"
   ]
  },
  {
   "cell_type": "markdown",
   "id": "add85f57",
   "metadata": {},
   "source": [
    "- Check missing and duplicate values :"
   ]
  },
  {
   "cell_type": "code",
   "execution_count": 24,
   "id": "94817129",
   "metadata": {},
   "outputs": [
    {
     "name": "stdout",
     "output_type": "stream",
     "text": [
      "The column Code zone does not contain any missing values\n",
      "The column Code zone does not contain duplicates\n"
     ]
    }
   ],
   "source": [
    "check_nan(chicken_avail_per_hab, \"Code zone\")\n",
    "check_duplicates(chicken_avail_per_hab,\"Code zone\")"
   ]
  },
  {
   "cell_type": "markdown",
   "id": "ff59b2f2",
   "metadata": {},
   "source": [
    "<div class=\"alert-success\">\n",
    "    <u>Notice</u> :\n",
    "<i><br><li> Chicken availibility per habitant data give information on the chicken average availibility per habitant of every country in the world : their zone code (primary key), the name of zone and the value of chicken average availibility per habitant (in kg)</br></li>\n",
    "<li> There are 172 countries concerned in 2017</li>\n",
    "<li> The data file does not contain any missing value or duplicates on the primary key</li>\n",
    "</i></div>"
   ]
  },
  {
   "cell_type": "markdown",
   "id": "899a6e78",
   "metadata": {},
   "source": [
    "- Rename the last column :"
   ]
  },
  {
   "cell_type": "code",
   "execution_count": 25,
   "id": "12a61525",
   "metadata": {},
   "outputs": [],
   "source": [
    "chicken_avail_per_hab.rename(columns={\"Valeur\":\"Disponibilité alimentaire moyenne par habitant (en kg)\"}, inplace=True)"
   ]
  },
  {
   "cell_type": "markdown",
   "id": "a28c340f",
   "metadata": {},
   "source": [
    "- Removed some unnecessary columns :"
   ]
  },
  {
   "cell_type": "code",
   "execution_count": 26,
   "id": "b5dfe32e",
   "metadata": {},
   "outputs": [
    {
     "data": {
      "text/html": [
       "<div>\n",
       "<style scoped>\n",
       "    .dataframe tbody tr th:only-of-type {\n",
       "        vertical-align: middle;\n",
       "    }\n",
       "\n",
       "    .dataframe tbody tr th {\n",
       "        vertical-align: top;\n",
       "    }\n",
       "\n",
       "    .dataframe thead th {\n",
       "        text-align: right;\n",
       "    }\n",
       "</style>\n",
       "<table border=\"1\" class=\"dataframe\">\n",
       "  <thead>\n",
       "    <tr style=\"text-align: right;\">\n",
       "      <th></th>\n",
       "      <th>Code zone</th>\n",
       "      <th>Disponibilité alimentaire moyenne par habitant (en kg)</th>\n",
       "    </tr>\n",
       "  </thead>\n",
       "  <tbody>\n",
       "    <tr>\n",
       "      <th>0</th>\n",
       "      <td>2</td>\n",
       "      <td>1.53</td>\n",
       "    </tr>\n",
       "    <tr>\n",
       "      <th>1</th>\n",
       "      <td>202</td>\n",
       "      <td>35.69</td>\n",
       "    </tr>\n",
       "    <tr>\n",
       "      <th>2</th>\n",
       "      <td>3</td>\n",
       "      <td>16.36</td>\n",
       "    </tr>\n",
       "    <tr>\n",
       "      <th>3</th>\n",
       "      <td>4</td>\n",
       "      <td>6.38</td>\n",
       "    </tr>\n",
       "    <tr>\n",
       "      <th>4</th>\n",
       "      <td>79</td>\n",
       "      <td>19.47</td>\n",
       "    </tr>\n",
       "  </tbody>\n",
       "</table>\n",
       "</div>"
      ],
      "text/plain": [
       "   Code zone  Disponibilité alimentaire moyenne par habitant (en kg)\n",
       "0          2                                               1.53     \n",
       "1        202                                              35.69     \n",
       "2          3                                              16.36     \n",
       "3          4                                               6.38     \n",
       "4         79                                              19.47     "
      ]
     },
     "execution_count": 26,
     "metadata": {},
     "output_type": "execute_result"
    }
   ],
   "source": [
    "chicken_avail_per_hab.drop(columns =['Zone', 'Code Élément', 'Élément', 'Produit', 'Année', 'Unité'], inplace=True)\n",
    "chicken_avail_per_hab.head()"
   ]
  },
  {
   "cell_type": "markdown",
   "id": "7ca46e2b",
   "metadata": {},
   "source": [
    "- Outliers on the variable \"Disponibilité alimentaire moyenne par habitant\" :"
   ]
  },
  {
   "cell_type": "code",
   "execution_count": 27,
   "id": "cb21167e",
   "metadata": {},
   "outputs": [
    {
     "name": "stdout",
     "output_type": "stream",
     "text": [
      "---------------------------------------------------------------------------------------------------- \n",
      "\n"
     ]
    },
    {
     "data": {
      "image/png": "[encoded data removed]",
      "text/plain": [
       "<Figure size 648x432 with 1 Axes>"
      ]
     },
     "metadata": {
      "needs_background": "light"
     },
     "output_type": "display_data"
    },
    {
     "name": "stdout",
     "output_type": "stream",
     "text": [
      "---------------------------------------------------------------------------------------------------- \n",
      "\n"
     ]
    },
    {
     "data": {
      "text/html": [
       "<div>\n",
       "<style scoped>\n",
       "    .dataframe tbody tr th:only-of-type {\n",
       "        vertical-align: middle;\n",
       "    }\n",
       "\n",
       "    .dataframe tbody tr th {\n",
       "        vertical-align: top;\n",
       "    }\n",
       "\n",
       "    .dataframe thead th {\n",
       "        text-align: right;\n",
       "    }\n",
       "</style>\n",
       "<table border=\"1\" class=\"dataframe\">\n",
       "  <thead>\n",
       "    <tr style=\"text-align: right;\">\n",
       "      <th></th>\n",
       "      <th>Code zone</th>\n",
       "      <th>Disponibilité alimentaire moyenne par habitant (en kg)</th>\n",
       "      <th>zscore</th>\n",
       "    </tr>\n",
       "  </thead>\n",
       "  <tbody>\n",
       "    <tr>\n",
       "      <th>141</th>\n",
       "      <td>191</td>\n",
       "      <td>72.31</td>\n",
       "      <td>3.284717</td>\n",
       "    </tr>\n",
       "    <tr>\n",
       "      <th>78</th>\n",
       "      <td>105</td>\n",
       "      <td>67.39</td>\n",
       "      <td>2.974508</td>\n",
       "    </tr>\n",
       "    <tr>\n",
       "      <th>142</th>\n",
       "      <td>244</td>\n",
       "      <td>64.77</td>\n",
       "      <td>2.809316</td>\n",
       "    </tr>\n",
       "    <tr>\n",
       "      <th>139</th>\n",
       "      <td>189</td>\n",
       "      <td>56.69</td>\n",
       "      <td>2.299868</td>\n",
       "    </tr>\n",
       "    <tr>\n",
       "      <th>140</th>\n",
       "      <td>188</td>\n",
       "      <td>55.77</td>\n",
       "      <td>2.241862</td>\n",
       "    </tr>\n",
       "    <tr>\n",
       "      <th>52</th>\n",
       "      <td>231</td>\n",
       "      <td>55.68</td>\n",
       "      <td>2.236187</td>\n",
       "    </tr>\n",
       "    <tr>\n",
       "      <th>160</th>\n",
       "      <td>220</td>\n",
       "      <td>54.54</td>\n",
       "      <td>2.164310</td>\n",
       "    </tr>\n",
       "    <tr>\n",
       "      <th>6</th>\n",
       "      <td>8</td>\n",
       "      <td>54.10</td>\n",
       "      <td>2.136568</td>\n",
       "    </tr>\n",
       "    <tr>\n",
       "      <th>31</th>\n",
       "      <td>96</td>\n",
       "      <td>53.51</td>\n",
       "      <td>2.099368</td>\n",
       "    </tr>\n",
       "  </tbody>\n",
       "</table>\n",
       "</div>"
      ],
      "text/plain": [
       "     Code zone  Disponibilité alimentaire moyenne par habitant (en kg)  \\\n",
       "141        191                                              72.31        \n",
       "78         105                                              67.39        \n",
       "142        244                                              64.77        \n",
       "139        189                                              56.69        \n",
       "140        188                                              55.77        \n",
       "52         231                                              55.68        \n",
       "160        220                                              54.54        \n",
       "6            8                                              54.10        \n",
       "31          96                                              53.51        \n",
       "\n",
       "       zscore  \n",
       "141  3.284717  \n",
       "78   2.974508  \n",
       "142  2.809316  \n",
       "139  2.299868  \n",
       "140  2.241862  \n",
       "52   2.236187  \n",
       "160  2.164310  \n",
       "6    2.136568  \n",
       "31   2.099368  "
      ]
     },
     "execution_count": 27,
     "metadata": {},
     "output_type": "execute_result"
    }
   ],
   "source": [
    "outliers = chicken_avail_per_hab.copy()\n",
    "outliers[\"zscore\"] = (outliers[\"Disponibilité alimentaire moyenne par habitant (en kg)\"] - outliers[\"Disponibilité alimentaire moyenne par habitant (en kg)\"].mean())/outliers[\"Disponibilité alimentaire moyenne par habitant (en kg)\"].std()\n",
    "the_ok = outliers[(outliers[\"zscore\"] <= 2) & (outliers[\"zscore\"] >= -2)]\n",
    "the_outliers = outliers[outliers[\"zscore\"].abs() >2];\n",
    "print('-'*100, \"\\n\")\n",
    "plt.figure(figsize=(9,6))\n",
    "sns.scatterplot(x=the_ok[\"Disponibilité alimentaire moyenne par habitant (en kg)\"].index, y=the_ok[\"Disponibilité alimentaire moyenne par habitant (en kg)\"].values,)\n",
    "sns.scatterplot(x=the_outliers[\"Disponibilité alimentaire moyenne par habitant (en kg)\"].index, y=the_outliers[\"Disponibilité alimentaire moyenne par habitant (en kg)\"].values)\n",
    "plt.title('Outliers graphic representation')\n",
    "plt.savefig(\"Part1.Outliers graphic representation on chicken availibility per habitant.png\", bbox_inches='tight')\n",
    "plt.show()\n",
    "print('-'*100, \"\\n\")\n",
    "the_outliers.sort_values(by=[\"zscore\"], ascending=False)"
   ]
  },
  {
   "cell_type": "code",
   "execution_count": 28,
   "id": "9e9ee9bf",
   "metadata": {},
   "outputs": [
    {
     "name": "stdout",
     "output_type": "stream",
     "text": [
      "Numbers of outliers detected : 9\n"
     ]
    }
   ],
   "source": [
    "print(\"Numbers of outliers detected :\", len(the_outliers))"
   ]
  },
  {
   "cell_type": "markdown",
   "id": "7b1af002",
   "metadata": {},
   "source": [
    "<div class=\"alert-warning\">\n",
    "    <u>Warning</u> :\n",
    "<i><br><li> Number of outliers detected : 9</br></li>\n",
    "<i><li> The countries concerned are moslty islands, Israel, USA and China</li>\n",
    "</i></div>"
   ]
  },
  {
   "cell_type": "markdown",
   "id": "0121f28e",
   "metadata": {},
   "source": [
    "<a id='another_cell_d'></a>"
   ]
  },
  {
   "cell_type": "markdown",
   "id": "9ef23df8",
   "metadata": {},
   "source": [
    "#### 4. [chicken_production.csv](http://localhost:8888/edit/chicken_prod_2017.csv) : exploration and data cleaning"
   ]
  },
  {
   "cell_type": "markdown",
   "id": "c581d561",
   "metadata": {},
   "source": [
    "- Loading file:"
   ]
  },
  {
   "cell_type": "code",
   "execution_count": 29,
   "id": "dc2d6400",
   "metadata": {},
   "outputs": [],
   "source": [
    "chicken_prod = pd.read_csv('chicken_prod_2017.csv', sep=';')"
   ]
  },
  {
   "cell_type": "markdown",
   "id": "cf592e81",
   "metadata": {},
   "source": [
    "- First 5 rows display :"
   ]
  },
  {
   "cell_type": "code",
   "execution_count": 30,
   "id": "610b1e49",
   "metadata": {},
   "outputs": [
    {
     "data": {
      "text/html": [
       "<div>\n",
       "<style scoped>\n",
       "    .dataframe tbody tr th:only-of-type {\n",
       "        vertical-align: middle;\n",
       "    }\n",
       "\n",
       "    .dataframe tbody tr th {\n",
       "        vertical-align: top;\n",
       "    }\n",
       "\n",
       "    .dataframe thead th {\n",
       "        text-align: right;\n",
       "    }\n",
       "</style>\n",
       "<table border=\"1\" class=\"dataframe\">\n",
       "  <thead>\n",
       "    <tr style=\"text-align: right;\">\n",
       "      <th></th>\n",
       "      <th>Code zone</th>\n",
       "      <th>Zone</th>\n",
       "      <th>Code Élément</th>\n",
       "      <th>Élément</th>\n",
       "      <th>Produit</th>\n",
       "      <th>Année</th>\n",
       "      <th>Unité</th>\n",
       "      <th>Valeur</th>\n",
       "    </tr>\n",
       "  </thead>\n",
       "  <tbody>\n",
       "    <tr>\n",
       "      <th>0</th>\n",
       "      <td>2</td>\n",
       "      <td>Afghanistan</td>\n",
       "      <td>5511</td>\n",
       "      <td>Production</td>\n",
       "      <td>Viande de Volailles</td>\n",
       "      <td>2017</td>\n",
       "      <td>Milliers de tonnes</td>\n",
       "      <td>28</td>\n",
       "    </tr>\n",
       "    <tr>\n",
       "      <th>1</th>\n",
       "      <td>202</td>\n",
       "      <td>Afrique du Sud</td>\n",
       "      <td>5511</td>\n",
       "      <td>Production</td>\n",
       "      <td>Viande de Volailles</td>\n",
       "      <td>2017</td>\n",
       "      <td>Milliers de tonnes</td>\n",
       "      <td>1667</td>\n",
       "    </tr>\n",
       "    <tr>\n",
       "      <th>2</th>\n",
       "      <td>3</td>\n",
       "      <td>Albanie</td>\n",
       "      <td>5511</td>\n",
       "      <td>Production</td>\n",
       "      <td>Viande de Volailles</td>\n",
       "      <td>2017</td>\n",
       "      <td>Milliers de tonnes</td>\n",
       "      <td>13</td>\n",
       "    </tr>\n",
       "    <tr>\n",
       "      <th>3</th>\n",
       "      <td>4</td>\n",
       "      <td>Algérie</td>\n",
       "      <td>5511</td>\n",
       "      <td>Production</td>\n",
       "      <td>Viande de Volailles</td>\n",
       "      <td>2017</td>\n",
       "      <td>Milliers de tonnes</td>\n",
       "      <td>275</td>\n",
       "    </tr>\n",
       "    <tr>\n",
       "      <th>4</th>\n",
       "      <td>79</td>\n",
       "      <td>Allemagne</td>\n",
       "      <td>5511</td>\n",
       "      <td>Production</td>\n",
       "      <td>Viande de Volailles</td>\n",
       "      <td>2017</td>\n",
       "      <td>Milliers de tonnes</td>\n",
       "      <td>1514</td>\n",
       "    </tr>\n",
       "  </tbody>\n",
       "</table>\n",
       "</div>"
      ],
      "text/plain": [
       "   Code zone            Zone  Code Élément     Élément              Produit  \\\n",
       "0          2     Afghanistan          5511  Production  Viande de Volailles   \n",
       "1        202  Afrique du Sud          5511  Production  Viande de Volailles   \n",
       "2          3         Albanie          5511  Production  Viande de Volailles   \n",
       "3          4         Algérie          5511  Production  Viande de Volailles   \n",
       "4         79       Allemagne          5511  Production  Viande de Volailles   \n",
       "\n",
       "   Année               Unité  Valeur  \n",
       "0   2017  Milliers de tonnes      28  \n",
       "1   2017  Milliers de tonnes    1667  \n",
       "2   2017  Milliers de tonnes      13  \n",
       "3   2017  Milliers de tonnes     275  \n",
       "4   2017  Milliers de tonnes    1514  "
      ]
     },
     "execution_count": 30,
     "metadata": {},
     "output_type": "execute_result"
    }
   ],
   "source": [
    "chicken_prod.head()"
   ]
  },
  {
   "cell_type": "markdown",
   "id": "1a3628ec",
   "metadata": {},
   "source": [
    "- Number of rows and columns :"
   ]
  },
  {
   "cell_type": "code",
   "execution_count": 31,
   "id": "4625330f",
   "metadata": {},
   "outputs": [
    {
     "data": {
      "text/plain": [
       "(168, 8)"
      ]
     },
     "execution_count": 31,
     "metadata": {},
     "output_type": "execute_result"
    }
   ],
   "source": [
    "chicken_prod.shape"
   ]
  },
  {
   "cell_type": "markdown",
   "id": "baabda3e",
   "metadata": {},
   "source": [
    "- .info display :"
   ]
  },
  {
   "cell_type": "code",
   "execution_count": 32,
   "id": "ecc42bb9",
   "metadata": {},
   "outputs": [
    {
     "name": "stdout",
     "output_type": "stream",
     "text": [
      "<class 'pandas.core.frame.DataFrame'>\n",
      "RangeIndex: 168 entries, 0 to 167\n",
      "Data columns (total 8 columns):\n",
      " #   Column        Non-Null Count  Dtype \n",
      "---  ------        --------------  ----- \n",
      " 0   Code zone     168 non-null    int64 \n",
      " 1   Zone          168 non-null    object\n",
      " 2   Code Élément  168 non-null    int64 \n",
      " 3   Élément       168 non-null    object\n",
      " 4   Produit       168 non-null    object\n",
      " 5   Année         168 non-null    int64 \n",
      " 6   Unité         168 non-null    object\n",
      " 7   Valeur        168 non-null    int64 \n",
      "dtypes: int64(4), object(4)\n",
      "memory usage: 10.6+ KB\n"
     ]
    }
   ],
   "source": [
    "chicken_prod.info()"
   ]
  },
  {
   "cell_type": "markdown",
   "id": "bfd77a92",
   "metadata": {},
   "source": [
    "- Check missing and duplicate values :"
   ]
  },
  {
   "cell_type": "code",
   "execution_count": 33,
   "id": "ca6bc213",
   "metadata": {},
   "outputs": [
    {
     "name": "stdout",
     "output_type": "stream",
     "text": [
      "The column Code zone does not contain any missing values\n",
      "The column Code zone does not contain duplicates\n"
     ]
    }
   ],
   "source": [
    "check_nan(chicken_prod, \"Code zone\")\n",
    "check_duplicates(chicken_prod,\"Code zone\")"
   ]
  },
  {
   "cell_type": "markdown",
   "id": "a6551ae1",
   "metadata": {},
   "source": [
    "<div class=\"alert-success\">\n",
    "    <u>Notice</u> :\n",
    "<i><br><li> Chicken production data give information on the chicken production of every country in the world : their zone code (primary key), the name of zone and the value of chicken production (in thousands of tons)</br></li>\n",
    "<li> There are 168 countries concerned in 2017</li>\n",
    "<li> The data file does not contain any missing value or duplicates on the primary key</li>\n",
    "</i></div>"
   ]
  },
  {
   "cell_type": "markdown",
   "id": "79210c52",
   "metadata": {},
   "source": [
    "- Values conversion (from thousands of tons to tons) :"
   ]
  },
  {
   "cell_type": "code",
   "execution_count": 34,
   "id": "f1a215cf",
   "metadata": {},
   "outputs": [],
   "source": [
    "chicken_prod['Valeur'] = chicken_prod['Valeur'] * 1000\n",
    "chicken_prod.rename(columns={\"Valeur\":\"Production de poulet (en tonnes)\"}, inplace=True)"
   ]
  },
  {
   "cell_type": "markdown",
   "id": "350fddcd",
   "metadata": {},
   "source": [
    "- Removed some unnecessary columns :"
   ]
  },
  {
   "cell_type": "code",
   "execution_count": 35,
   "id": "b28b00a6",
   "metadata": {},
   "outputs": [
    {
     "data": {
      "text/html": [
       "<div>\n",
       "<style scoped>\n",
       "    .dataframe tbody tr th:only-of-type {\n",
       "        vertical-align: middle;\n",
       "    }\n",
       "\n",
       "    .dataframe tbody tr th {\n",
       "        vertical-align: top;\n",
       "    }\n",
       "\n",
       "    .dataframe thead th {\n",
       "        text-align: right;\n",
       "    }\n",
       "</style>\n",
       "<table border=\"1\" class=\"dataframe\">\n",
       "  <thead>\n",
       "    <tr style=\"text-align: right;\">\n",
       "      <th></th>\n",
       "      <th>Code zone</th>\n",
       "      <th>Production de poulet (en tonnes)</th>\n",
       "    </tr>\n",
       "  </thead>\n",
       "  <tbody>\n",
       "    <tr>\n",
       "      <th>0</th>\n",
       "      <td>2</td>\n",
       "      <td>28000</td>\n",
       "    </tr>\n",
       "    <tr>\n",
       "      <th>1</th>\n",
       "      <td>202</td>\n",
       "      <td>1667000</td>\n",
       "    </tr>\n",
       "    <tr>\n",
       "      <th>2</th>\n",
       "      <td>3</td>\n",
       "      <td>13000</td>\n",
       "    </tr>\n",
       "    <tr>\n",
       "      <th>3</th>\n",
       "      <td>4</td>\n",
       "      <td>275000</td>\n",
       "    </tr>\n",
       "    <tr>\n",
       "      <th>4</th>\n",
       "      <td>79</td>\n",
       "      <td>1514000</td>\n",
       "    </tr>\n",
       "  </tbody>\n",
       "</table>\n",
       "</div>"
      ],
      "text/plain": [
       "   Code zone  Production de poulet (en tonnes)\n",
       "0          2                             28000\n",
       "1        202                           1667000\n",
       "2          3                             13000\n",
       "3          4                            275000\n",
       "4         79                           1514000"
      ]
     },
     "execution_count": 35,
     "metadata": {},
     "output_type": "execute_result"
    }
   ],
   "source": [
    "chicken_prod.drop(columns =['Zone', 'Code Élément', 'Élément', 'Produit', 'Année', 'Unité'], inplace=True)\n",
    "chicken_prod.head()"
   ]
  },
  {
   "cell_type": "markdown",
   "id": "a2e13559",
   "metadata": {},
   "source": [
    "- Outliers on the variable \"Production de poulet\" : "
   ]
  },
  {
   "cell_type": "code",
   "execution_count": 36,
   "id": "11093fa5",
   "metadata": {},
   "outputs": [
    {
     "name": "stdout",
     "output_type": "stream",
     "text": [
      "---------------------------------------------------------------------------------------------------- \n",
      "\n"
     ]
    },
    {
     "data": {
      "image/png": "[encoded data removed]",
      "text/plain": [
       "<Figure size 648x432 with 1 Axes>"
      ]
     },
     "metadata": {
      "needs_background": "light"
     },
     "output_type": "display_data"
    },
    {
     "name": "stdout",
     "output_type": "stream",
     "text": [
      "---------------------------------------------------------------------------------------------------- \n",
      "\n"
     ]
    },
    {
     "data": {
      "text/html": [
       "<div>\n",
       "<style scoped>\n",
       "    .dataframe tbody tr th:only-of-type {\n",
       "        vertical-align: middle;\n",
       "    }\n",
       "\n",
       "    .dataframe tbody tr th {\n",
       "        vertical-align: top;\n",
       "    }\n",
       "\n",
       "    .dataframe thead th {\n",
       "        text-align: right;\n",
       "    }\n",
       "</style>\n",
       "<table border=\"1\" class=\"dataframe\">\n",
       "  <thead>\n",
       "    <tr style=\"text-align: right;\">\n",
       "      <th></th>\n",
       "      <th>Code zone</th>\n",
       "      <th>Production de poulet (en tonnes)</th>\n",
       "      <th>zscore</th>\n",
       "    </tr>\n",
       "  </thead>\n",
       "  <tbody>\n",
       "    <tr>\n",
       "      <th>51</th>\n",
       "      <td>231</td>\n",
       "      <td>21914000</td>\n",
       "      <td>8.470587</td>\n",
       "    </tr>\n",
       "    <tr>\n",
       "      <th>33</th>\n",
       "      <td>41</td>\n",
       "      <td>18236000</td>\n",
       "      <td>7.000244</td>\n",
       "    </tr>\n",
       "    <tr>\n",
       "      <th>23</th>\n",
       "      <td>21</td>\n",
       "      <td>14201000</td>\n",
       "      <td>5.387184</td>\n",
       "    </tr>\n",
       "  </tbody>\n",
       "</table>\n",
       "</div>"
      ],
      "text/plain": [
       "    Code zone  Production de poulet (en tonnes)    zscore\n",
       "51        231                          21914000  8.470587\n",
       "33         41                          18236000  7.000244\n",
       "23         21                          14201000  5.387184"
      ]
     },
     "execution_count": 36,
     "metadata": {},
     "output_type": "execute_result"
    }
   ],
   "source": [
    "outliers = chicken_prod.copy()\n",
    "outliers[\"zscore\"] = (outliers[\"Production de poulet (en tonnes)\"] - outliers[\"Production de poulet (en tonnes)\"].mean())/outliers[\"Production de poulet (en tonnes)\"].std()\n",
    "the_ok = outliers[(outliers[\"zscore\"] <= 2) & (outliers[\"zscore\"] >= -2)]\n",
    "the_outliers = outliers[outliers[\"zscore\"].abs() >2];\n",
    "print('-'*100, \"\\n\")\n",
    "plt.figure(figsize=(9,6))\n",
    "sns.scatterplot(x=the_ok[\"Production de poulet (en tonnes)\"].index, y=the_ok[\"Production de poulet (en tonnes)\"].values,)\n",
    "sns.scatterplot(x=the_outliers[\"Production de poulet (en tonnes)\"].index, y=the_outliers[\"Production de poulet (en tonnes)\"].values)\n",
    "plt.title('Outliers graphic representation')\n",
    "plt.savefig(\"Part1.Outliers graphic representation on chicken production.png\", bbox_inches='tight')\n",
    "plt.show()\n",
    "print('-'*100, \"\\n\")\n",
    "the_outliers.sort_values(by=[\"zscore\"], ascending=False)"
   ]
  },
  {
   "cell_type": "markdown",
   "id": "05fe1309",
   "metadata": {},
   "source": [
    "<div class=\"alert-warning\">\n",
    "    <u>Warning</u> :\n",
    "<i><br><li> Number of outliers detected : 3</br></li>\n",
    "<i><li> The biggest production of chicken in the world are in : the USA, China and Brazil</li>\n",
    "</i></div>"
   ]
  },
  {
   "cell_type": "markdown",
   "id": "1acbfabb",
   "metadata": {},
   "source": [
    "<a id='another_cell_e'></a>"
   ]
  },
  {
   "cell_type": "markdown",
   "id": "eef03169",
   "metadata": {},
   "source": [
    "#### 5. [chicken_exportation.csv](http://localhost:8888/edit/chicken_export_2017.csv) : exploration and data cleaning"
   ]
  },
  {
   "cell_type": "markdown",
   "id": "b1c508c7",
   "metadata": {},
   "source": [
    "- Loading file:"
   ]
  },
  {
   "cell_type": "code",
   "execution_count": 37,
   "id": "f47e9d56",
   "metadata": {},
   "outputs": [],
   "source": [
    "chicken_export = pd.read_csv('chicken_export_2017.csv', sep=';')"
   ]
  },
  {
   "cell_type": "markdown",
   "id": "a625959e",
   "metadata": {},
   "source": [
    "- First 5 rows display :"
   ]
  },
  {
   "cell_type": "code",
   "execution_count": 38,
   "id": "e7a2db28",
   "metadata": {},
   "outputs": [
    {
     "data": {
      "text/html": [
       "<div>\n",
       "<style scoped>\n",
       "    .dataframe tbody tr th:only-of-type {\n",
       "        vertical-align: middle;\n",
       "    }\n",
       "\n",
       "    .dataframe tbody tr th {\n",
       "        vertical-align: top;\n",
       "    }\n",
       "\n",
       "    .dataframe thead th {\n",
       "        text-align: right;\n",
       "    }\n",
       "</style>\n",
       "<table border=\"1\" class=\"dataframe\">\n",
       "  <thead>\n",
       "    <tr style=\"text-align: right;\">\n",
       "      <th></th>\n",
       "      <th>Code zone</th>\n",
       "      <th>Zone</th>\n",
       "      <th>Code Élément</th>\n",
       "      <th>Élément</th>\n",
       "      <th>Produit</th>\n",
       "      <th>Année</th>\n",
       "      <th>Unité</th>\n",
       "      <th>Valeur</th>\n",
       "    </tr>\n",
       "  </thead>\n",
       "  <tbody>\n",
       "    <tr>\n",
       "      <th>0</th>\n",
       "      <td>202</td>\n",
       "      <td>Afrique du Sud</td>\n",
       "      <td>5911</td>\n",
       "      <td>Exportations - Quantité</td>\n",
       "      <td>Viande de Volailles</td>\n",
       "      <td>2017</td>\n",
       "      <td>Milliers de tonnes</td>\n",
       "      <td>63</td>\n",
       "    </tr>\n",
       "    <tr>\n",
       "      <th>1</th>\n",
       "      <td>3</td>\n",
       "      <td>Albanie</td>\n",
       "      <td>5911</td>\n",
       "      <td>Exportations - Quantité</td>\n",
       "      <td>Viande de Volailles</td>\n",
       "      <td>2017</td>\n",
       "      <td>Milliers de tonnes</td>\n",
       "      <td>0</td>\n",
       "    </tr>\n",
       "    <tr>\n",
       "      <th>2</th>\n",
       "      <td>4</td>\n",
       "      <td>Algérie</td>\n",
       "      <td>5911</td>\n",
       "      <td>Exportations - Quantité</td>\n",
       "      <td>Viande de Volailles</td>\n",
       "      <td>2017</td>\n",
       "      <td>Milliers de tonnes</td>\n",
       "      <td>0</td>\n",
       "    </tr>\n",
       "    <tr>\n",
       "      <th>3</th>\n",
       "      <td>79</td>\n",
       "      <td>Allemagne</td>\n",
       "      <td>5911</td>\n",
       "      <td>Exportations - Quantité</td>\n",
       "      <td>Viande de Volailles</td>\n",
       "      <td>2017</td>\n",
       "      <td>Milliers de tonnes</td>\n",
       "      <td>646</td>\n",
       "    </tr>\n",
       "    <tr>\n",
       "      <th>4</th>\n",
       "      <td>7</td>\n",
       "      <td>Angola</td>\n",
       "      <td>5911</td>\n",
       "      <td>Exportations - Quantité</td>\n",
       "      <td>Viande de Volailles</td>\n",
       "      <td>2017</td>\n",
       "      <td>Milliers de tonnes</td>\n",
       "      <td>0</td>\n",
       "    </tr>\n",
       "  </tbody>\n",
       "</table>\n",
       "</div>"
      ],
      "text/plain": [
       "   Code zone            Zone  Code Élément                  Élément  \\\n",
       "0        202  Afrique du Sud          5911  Exportations - Quantité   \n",
       "1          3         Albanie          5911  Exportations - Quantité   \n",
       "2          4         Algérie          5911  Exportations - Quantité   \n",
       "3         79       Allemagne          5911  Exportations - Quantité   \n",
       "4          7          Angola          5911  Exportations - Quantité   \n",
       "\n",
       "               Produit  Année               Unité  Valeur  \n",
       "0  Viande de Volailles   2017  Milliers de tonnes      63  \n",
       "1  Viande de Volailles   2017  Milliers de tonnes       0  \n",
       "2  Viande de Volailles   2017  Milliers de tonnes       0  \n",
       "3  Viande de Volailles   2017  Milliers de tonnes     646  \n",
       "4  Viande de Volailles   2017  Milliers de tonnes       0  "
      ]
     },
     "execution_count": 38,
     "metadata": {},
     "output_type": "execute_result"
    }
   ],
   "source": [
    "chicken_export.head()"
   ]
  },
  {
   "cell_type": "markdown",
   "id": "3097103f",
   "metadata": {},
   "source": [
    "- Number of rows and columns :"
   ]
  },
  {
   "cell_type": "code",
   "execution_count": 39,
   "id": "d86d1d37",
   "metadata": {},
   "outputs": [
    {
     "data": {
      "text/plain": [
       "(135, 8)"
      ]
     },
     "execution_count": 39,
     "metadata": {},
     "output_type": "execute_result"
    }
   ],
   "source": [
    "chicken_export.shape"
   ]
  },
  {
   "cell_type": "markdown",
   "id": "690c78da",
   "metadata": {},
   "source": [
    "- .info display :"
   ]
  },
  {
   "cell_type": "code",
   "execution_count": 40,
   "id": "71e2fcc2",
   "metadata": {},
   "outputs": [
    {
     "name": "stdout",
     "output_type": "stream",
     "text": [
      "<class 'pandas.core.frame.DataFrame'>\n",
      "RangeIndex: 135 entries, 0 to 134\n",
      "Data columns (total 8 columns):\n",
      " #   Column        Non-Null Count  Dtype \n",
      "---  ------        --------------  ----- \n",
      " 0   Code zone     135 non-null    int64 \n",
      " 1   Zone          135 non-null    object\n",
      " 2   Code Élément  135 non-null    int64 \n",
      " 3   Élément       135 non-null    object\n",
      " 4   Produit       135 non-null    object\n",
      " 5   Année         135 non-null    int64 \n",
      " 6   Unité         135 non-null    object\n",
      " 7   Valeur        135 non-null    int64 \n",
      "dtypes: int64(4), object(4)\n",
      "memory usage: 8.6+ KB\n"
     ]
    }
   ],
   "source": [
    "chicken_export.info()"
   ]
  },
  {
   "cell_type": "markdown",
   "id": "acd52ed8",
   "metadata": {},
   "source": [
    "- Check missing and duplicate values :"
   ]
  },
  {
   "cell_type": "code",
   "execution_count": 41,
   "id": "df88ca6a",
   "metadata": {},
   "outputs": [
    {
     "name": "stdout",
     "output_type": "stream",
     "text": [
      "The column Code zone does not contain any missing values\n",
      "The column Code zone does not contain duplicates\n"
     ]
    }
   ],
   "source": [
    "check_nan(chicken_export, \"Code zone\")\n",
    "check_duplicates(chicken_export,\"Code zone\")"
   ]
  },
  {
   "cell_type": "markdown",
   "id": "5154a16d",
   "metadata": {},
   "source": [
    "<div class=\"alert-success\">\n",
    "    <u>Notice</u> :\n",
    "<i><br><li> Chicken exportation data give information on the chicken exportation of every country in the world : their zone code (primary key), the name of zone and the value of chicken exportation (in thousands of tons)</br></li>\n",
    "<li> There are 135 country concerned in 2017</li>\n",
    "<li> The data file does not contain any missing value or duplicates on the primary key</li>\n",
    "</i></div>"
   ]
  },
  {
   "cell_type": "markdown",
   "id": "e1e1fbf0",
   "metadata": {},
   "source": [
    "- Values conversion (from thousands of tons to tons) :"
   ]
  },
  {
   "cell_type": "code",
   "execution_count": 42,
   "id": "f1f81053",
   "metadata": {},
   "outputs": [],
   "source": [
    "chicken_export['Valeur'] = chicken_export['Valeur'] * 1000\n",
    "chicken_export.rename(columns={\"Valeur\":\"Exportation de poulet (en tonnes)\"}, inplace=True)"
   ]
  },
  {
   "cell_type": "markdown",
   "id": "e703c397",
   "metadata": {},
   "source": [
    "- Removed some unnecessary columns :"
   ]
  },
  {
   "cell_type": "code",
   "execution_count": 43,
   "id": "01c16afa",
   "metadata": {},
   "outputs": [
    {
     "data": {
      "text/html": [
       "<div>\n",
       "<style scoped>\n",
       "    .dataframe tbody tr th:only-of-type {\n",
       "        vertical-align: middle;\n",
       "    }\n",
       "\n",
       "    .dataframe tbody tr th {\n",
       "        vertical-align: top;\n",
       "    }\n",
       "\n",
       "    .dataframe thead th {\n",
       "        text-align: right;\n",
       "    }\n",
       "</style>\n",
       "<table border=\"1\" class=\"dataframe\">\n",
       "  <thead>\n",
       "    <tr style=\"text-align: right;\">\n",
       "      <th></th>\n",
       "      <th>Code zone</th>\n",
       "      <th>Exportation de poulet (en tonnes)</th>\n",
       "    </tr>\n",
       "  </thead>\n",
       "  <tbody>\n",
       "    <tr>\n",
       "      <th>0</th>\n",
       "      <td>202</td>\n",
       "      <td>63000</td>\n",
       "    </tr>\n",
       "    <tr>\n",
       "      <th>1</th>\n",
       "      <td>3</td>\n",
       "      <td>0</td>\n",
       "    </tr>\n",
       "    <tr>\n",
       "      <th>2</th>\n",
       "      <td>4</td>\n",
       "      <td>0</td>\n",
       "    </tr>\n",
       "    <tr>\n",
       "      <th>3</th>\n",
       "      <td>79</td>\n",
       "      <td>646000</td>\n",
       "    </tr>\n",
       "    <tr>\n",
       "      <th>4</th>\n",
       "      <td>7</td>\n",
       "      <td>0</td>\n",
       "    </tr>\n",
       "  </tbody>\n",
       "</table>\n",
       "</div>"
      ],
      "text/plain": [
       "   Code zone  Exportation de poulet (en tonnes)\n",
       "0        202                              63000\n",
       "1          3                                  0\n",
       "2          4                                  0\n",
       "3         79                             646000\n",
       "4          7                                  0"
      ]
     },
     "execution_count": 43,
     "metadata": {},
     "output_type": "execute_result"
    }
   ],
   "source": [
    "chicken_export.drop(columns =['Zone', 'Code Élément', 'Élément', 'Produit', 'Année', 'Unité'], inplace=True)\n",
    "chicken_export.head()"
   ]
  },
  {
   "cell_type": "markdown",
   "id": "c63a6a24",
   "metadata": {},
   "source": [
    "- Outliers on the variable \"Exportation de poulet\" : "
   ]
  },
  {
   "cell_type": "code",
   "execution_count": 44,
   "id": "9e13b399",
   "metadata": {},
   "outputs": [
    {
     "name": "stdout",
     "output_type": "stream",
     "text": [
      "---------------------------------------------------------------------------------------------------- \n",
      "\n"
     ]
    },
    {
     "data": {
      "image/png": "[encoded data removed]",
      "text/plain": [
       "<Figure size 648x432 with 1 Axes>"
      ]
     },
     "metadata": {
      "needs_background": "light"
     },
     "output_type": "display_data"
    },
    {
     "name": "stdout",
     "output_type": "stream",
     "text": [
      "---------------------------------------------------------------------------------------------------- \n",
      "\n"
     ]
    },
    {
     "data": {
      "text/html": [
       "<div>\n",
       "<style scoped>\n",
       "    .dataframe tbody tr th:only-of-type {\n",
       "        vertical-align: middle;\n",
       "    }\n",
       "\n",
       "    .dataframe tbody tr th {\n",
       "        vertical-align: top;\n",
       "    }\n",
       "\n",
       "    .dataframe thead th {\n",
       "        text-align: right;\n",
       "    }\n",
       "</style>\n",
       "<table border=\"1\" class=\"dataframe\">\n",
       "  <thead>\n",
       "    <tr style=\"text-align: right;\">\n",
       "      <th></th>\n",
       "      <th>Code zone</th>\n",
       "      <th>Exportation de poulet (en tonnes)</th>\n",
       "      <th>zscore</th>\n",
       "    </tr>\n",
       "  </thead>\n",
       "  <tbody>\n",
       "    <tr>\n",
       "      <th>20</th>\n",
       "      <td>21</td>\n",
       "      <td>4223000</td>\n",
       "      <td>7.962123</td>\n",
       "    </tr>\n",
       "    <tr>\n",
       "      <th>44</th>\n",
       "      <td>231</td>\n",
       "      <td>3692000</td>\n",
       "      <td>6.928615</td>\n",
       "    </tr>\n",
       "    <tr>\n",
       "      <th>98</th>\n",
       "      <td>150</td>\n",
       "      <td>1418000</td>\n",
       "      <td>2.502635</td>\n",
       "    </tr>\n",
       "  </tbody>\n",
       "</table>\n",
       "</div>"
      ],
      "text/plain": [
       "    Code zone  Exportation de poulet (en tonnes)    zscore\n",
       "20         21                            4223000  7.962123\n",
       "44        231                            3692000  6.928615\n",
       "98        150                            1418000  2.502635"
      ]
     },
     "execution_count": 44,
     "metadata": {},
     "output_type": "execute_result"
    }
   ],
   "source": [
    "outliers = chicken_export.copy()\n",
    "outliers[\"zscore\"] = (outliers[\"Exportation de poulet (en tonnes)\"] - outliers[\"Exportation de poulet (en tonnes)\"].mean())/outliers[\"Exportation de poulet (en tonnes)\"].std()\n",
    "the_ok = outliers[(outliers[\"zscore\"] <= 2) & (outliers[\"zscore\"] >= -2)]\n",
    "the_outliers = outliers[outliers[\"zscore\"].abs() >2];\n",
    "print('-'*100, \"\\n\")\n",
    "plt.figure(figsize=(9,6))\n",
    "sns.scatterplot(x=the_ok[\"Exportation de poulet (en tonnes)\"].index, y=the_ok[\"Exportation de poulet (en tonnes)\"].values,)\n",
    "sns.scatterplot(x=the_outliers[\"Exportation de poulet (en tonnes)\"].index, y=the_outliers[\"Exportation de poulet (en tonnes)\"].values)\n",
    "plt.title('Outliers graphic representation')\n",
    "plt.savefig(\"Part1.Outliers graphic representation on chicken exportation.png\", bbox_inches='tight')\n",
    "plt.show()\n",
    "print('-'*100, \"\\n\")\n",
    "the_outliers.sort_values(by=[\"zscore\"], ascending=False)"
   ]
  },
  {
   "cell_type": "markdown",
   "id": "8938d116",
   "metadata": {},
   "source": [
    "<div class=\"alert-warning\">\n",
    "    <u>Warning</u> :\n",
    "<i><br><li> Number of outliers detected : 3</br></li>\n",
    "<i><li> The biggest exportation of chicken in the world are in : Brazil, USA and The Netherlands</li>\n",
    "</i></div>"
   ]
  },
  {
   "cell_type": "markdown",
   "id": "e5199a35",
   "metadata": {},
   "source": [
    "<a id='another_cell_f'></a>"
   ]
  },
  {
   "cell_type": "markdown",
   "id": "04c0d5da",
   "metadata": {},
   "source": [
    "#### 6. [chicken_importation.csv](http://localhost:8888/edit/chicken_import_2017.csv) : exploration and data cleaning\n"
   ]
  },
  {
   "cell_type": "markdown",
   "id": "f310f197",
   "metadata": {},
   "source": [
    "- Loading file:"
   ]
  },
  {
   "cell_type": "code",
   "execution_count": 45,
   "id": "7d6fdead",
   "metadata": {},
   "outputs": [],
   "source": [
    "chicken_import = pd.read_csv('chicken_import_2017.csv', sep=';')"
   ]
  },
  {
   "cell_type": "markdown",
   "id": "a4336962",
   "metadata": {},
   "source": [
    "- First 5 rows display :"
   ]
  },
  {
   "cell_type": "code",
   "execution_count": 46,
   "id": "8b314f4d",
   "metadata": {},
   "outputs": [
    {
     "data": {
      "text/html": [
       "<div>\n",
       "<style scoped>\n",
       "    .dataframe tbody tr th:only-of-type {\n",
       "        vertical-align: middle;\n",
       "    }\n",
       "\n",
       "    .dataframe tbody tr th {\n",
       "        vertical-align: top;\n",
       "    }\n",
       "\n",
       "    .dataframe thead th {\n",
       "        text-align: right;\n",
       "    }\n",
       "</style>\n",
       "<table border=\"1\" class=\"dataframe\">\n",
       "  <thead>\n",
       "    <tr style=\"text-align: right;\">\n",
       "      <th></th>\n",
       "      <th>Code zone</th>\n",
       "      <th>Zone</th>\n",
       "      <th>Code Élément</th>\n",
       "      <th>Élément</th>\n",
       "      <th>Produit</th>\n",
       "      <th>Année</th>\n",
       "      <th>Unité</th>\n",
       "      <th>Valeur</th>\n",
       "    </tr>\n",
       "  </thead>\n",
       "  <tbody>\n",
       "    <tr>\n",
       "      <th>0</th>\n",
       "      <td>2</td>\n",
       "      <td>Afghanistan</td>\n",
       "      <td>5611</td>\n",
       "      <td>Importations - Quantité</td>\n",
       "      <td>Viande de Volailles</td>\n",
       "      <td>2017</td>\n",
       "      <td>Milliers de tonnes</td>\n",
       "      <td>29</td>\n",
       "    </tr>\n",
       "    <tr>\n",
       "      <th>1</th>\n",
       "      <td>202</td>\n",
       "      <td>Afrique du Sud</td>\n",
       "      <td>5611</td>\n",
       "      <td>Importations - Quantité</td>\n",
       "      <td>Viande de Volailles</td>\n",
       "      <td>2017</td>\n",
       "      <td>Milliers de tonnes</td>\n",
       "      <td>514</td>\n",
       "    </tr>\n",
       "    <tr>\n",
       "      <th>2</th>\n",
       "      <td>3</td>\n",
       "      <td>Albanie</td>\n",
       "      <td>5611</td>\n",
       "      <td>Importations - Quantité</td>\n",
       "      <td>Viande de Volailles</td>\n",
       "      <td>2017</td>\n",
       "      <td>Milliers de tonnes</td>\n",
       "      <td>38</td>\n",
       "    </tr>\n",
       "    <tr>\n",
       "      <th>3</th>\n",
       "      <td>4</td>\n",
       "      <td>Algérie</td>\n",
       "      <td>5611</td>\n",
       "      <td>Importations - Quantité</td>\n",
       "      <td>Viande de Volailles</td>\n",
       "      <td>2017</td>\n",
       "      <td>Milliers de tonnes</td>\n",
       "      <td>2</td>\n",
       "    </tr>\n",
       "    <tr>\n",
       "      <th>4</th>\n",
       "      <td>79</td>\n",
       "      <td>Allemagne</td>\n",
       "      <td>5611</td>\n",
       "      <td>Importations - Quantité</td>\n",
       "      <td>Viande de Volailles</td>\n",
       "      <td>2017</td>\n",
       "      <td>Milliers de tonnes</td>\n",
       "      <td>842</td>\n",
       "    </tr>\n",
       "  </tbody>\n",
       "</table>\n",
       "</div>"
      ],
      "text/plain": [
       "   Code zone            Zone  Code Élément                  Élément  \\\n",
       "0          2     Afghanistan          5611  Importations - Quantité   \n",
       "1        202  Afrique du Sud          5611  Importations - Quantité   \n",
       "2          3         Albanie          5611  Importations - Quantité   \n",
       "3          4         Algérie          5611  Importations - Quantité   \n",
       "4         79       Allemagne          5611  Importations - Quantité   \n",
       "\n",
       "               Produit  Année               Unité  Valeur  \n",
       "0  Viande de Volailles   2017  Milliers de tonnes      29  \n",
       "1  Viande de Volailles   2017  Milliers de tonnes     514  \n",
       "2  Viande de Volailles   2017  Milliers de tonnes      38  \n",
       "3  Viande de Volailles   2017  Milliers de tonnes       2  \n",
       "4  Viande de Volailles   2017  Milliers de tonnes     842  "
      ]
     },
     "execution_count": 46,
     "metadata": {},
     "output_type": "execute_result"
    }
   ],
   "source": [
    "chicken_import.head()"
   ]
  },
  {
   "cell_type": "markdown",
   "id": "6bc92f47",
   "metadata": {},
   "source": [
    "- Number of rows and columns :"
   ]
  },
  {
   "cell_type": "code",
   "execution_count": 47,
   "id": "e8aee11f",
   "metadata": {},
   "outputs": [
    {
     "data": {
      "text/plain": [
       "(170, 8)"
      ]
     },
     "execution_count": 47,
     "metadata": {},
     "output_type": "execute_result"
    }
   ],
   "source": [
    "chicken_import.shape"
   ]
  },
  {
   "cell_type": "markdown",
   "id": "035704cf",
   "metadata": {},
   "source": [
    "- .info display :"
   ]
  },
  {
   "cell_type": "code",
   "execution_count": 48,
   "id": "442bdffe",
   "metadata": {},
   "outputs": [
    {
     "name": "stdout",
     "output_type": "stream",
     "text": [
      "<class 'pandas.core.frame.DataFrame'>\n",
      "RangeIndex: 170 entries, 0 to 169\n",
      "Data columns (total 8 columns):\n",
      " #   Column        Non-Null Count  Dtype \n",
      "---  ------        --------------  ----- \n",
      " 0   Code zone     170 non-null    int64 \n",
      " 1   Zone          170 non-null    object\n",
      " 2   Code Élément  170 non-null    int64 \n",
      " 3   Élément       170 non-null    object\n",
      " 4   Produit       170 non-null    object\n",
      " 5   Année         170 non-null    int64 \n",
      " 6   Unité         170 non-null    object\n",
      " 7   Valeur        170 non-null    int64 \n",
      "dtypes: int64(4), object(4)\n",
      "memory usage: 10.8+ KB\n"
     ]
    }
   ],
   "source": [
    "chicken_import.info()"
   ]
  },
  {
   "cell_type": "markdown",
   "id": "40aa737e",
   "metadata": {},
   "source": [
    "- Check missing and duplicate values :"
   ]
  },
  {
   "cell_type": "code",
   "execution_count": 49,
   "id": "a39c5ec1",
   "metadata": {},
   "outputs": [
    {
     "name": "stdout",
     "output_type": "stream",
     "text": [
      "The column Code zone does not contain any missing values\n",
      "The column Code zone does not contain duplicates\n"
     ]
    }
   ],
   "source": [
    "check_nan(chicken_import, \"Code zone\")\n",
    "check_duplicates(chicken_import,\"Code zone\")"
   ]
  },
  {
   "cell_type": "markdown",
   "id": "c852ec14",
   "metadata": {},
   "source": [
    "<div class=\"alert-success\">\n",
    "    <u>Notice</u> :\n",
    "<i><br><li> Chicken importation data give information on the chicken importation of every country in the world : their zone code (primary key), the name of zone and the value of chicken importation (in thousands of tons)</br></li>\n",
    "<li> There are 170 countries concerned in 2017</li>\n",
    "<li> The data file does not contain any missing value or duplicates on the primary key</li>\n",
    "</i></div>"
   ]
  },
  {
   "cell_type": "markdown",
   "id": "bb20e736",
   "metadata": {},
   "source": [
    "- Values conversion (from thousands of tons to tons) :"
   ]
  },
  {
   "cell_type": "code",
   "execution_count": 50,
   "id": "f48d1ab6",
   "metadata": {},
   "outputs": [],
   "source": [
    "chicken_import['Valeur'] = chicken_import['Valeur'] * 1000\n",
    "chicken_import.rename(columns={\"Valeur\":\"Importation de poulet (en tonnes)\"}, inplace=True)"
   ]
  },
  {
   "cell_type": "markdown",
   "id": "bf479c9a",
   "metadata": {},
   "source": [
    "- Removed some unnecessary columns :"
   ]
  },
  {
   "cell_type": "code",
   "execution_count": 51,
   "id": "79cd82fb",
   "metadata": {
    "scrolled": true
   },
   "outputs": [
    {
     "data": {
      "text/html": [
       "<div>\n",
       "<style scoped>\n",
       "    .dataframe tbody tr th:only-of-type {\n",
       "        vertical-align: middle;\n",
       "    }\n",
       "\n",
       "    .dataframe tbody tr th {\n",
       "        vertical-align: top;\n",
       "    }\n",
       "\n",
       "    .dataframe thead th {\n",
       "        text-align: right;\n",
       "    }\n",
       "</style>\n",
       "<table border=\"1\" class=\"dataframe\">\n",
       "  <thead>\n",
       "    <tr style=\"text-align: right;\">\n",
       "      <th></th>\n",
       "      <th>Code zone</th>\n",
       "      <th>Importation de poulet (en tonnes)</th>\n",
       "    </tr>\n",
       "  </thead>\n",
       "  <tbody>\n",
       "    <tr>\n",
       "      <th>0</th>\n",
       "      <td>2</td>\n",
       "      <td>29000</td>\n",
       "    </tr>\n",
       "    <tr>\n",
       "      <th>1</th>\n",
       "      <td>202</td>\n",
       "      <td>514000</td>\n",
       "    </tr>\n",
       "    <tr>\n",
       "      <th>2</th>\n",
       "      <td>3</td>\n",
       "      <td>38000</td>\n",
       "    </tr>\n",
       "    <tr>\n",
       "      <th>3</th>\n",
       "      <td>4</td>\n",
       "      <td>2000</td>\n",
       "    </tr>\n",
       "    <tr>\n",
       "      <th>4</th>\n",
       "      <td>79</td>\n",
       "      <td>842000</td>\n",
       "    </tr>\n",
       "  </tbody>\n",
       "</table>\n",
       "</div>"
      ],
      "text/plain": [
       "   Code zone  Importation de poulet (en tonnes)\n",
       "0          2                              29000\n",
       "1        202                             514000\n",
       "2          3                              38000\n",
       "3          4                               2000\n",
       "4         79                             842000"
      ]
     },
     "execution_count": 51,
     "metadata": {},
     "output_type": "execute_result"
    }
   ],
   "source": [
    "chicken_import.drop(columns =['Zone', 'Code Élément', 'Élément', 'Produit', 'Année', 'Unité'], inplace=True)\n",
    "chicken_import.head()"
   ]
  },
  {
   "cell_type": "markdown",
   "id": "93a7fab4",
   "metadata": {},
   "source": [
    "- Outliers on the variable \"Importation de poulet\" : "
   ]
  },
  {
   "cell_type": "code",
   "execution_count": 52,
   "id": "f860d3f4",
   "metadata": {
    "scrolled": false
   },
   "outputs": [
    {
     "name": "stdout",
     "output_type": "stream",
     "text": [
      "---------------------------------------------------------------------------------------------------- \n",
      "\n"
     ]
    },
    {
     "data": {
      "image/png": "[encoded data removed]",
      "text/plain": [
       "<Figure size 648x432 with 1 Axes>"
      ]
     },
     "metadata": {
      "needs_background": "light"
     },
     "output_type": "display_data"
    },
    {
     "name": "stdout",
     "output_type": "stream",
     "text": [
      "---------------------------------------------------------------------------------------------------- \n",
      "\n"
     ]
    },
    {
     "data": {
      "text/html": [
       "<div>\n",
       "<style scoped>\n",
       "    .dataframe tbody tr th:only-of-type {\n",
       "        vertical-align: middle;\n",
       "    }\n",
       "\n",
       "    .dataframe tbody tr th {\n",
       "        vertical-align: top;\n",
       "    }\n",
       "\n",
       "    .dataframe thead th {\n",
       "        text-align: right;\n",
       "    }\n",
       "</style>\n",
       "<table border=\"1\" class=\"dataframe\">\n",
       "  <thead>\n",
       "    <tr style=\"text-align: right;\">\n",
       "      <th></th>\n",
       "      <th>Code zone</th>\n",
       "      <th>Importation de poulet (en tonnes)</th>\n",
       "      <th>zscore</th>\n",
       "    </tr>\n",
       "  </thead>\n",
       "  <tbody>\n",
       "    <tr>\n",
       "      <th>81</th>\n",
       "      <td>110</td>\n",
       "      <td>1069000</td>\n",
       "      <td>5.247071</td>\n",
       "    </tr>\n",
       "    <tr>\n",
       "      <th>104</th>\n",
       "      <td>138</td>\n",
       "      <td>972000</td>\n",
       "      <td>4.727437</td>\n",
       "    </tr>\n",
       "    <tr>\n",
       "      <th>31</th>\n",
       "      <td>96</td>\n",
       "      <td>907000</td>\n",
       "      <td>4.379229</td>\n",
       "    </tr>\n",
       "    <tr>\n",
       "      <th>4</th>\n",
       "      <td>79</td>\n",
       "      <td>842000</td>\n",
       "      <td>4.031021</td>\n",
       "    </tr>\n",
       "    <tr>\n",
       "      <th>135</th>\n",
       "      <td>229</td>\n",
       "      <td>779000</td>\n",
       "      <td>3.693527</td>\n",
       "    </tr>\n",
       "    <tr>\n",
       "      <th>7</th>\n",
       "      <td>194</td>\n",
       "      <td>722000</td>\n",
       "      <td>3.388175</td>\n",
       "    </tr>\n",
       "    <tr>\n",
       "      <th>122</th>\n",
       "      <td>150</td>\n",
       "      <td>608000</td>\n",
       "      <td>2.777472</td>\n",
       "    </tr>\n",
       "    <tr>\n",
       "      <th>1</th>\n",
       "      <td>202</td>\n",
       "      <td>514000</td>\n",
       "      <td>2.273909</td>\n",
       "    </tr>\n",
       "    <tr>\n",
       "      <th>57</th>\n",
       "      <td>68</td>\n",
       "      <td>506000</td>\n",
       "      <td>2.231053</td>\n",
       "    </tr>\n",
       "    <tr>\n",
       "      <th>75</th>\n",
       "      <td>103</td>\n",
       "      <td>470000</td>\n",
       "      <td>2.038199</td>\n",
       "    </tr>\n",
       "  </tbody>\n",
       "</table>\n",
       "</div>"
      ],
      "text/plain": [
       "     Code zone  Importation de poulet (en tonnes)    zscore\n",
       "81         110                            1069000  5.247071\n",
       "104        138                             972000  4.727437\n",
       "31          96                             907000  4.379229\n",
       "4           79                             842000  4.031021\n",
       "135        229                             779000  3.693527\n",
       "7          194                             722000  3.388175\n",
       "122        150                             608000  2.777472\n",
       "1          202                             514000  2.273909\n",
       "57          68                             506000  2.231053\n",
       "75         103                             470000  2.038199"
      ]
     },
     "execution_count": 52,
     "metadata": {},
     "output_type": "execute_result"
    }
   ],
   "source": [
    "outliers = chicken_import.copy()\n",
    "outliers[\"zscore\"] = (outliers[\"Importation de poulet (en tonnes)\"] - outliers[\"Importation de poulet (en tonnes)\"].mean())/outliers[\"Importation de poulet (en tonnes)\"].std()\n",
    "the_ok = outliers[(outliers[\"zscore\"] <= 2) & (outliers[\"zscore\"] >= -2)]\n",
    "the_outliers = outliers[outliers[\"zscore\"].abs() >2];\n",
    "print('-'*100, \"\\n\")\n",
    "plt.figure(figsize=(9,6))\n",
    "sns.scatterplot(x=the_ok[\"Importation de poulet (en tonnes)\"].index, y=the_ok[\"Importation de poulet (en tonnes)\"].values,)\n",
    "sns.scatterplot(x=the_outliers[\"Importation de poulet (en tonnes)\"].index, y=the_outliers[\"Importation de poulet (en tonnes)\"].values)\n",
    "plt.title('Outliers graphic representation')\n",
    "plt.savefig(\"Part1.Outliers graphic representation on chicken importation.png\", bbox_inches='tight')\n",
    "plt.show()\n",
    "print('-'*100, \"\\n\")\n",
    "the_outliers.sort_values(by=[\"zscore\"], ascending=False)"
   ]
  },
  {
   "cell_type": "code",
   "execution_count": 53,
   "id": "4a5db5ea",
   "metadata": {},
   "outputs": [
    {
     "name": "stdout",
     "output_type": "stream",
     "text": [
      "Numbers of outliers detected : 10\n"
     ]
    }
   ],
   "source": [
    "print(\"Numbers of outliers detected :\", len(the_outliers))"
   ]
  },
  {
   "cell_type": "markdown",
   "id": "39e2fd7e",
   "metadata": {},
   "source": [
    "<div class=\"alert-warning\">\n",
    "    <u>Warning</u> :\n",
    "<i><br><li> Number of outliers detected : 10</br></li>\n",
    "<i><li> The biggest importation of chicken in the world are in : Japon, Mexique, China, Germany, England, Saoudia, The Netherlands, South Africa, France and Iraq</li>\n",
    "</i></div>"
   ]
  },
  {
   "cell_type": "markdown",
   "id": "459b3369",
   "metadata": {},
   "source": [
    "<a id='another_cell_g'></a>"
   ]
  },
  {
   "cell_type": "markdown",
   "id": "8bc1533a",
   "metadata": {},
   "source": [
    "#### 7. Merge dataframes, explore and clean"
   ]
  },
  {
   "cell_type": "code",
   "execution_count": 54,
   "id": "2562aed9",
   "metadata": {},
   "outputs": [
    {
     "data": {
      "text/html": [
       "<div>\n",
       "<style scoped>\n",
       "    .dataframe tbody tr th:only-of-type {\n",
       "        vertical-align: middle;\n",
       "    }\n",
       "\n",
       "    .dataframe tbody tr th {\n",
       "        vertical-align: top;\n",
       "    }\n",
       "\n",
       "    .dataframe thead th {\n",
       "        text-align: right;\n",
       "    }\n",
       "</style>\n",
       "<table border=\"1\" class=\"dataframe\">\n",
       "  <thead>\n",
       "    <tr style=\"text-align: right;\">\n",
       "      <th></th>\n",
       "      <th>Code zone</th>\n",
       "      <th>Zone</th>\n",
       "      <th>Consommation de poulet (en tonnes)</th>\n",
       "      <th>Disponibilité de poulet (en tonnes)</th>\n",
       "      <th>Disponibilité alimentaire moyenne par habitant (en kg)</th>\n",
       "      <th>Production de poulet (en tonnes)</th>\n",
       "      <th>Exportation de poulet (en tonnes)</th>\n",
       "      <th>Importation de poulet (en tonnes)</th>\n",
       "    </tr>\n",
       "  </thead>\n",
       "  <tbody>\n",
       "    <tr>\n",
       "      <th>0</th>\n",
       "      <td>2</td>\n",
       "      <td>Afghanistan</td>\n",
       "      <td>55000</td>\n",
       "      <td>57000</td>\n",
       "      <td>1.53</td>\n",
       "      <td>28000.0</td>\n",
       "      <td>NaN</td>\n",
       "      <td>29000</td>\n",
       "    </tr>\n",
       "    <tr>\n",
       "      <th>1</th>\n",
       "      <td>202</td>\n",
       "      <td>Afrique du Sud</td>\n",
       "      <td>2035000</td>\n",
       "      <td>2118000</td>\n",
       "      <td>35.69</td>\n",
       "      <td>1667000.0</td>\n",
       "      <td>63000.0</td>\n",
       "      <td>514000</td>\n",
       "    </tr>\n",
       "    <tr>\n",
       "      <th>2</th>\n",
       "      <td>3</td>\n",
       "      <td>Albanie</td>\n",
       "      <td>47000</td>\n",
       "      <td>47000</td>\n",
       "      <td>16.36</td>\n",
       "      <td>13000.0</td>\n",
       "      <td>0.0</td>\n",
       "      <td>38000</td>\n",
       "    </tr>\n",
       "    <tr>\n",
       "      <th>3</th>\n",
       "      <td>4</td>\n",
       "      <td>Algérie</td>\n",
       "      <td>264000</td>\n",
       "      <td>277000</td>\n",
       "      <td>6.38</td>\n",
       "      <td>275000.0</td>\n",
       "      <td>0.0</td>\n",
       "      <td>2000</td>\n",
       "    </tr>\n",
       "    <tr>\n",
       "      <th>4</th>\n",
       "      <td>79</td>\n",
       "      <td>Allemagne</td>\n",
       "      <td>1609000</td>\n",
       "      <td>1739000</td>\n",
       "      <td>19.47</td>\n",
       "      <td>1514000.0</td>\n",
       "      <td>646000.0</td>\n",
       "      <td>842000</td>\n",
       "    </tr>\n",
       "  </tbody>\n",
       "</table>\n",
       "</div>"
      ],
      "text/plain": [
       "   Code zone            Zone  Consommation de poulet (en tonnes)  \\\n",
       "0          2     Afghanistan                               55000   \n",
       "1        202  Afrique du Sud                             2035000   \n",
       "2          3         Albanie                               47000   \n",
       "3          4         Algérie                              264000   \n",
       "4         79       Allemagne                             1609000   \n",
       "\n",
       "   Disponibilité de poulet (en tonnes)  \\\n",
       "0                                57000   \n",
       "1                              2118000   \n",
       "2                                47000   \n",
       "3                               277000   \n",
       "4                              1739000   \n",
       "\n",
       "   Disponibilité alimentaire moyenne par habitant (en kg)  \\\n",
       "0                                               1.53        \n",
       "1                                              35.69        \n",
       "2                                              16.36        \n",
       "3                                               6.38        \n",
       "4                                              19.47        \n",
       "\n",
       "   Production de poulet (en tonnes)  Exportation de poulet (en tonnes)  \\\n",
       "0                           28000.0                                NaN   \n",
       "1                         1667000.0                            63000.0   \n",
       "2                           13000.0                                0.0   \n",
       "3                          275000.0                                0.0   \n",
       "4                         1514000.0                           646000.0   \n",
       "\n",
       "   Importation de poulet (en tonnes)  \n",
       "0                              29000  \n",
       "1                             514000  \n",
       "2                              38000  \n",
       "3                               2000  \n",
       "4                             842000  "
      ]
     },
     "metadata": {},
     "output_type": "display_data"
    }
   ],
   "source": [
    "chickenALL1 = chicken_consum.merge(chicken_avail, how='left', on='Code zone').merge(chicken_avail_per_hab, how='left', on='Code zone').merge(chicken_prod, how='left', on='Code zone').merge(chicken_export, how='left', on='Code zone').merge(chicken_import, how='left', on='Code zone')\n",
    "display(chickenALL1.head())"
   ]
  },
  {
   "cell_type": "markdown",
   "id": "5a88ab3b",
   "metadata": {},
   "source": [
    "- Explore the final result :"
   ]
  },
  {
   "cell_type": "code",
   "execution_count": 55,
   "id": "f9642552",
   "metadata": {},
   "outputs": [
    {
     "data": {
      "text/plain": [
       "(170, 8)"
      ]
     },
     "execution_count": 55,
     "metadata": {},
     "output_type": "execute_result"
    }
   ],
   "source": [
    "chickenALL1.shape"
   ]
  },
  {
   "cell_type": "code",
   "execution_count": 56,
   "id": "4403f17e",
   "metadata": {
    "scrolled": false
   },
   "outputs": [
    {
     "name": "stdout",
     "output_type": "stream",
     "text": [
      "<class 'pandas.core.frame.DataFrame'>\n",
      "Int64Index: 170 entries, 0 to 169\n",
      "Data columns (total 8 columns):\n",
      " #   Column                                                  Non-Null Count  Dtype  \n",
      "---  ------                                                  --------------  -----  \n",
      " 0   Code zone                                               170 non-null    int64  \n",
      " 1   Zone                                                    170 non-null    object \n",
      " 2   Consommation de poulet (en tonnes)                      170 non-null    int64  \n",
      " 3   Disponibilité de poulet (en tonnes)                     170 non-null    int64  \n",
      " 4   Disponibilité alimentaire moyenne par habitant (en kg)  170 non-null    float64\n",
      " 5   Production de poulet (en tonnes)                        168 non-null    float64\n",
      " 6   Exportation de poulet (en tonnes)                       135 non-null    float64\n",
      " 7   Importation de poulet (en tonnes)                       170 non-null    int64  \n",
      "dtypes: float64(3), int64(4), object(1)\n",
      "memory usage: 12.0+ KB\n"
     ]
    }
   ],
   "source": [
    "chickenALL1.info()"
   ]
  },
  {
   "cell_type": "markdown",
   "id": "d621fd15",
   "metadata": {},
   "source": [
    "- Check duplicate values :"
   ]
  },
  {
   "cell_type": "code",
   "execution_count": 57,
   "id": "d22a7164",
   "metadata": {},
   "outputs": [
    {
     "name": "stdout",
     "output_type": "stream",
     "text": [
      "The column Code zone does not contain duplicates\n"
     ]
    }
   ],
   "source": [
    "check_duplicates(chickenALL1,\"Code zone\")"
   ]
  },
  {
   "cell_type": "markdown",
   "id": "e44902a7",
   "metadata": {},
   "source": [
    "- Fill NA/NaN values :"
   ]
  },
  {
   "cell_type": "code",
   "execution_count": 58,
   "id": "65bf6919",
   "metadata": {},
   "outputs": [
    {
     "name": "stdout",
     "output_type": "stream",
     "text": [
      "<class 'pandas.core.frame.DataFrame'>\n",
      "Int64Index: 170 entries, 0 to 169\n",
      "Data columns (total 8 columns):\n",
      " #   Column                                                  Non-Null Count  Dtype  \n",
      "---  ------                                                  --------------  -----  \n",
      " 0   Code zone                                               170 non-null    int64  \n",
      " 1   Zone                                                    170 non-null    object \n",
      " 2   Consommation de poulet (en tonnes)                      170 non-null    int64  \n",
      " 3   Disponibilité de poulet (en tonnes)                     170 non-null    int64  \n",
      " 4   Disponibilité alimentaire moyenne par habitant (en kg)  170 non-null    float64\n",
      " 5   Production de poulet (en tonnes)                        170 non-null    float64\n",
      " 6   Exportation de poulet (en tonnes)                       170 non-null    float64\n",
      " 7   Importation de poulet (en tonnes)                       170 non-null    int64  \n",
      "dtypes: float64(3), int64(4), object(1)\n",
      "memory usage: 12.0+ KB\n"
     ]
    },
    {
     "data": {
      "text/html": [
       "<div>\n",
       "<style scoped>\n",
       "    .dataframe tbody tr th:only-of-type {\n",
       "        vertical-align: middle;\n",
       "    }\n",
       "\n",
       "    .dataframe tbody tr th {\n",
       "        vertical-align: top;\n",
       "    }\n",
       "\n",
       "    .dataframe thead th {\n",
       "        text-align: right;\n",
       "    }\n",
       "</style>\n",
       "<table border=\"1\" class=\"dataframe\">\n",
       "  <thead>\n",
       "    <tr style=\"text-align: right;\">\n",
       "      <th></th>\n",
       "      <th>Code zone</th>\n",
       "      <th>Zone</th>\n",
       "      <th>Consommation de poulet (en tonnes)</th>\n",
       "      <th>Disponibilité de poulet (en tonnes)</th>\n",
       "      <th>Disponibilité alimentaire moyenne par habitant (en kg)</th>\n",
       "      <th>Production de poulet (en tonnes)</th>\n",
       "      <th>Exportation de poulet (en tonnes)</th>\n",
       "      <th>Importation de poulet (en tonnes)</th>\n",
       "    </tr>\n",
       "  </thead>\n",
       "  <tbody>\n",
       "    <tr>\n",
       "      <th>0</th>\n",
       "      <td>2</td>\n",
       "      <td>Afghanistan</td>\n",
       "      <td>55000</td>\n",
       "      <td>57000</td>\n",
       "      <td>1.53</td>\n",
       "      <td>28000.0</td>\n",
       "      <td>0.0</td>\n",
       "      <td>29000</td>\n",
       "    </tr>\n",
       "    <tr>\n",
       "      <th>1</th>\n",
       "      <td>202</td>\n",
       "      <td>Afrique du Sud</td>\n",
       "      <td>2035000</td>\n",
       "      <td>2118000</td>\n",
       "      <td>35.69</td>\n",
       "      <td>1667000.0</td>\n",
       "      <td>63000.0</td>\n",
       "      <td>514000</td>\n",
       "    </tr>\n",
       "    <tr>\n",
       "      <th>2</th>\n",
       "      <td>3</td>\n",
       "      <td>Albanie</td>\n",
       "      <td>47000</td>\n",
       "      <td>47000</td>\n",
       "      <td>16.36</td>\n",
       "      <td>13000.0</td>\n",
       "      <td>0.0</td>\n",
       "      <td>38000</td>\n",
       "    </tr>\n",
       "    <tr>\n",
       "      <th>3</th>\n",
       "      <td>4</td>\n",
       "      <td>Algérie</td>\n",
       "      <td>264000</td>\n",
       "      <td>277000</td>\n",
       "      <td>6.38</td>\n",
       "      <td>275000.0</td>\n",
       "      <td>0.0</td>\n",
       "      <td>2000</td>\n",
       "    </tr>\n",
       "    <tr>\n",
       "      <th>4</th>\n",
       "      <td>79</td>\n",
       "      <td>Allemagne</td>\n",
       "      <td>1609000</td>\n",
       "      <td>1739000</td>\n",
       "      <td>19.47</td>\n",
       "      <td>1514000.0</td>\n",
       "      <td>646000.0</td>\n",
       "      <td>842000</td>\n",
       "    </tr>\n",
       "  </tbody>\n",
       "</table>\n",
       "</div>"
      ],
      "text/plain": [
       "   Code zone            Zone  Consommation de poulet (en tonnes)  \\\n",
       "0          2     Afghanistan                               55000   \n",
       "1        202  Afrique du Sud                             2035000   \n",
       "2          3         Albanie                               47000   \n",
       "3          4         Algérie                              264000   \n",
       "4         79       Allemagne                             1609000   \n",
       "\n",
       "   Disponibilité de poulet (en tonnes)  \\\n",
       "0                                57000   \n",
       "1                              2118000   \n",
       "2                                47000   \n",
       "3                               277000   \n",
       "4                              1739000   \n",
       "\n",
       "   Disponibilité alimentaire moyenne par habitant (en kg)  \\\n",
       "0                                               1.53        \n",
       "1                                              35.69        \n",
       "2                                              16.36        \n",
       "3                                               6.38        \n",
       "4                                              19.47        \n",
       "\n",
       "   Production de poulet (en tonnes)  Exportation de poulet (en tonnes)  \\\n",
       "0                           28000.0                                0.0   \n",
       "1                         1667000.0                            63000.0   \n",
       "2                           13000.0                                0.0   \n",
       "3                          275000.0                                0.0   \n",
       "4                         1514000.0                           646000.0   \n",
       "\n",
       "   Importation de poulet (en tonnes)  \n",
       "0                              29000  \n",
       "1                             514000  \n",
       "2                              38000  \n",
       "3                               2000  \n",
       "4                             842000  "
      ]
     },
     "execution_count": 58,
     "metadata": {},
     "output_type": "execute_result"
    }
   ],
   "source": [
    "chickenALL1[\"Production de poulet (en tonnes)\"].fillna(0, inplace=True)\n",
    "chickenALL1[\"Exportation de poulet (en tonnes)\"].fillna(0, inplace=True)\n",
    "chickenALL1.info()\n",
    "chickenALL1.head()"
   ]
  },
  {
   "cell_type": "markdown",
   "id": "740077b2",
   "metadata": {},
   "source": [
    "<a id='another_cell_h'></a>"
   ]
  },
  {
   "cell_type": "markdown",
   "id": "7288cff6",
   "metadata": {},
   "source": [
    "#### Conclusion (part I/a)"
   ]
  },
  {
   "cell_type": "markdown",
   "id": "ac5133d8",
   "metadata": {},
   "source": [
    "<div class=\"alert-success\">\n",
    "<i>→ We have 6 variables of consumption and sale of chicken in the world</i></br>\n",
    "<br><i>→ 5 variables are in \"tons\" and 1 variable is in \"kg\"</i></br>\n",
    "<i><br>→ There are between 135 and 172 countries concerned by these variables</br></i>\n",
    "<i><br>→ All data files do not contain any missing value or duplicates on the primary key (\"Code zone\")</i></br>\n",
    "<i><br>→ All data files contain between 3 and 10 data outliers :</i></br>\n",
    "<i><br>---- 🗴 The USA and Brazil consume, product and export chicken a lot but import less, at first glance they don't seem to be very good customers for La Poule qui chante</i></br>\n",
    "<i><br>---- - The Netherlands export a lot but import less</i></br>\n",
    "<i><br>---- 🗸 Japan, Mexico, Germany, England, Saoudia, South Africa, France and Iraq import chicken a lot ; those seem to be good clients for La Poule qui chante</i></br>\n",
    "<i><br>---- 🗸 China consume, product and import chicken a lot ; it seems to be a good client too for La Poule qui chante</i></br>\n",
    "</i></div>"
   ]
  },
  {
   "cell_type": "markdown",
   "id": "c4857582",
   "metadata": {},
   "source": [
    " "
   ]
  },
  {
   "cell_type": "markdown",
   "id": "12c45342",
   "metadata": {},
   "source": [
    "### B. Global macroeconomic and political data (2017)"
   ]
  },
  {
   "cell_type": "markdown",
   "id": "788c1ac2",
   "metadata": {},
   "source": [
    "<a id='another_cell_i'></a>"
   ]
  },
  {
   "cell_type": "markdown",
   "id": "9c923f96",
   "metadata": {},
   "source": [
    "#### 1. [data_population.csv](http://localhost:8888/edit/data_population_2017.csv) : exploration and data cleaning"
   ]
  },
  {
   "cell_type": "markdown",
   "id": "98f98b74",
   "metadata": {},
   "source": [
    "- Loading file:"
   ]
  },
  {
   "cell_type": "code",
   "execution_count": 59,
   "id": "8afae35d",
   "metadata": {},
   "outputs": [],
   "source": [
    "data_pop = pd.read_csv('data_population_2017.csv', sep=';')"
   ]
  },
  {
   "cell_type": "markdown",
   "id": "faec789c",
   "metadata": {},
   "source": [
    "- First 5 rows display :"
   ]
  },
  {
   "cell_type": "code",
   "execution_count": 60,
   "id": "d755daad",
   "metadata": {},
   "outputs": [
    {
     "data": {
      "text/html": [
       "<div>\n",
       "<style scoped>\n",
       "    .dataframe tbody tr th:only-of-type {\n",
       "        vertical-align: middle;\n",
       "    }\n",
       "\n",
       "    .dataframe tbody tr th {\n",
       "        vertical-align: top;\n",
       "    }\n",
       "\n",
       "    .dataframe thead th {\n",
       "        text-align: right;\n",
       "    }\n",
       "</style>\n",
       "<table border=\"1\" class=\"dataframe\">\n",
       "  <thead>\n",
       "    <tr style=\"text-align: right;\">\n",
       "      <th></th>\n",
       "      <th>Code zone</th>\n",
       "      <th>Zone</th>\n",
       "      <th>Élément</th>\n",
       "      <th>Année</th>\n",
       "      <th>Unité</th>\n",
       "      <th>Valeur</th>\n",
       "    </tr>\n",
       "  </thead>\n",
       "  <tbody>\n",
       "    <tr>\n",
       "      <th>0</th>\n",
       "      <td>2</td>\n",
       "      <td>Afghanistan</td>\n",
       "      <td>Population totale</td>\n",
       "      <td>2017</td>\n",
       "      <td>1000 personnes</td>\n",
       "      <td>36296.113</td>\n",
       "    </tr>\n",
       "    <tr>\n",
       "      <th>1</th>\n",
       "      <td>202</td>\n",
       "      <td>Afrique du Sud</td>\n",
       "      <td>Population totale</td>\n",
       "      <td>2017</td>\n",
       "      <td>1000 personnes</td>\n",
       "      <td>57009.756</td>\n",
       "    </tr>\n",
       "    <tr>\n",
       "      <th>2</th>\n",
       "      <td>3</td>\n",
       "      <td>Albanie</td>\n",
       "      <td>Population totale</td>\n",
       "      <td>2017</td>\n",
       "      <td>1000 personnes</td>\n",
       "      <td>2884.169</td>\n",
       "    </tr>\n",
       "    <tr>\n",
       "      <th>3</th>\n",
       "      <td>4</td>\n",
       "      <td>Algérie</td>\n",
       "      <td>Population totale</td>\n",
       "      <td>2017</td>\n",
       "      <td>1000 personnes</td>\n",
       "      <td>41389.189</td>\n",
       "    </tr>\n",
       "    <tr>\n",
       "      <th>4</th>\n",
       "      <td>79</td>\n",
       "      <td>Allemagne</td>\n",
       "      <td>Population totale</td>\n",
       "      <td>2017</td>\n",
       "      <td>1000 personnes</td>\n",
       "      <td>82658.409</td>\n",
       "    </tr>\n",
       "  </tbody>\n",
       "</table>\n",
       "</div>"
      ],
      "text/plain": [
       "   Code zone            Zone            Élément  Année           Unité  \\\n",
       "0          2     Afghanistan  Population totale   2017  1000 personnes   \n",
       "1        202  Afrique du Sud  Population totale   2017  1000 personnes   \n",
       "2          3         Albanie  Population totale   2017  1000 personnes   \n",
       "3          4         Algérie  Population totale   2017  1000 personnes   \n",
       "4         79       Allemagne  Population totale   2017  1000 personnes   \n",
       "\n",
       "      Valeur  \n",
       "0  36296.113  \n",
       "1  57009.756  \n",
       "2   2884.169  \n",
       "3  41389.189  \n",
       "4  82658.409  "
      ]
     },
     "execution_count": 60,
     "metadata": {},
     "output_type": "execute_result"
    }
   ],
   "source": [
    "data_pop.head()"
   ]
  },
  {
   "cell_type": "markdown",
   "id": "fce68e0e",
   "metadata": {},
   "source": [
    "- Number of rows and columns :"
   ]
  },
  {
   "cell_type": "code",
   "execution_count": 61,
   "id": "49738117",
   "metadata": {},
   "outputs": [
    {
     "data": {
      "text/plain": [
       "(235, 6)"
      ]
     },
     "execution_count": 61,
     "metadata": {},
     "output_type": "execute_result"
    }
   ],
   "source": [
    "data_pop.shape"
   ]
  },
  {
   "cell_type": "markdown",
   "id": "4d90a232",
   "metadata": {},
   "source": [
    "- .info display :"
   ]
  },
  {
   "cell_type": "code",
   "execution_count": 62,
   "id": "1c224f4b",
   "metadata": {},
   "outputs": [
    {
     "name": "stdout",
     "output_type": "stream",
     "text": [
      "<class 'pandas.core.frame.DataFrame'>\n",
      "RangeIndex: 235 entries, 0 to 234\n",
      "Data columns (total 6 columns):\n",
      " #   Column     Non-Null Count  Dtype  \n",
      "---  ------     --------------  -----  \n",
      " 0   Code zone  235 non-null    int64  \n",
      " 1   Zone       235 non-null    object \n",
      " 2   Élément    235 non-null    object \n",
      " 3   Année      235 non-null    int64  \n",
      " 4   Unité      235 non-null    object \n",
      " 5   Valeur     235 non-null    float64\n",
      "dtypes: float64(1), int64(2), object(3)\n",
      "memory usage: 11.1+ KB\n"
     ]
    }
   ],
   "source": [
    "data_pop.info()"
   ]
  },
  {
   "cell_type": "markdown",
   "id": "1d3cd54b",
   "metadata": {},
   "source": [
    "- Check null and duplicates values :"
   ]
  },
  {
   "cell_type": "code",
   "execution_count": 63,
   "id": "e4cea221",
   "metadata": {},
   "outputs": [
    {
     "name": "stdout",
     "output_type": "stream",
     "text": [
      "The column Code zone does not contain any missing values\n",
      "The column Code zone does not contain duplicates\n"
     ]
    }
   ],
   "source": [
    "check_nan(chicken_consum, \"Code zone\")\n",
    "check_duplicates(chicken_consum, \"Code zone\")"
   ]
  },
  {
   "cell_type": "markdown",
   "id": "cbd16cb9",
   "metadata": {},
   "source": [
    "<div class=\"alert-success\">\n",
    "    <u>Notice</u> :\n",
    "<i><br><li> Population data provides information on the demography of countries in the world : their zone code (primary key), the name of zone and the number of inhabitants of each country (in thousands of inhabitants)</br></li>\n",
    "<li> There are 235 countries concerned in 2017</li>\n",
    "<li> The data file does not contain any missing value or duplicates on the primary key</li>\n",
    "</i></div>"
   ]
  },
  {
   "cell_type": "markdown",
   "id": "bd57f3e9",
   "metadata": {},
   "source": [
    "- Values conversion (from thousands of inhabitants in population units) :"
   ]
  },
  {
   "cell_type": "code",
   "execution_count": 64,
   "id": "73e11990",
   "metadata": {},
   "outputs": [],
   "source": [
    "data_pop['Valeur'] = data_pop['Valeur'] * 1000\n",
    "data_pop.rename(columns={\"Valeur\":\"Population (en unité)\"}, inplace=True)"
   ]
  },
  {
   "cell_type": "markdown",
   "id": "0e23cae5",
   "metadata": {},
   "source": [
    "- Removed some unnecessary columns :"
   ]
  },
  {
   "cell_type": "code",
   "execution_count": 65,
   "id": "667e7553",
   "metadata": {},
   "outputs": [
    {
     "data": {
      "text/html": [
       "<div>\n",
       "<style scoped>\n",
       "    .dataframe tbody tr th:only-of-type {\n",
       "        vertical-align: middle;\n",
       "    }\n",
       "\n",
       "    .dataframe tbody tr th {\n",
       "        vertical-align: top;\n",
       "    }\n",
       "\n",
       "    .dataframe thead th {\n",
       "        text-align: right;\n",
       "    }\n",
       "</style>\n",
       "<table border=\"1\" class=\"dataframe\">\n",
       "  <thead>\n",
       "    <tr style=\"text-align: right;\">\n",
       "      <th></th>\n",
       "      <th>Code zone</th>\n",
       "      <th>Population (en unité)</th>\n",
       "    </tr>\n",
       "  </thead>\n",
       "  <tbody>\n",
       "    <tr>\n",
       "      <th>0</th>\n",
       "      <td>2</td>\n",
       "      <td>36296113.0</td>\n",
       "    </tr>\n",
       "    <tr>\n",
       "      <th>1</th>\n",
       "      <td>202</td>\n",
       "      <td>57009756.0</td>\n",
       "    </tr>\n",
       "    <tr>\n",
       "      <th>2</th>\n",
       "      <td>3</td>\n",
       "      <td>2884169.0</td>\n",
       "    </tr>\n",
       "    <tr>\n",
       "      <th>3</th>\n",
       "      <td>4</td>\n",
       "      <td>41389189.0</td>\n",
       "    </tr>\n",
       "    <tr>\n",
       "      <th>4</th>\n",
       "      <td>79</td>\n",
       "      <td>82658409.0</td>\n",
       "    </tr>\n",
       "  </tbody>\n",
       "</table>\n",
       "</div>"
      ],
      "text/plain": [
       "   Code zone  Population (en unité)\n",
       "0          2             36296113.0\n",
       "1        202             57009756.0\n",
       "2          3              2884169.0\n",
       "3          4             41389189.0\n",
       "4         79             82658409.0"
      ]
     },
     "execution_count": 65,
     "metadata": {},
     "output_type": "execute_result"
    }
   ],
   "source": [
    "data_pop.drop(columns =['Zone', 'Élément', 'Année', 'Unité'], inplace=True)\n",
    "data_pop.head()"
   ]
  },
  {
   "cell_type": "markdown",
   "id": "660ee148",
   "metadata": {},
   "source": [
    "- Outliers on the variable \"Population\" : "
   ]
  },
  {
   "cell_type": "code",
   "execution_count": 103,
   "id": "2317b415",
   "metadata": {},
   "outputs": [
    {
     "name": "stdout",
     "output_type": "stream",
     "text": [
      "---------------------------------------------------------------------------------------------------- \n",
      "\n"
     ]
    },
    {
     "data": {
      "image/png": "[encoded data removed]",
      "text/plain": [
       "<Figure size 648x432 with 1 Axes>"
      ]
     },
     "metadata": {
      "needs_background": "light"
     },
     "output_type": "display_data"
    },
    {
     "name": "stdout",
     "output_type": "stream",
     "text": [
      "---------------------------------------------------------------------------------------------------- \n",
      "\n"
     ]
    },
    {
     "data": {
      "text/html": [
       "<div>\n",
       "<style scoped>\n",
       "    .dataframe tbody tr th:only-of-type {\n",
       "        vertical-align: middle;\n",
       "    }\n",
       "\n",
       "    .dataframe tbody tr th {\n",
       "        vertical-align: top;\n",
       "    }\n",
       "\n",
       "    .dataframe thead th {\n",
       "        text-align: right;\n",
       "    }\n",
       "</style>\n",
       "<table border=\"1\" class=\"dataframe\">\n",
       "  <thead>\n",
       "    <tr style=\"text-align: right;\">\n",
       "      <th></th>\n",
       "      <th>Code zone</th>\n",
       "      <th>Population (en unité)</th>\n",
       "      <th>zscore</th>\n",
       "    </tr>\n",
       "  </thead>\n",
       "  <tbody>\n",
       "    <tr>\n",
       "      <th>42</th>\n",
       "      <td>41</td>\n",
       "      <td>1.421022e+09</td>\n",
       "      <td>10.509249</td>\n",
       "    </tr>\n",
       "    <tr>\n",
       "      <th>102</th>\n",
       "      <td>100</td>\n",
       "      <td>1.338677e+09</td>\n",
       "      <td>9.886179</td>\n",
       "    </tr>\n",
       "    <tr>\n",
       "      <th>64</th>\n",
       "      <td>231</td>\n",
       "      <td>3.250848e+08</td>\n",
       "      <td>2.216753</td>\n",
       "    </tr>\n",
       "  </tbody>\n",
       "</table>\n",
       "</div>"
      ],
      "text/plain": [
       "     Code zone  Population (en unité)     zscore\n",
       "42          41           1.421022e+09  10.509249\n",
       "102        100           1.338677e+09   9.886179\n",
       "64         231           3.250848e+08   2.216753"
      ]
     },
     "execution_count": 103,
     "metadata": {},
     "output_type": "execute_result"
    }
   ],
   "source": [
    "outliers = data_pop.copy()\n",
    "outliers[\"zscore\"] = (outliers[\"Population (en unité)\"] - outliers[\"Population (en unité)\"].mean())/outliers[\"Population (en unité)\"].std()\n",
    "the_ok = outliers[(outliers[\"zscore\"] <= 2) & (outliers[\"zscore\"] >= -2)]\n",
    "the_outliers = outliers[outliers[\"zscore\"].abs() >2];\n",
    "print('-'*100, \"\\n\")\n",
    "plt.figure(figsize=(9,6))\n",
    "sns.scatterplot(x=the_ok[\"Population (en unité)\"].index, y=the_ok[\"Population (en unité)\"].values,)\n",
    "sns.scatterplot(x=the_outliers[\"Population (en unité)\"].index, y=the_outliers[\"Population (en unité)\"].values)\n",
    "plt.title('Outliers graphic representation')\n",
    "plt.savefig(\"Part1.Outliers graphic representation on the worldwilde population.png\", bbox_inches='tight')\n",
    "plt.show()\n",
    "print('-'*100, \"\\n\")\n",
    "the_outliers.sort_values(by=[\"zscore\"], ascending=False)"
   ]
  },
  {
   "cell_type": "markdown",
   "id": "93473132",
   "metadata": {},
   "source": [
    "<div class=\"alert-warning\">\n",
    "    <u>Warning</u> :\n",
    "<i><br><li> Number of outliers detected : 3</br></li>\n",
    "<i><li> The most important demographies in the world in 2017 are in: China, India and the USA</li>\n",
    "</i></div>"
   ]
  },
  {
   "cell_type": "markdown",
   "id": "8bceb3ee",
   "metadata": {},
   "source": [
    "<a id='another_cell_j'></a>"
   ]
  },
  {
   "cell_type": "markdown",
   "id": "721b1e88",
   "metadata": {},
   "source": [
    "#### 2. [data_political_stability.csv](http://localhost:8888/edit/data_political_stability_2017.csv) : exploration and data cleaning"
   ]
  },
  {
   "cell_type": "markdown",
   "id": "65cde60a",
   "metadata": {},
   "source": [
    "- Loading file:"
   ]
  },
  {
   "cell_type": "code",
   "execution_count": 67,
   "id": "0e8e9512",
   "metadata": {},
   "outputs": [],
   "source": [
    "data_pol_stab = pd.read_csv('data_political_stability_2017.csv', sep=';')"
   ]
  },
  {
   "cell_type": "markdown",
   "id": "e3ef7eec",
   "metadata": {},
   "source": [
    "- First 5 rows display :"
   ]
  },
  {
   "cell_type": "code",
   "execution_count": 68,
   "id": "05c862c6",
   "metadata": {},
   "outputs": [
    {
     "data": {
      "text/html": [
       "<div>\n",
       "<style scoped>\n",
       "    .dataframe tbody tr th:only-of-type {\n",
       "        vertical-align: middle;\n",
       "    }\n",
       "\n",
       "    .dataframe tbody tr th {\n",
       "        vertical-align: top;\n",
       "    }\n",
       "\n",
       "    .dataframe thead th {\n",
       "        text-align: right;\n",
       "    }\n",
       "</style>\n",
       "<table border=\"1\" class=\"dataframe\">\n",
       "  <thead>\n",
       "    <tr style=\"text-align: right;\">\n",
       "      <th></th>\n",
       "      <th>Code zone</th>\n",
       "      <th>Zone</th>\n",
       "      <th>Code Élément</th>\n",
       "      <th>Produit</th>\n",
       "      <th>Année</th>\n",
       "      <th>Unité</th>\n",
       "      <th>Valeur</th>\n",
       "    </tr>\n",
       "  </thead>\n",
       "  <tbody>\n",
       "    <tr>\n",
       "      <th>0</th>\n",
       "      <td>2</td>\n",
       "      <td>Afghanistan</td>\n",
       "      <td>6125</td>\n",
       "      <td>Stabilité politique et absence de violence/ter...</td>\n",
       "      <td>2017</td>\n",
       "      <td>indice</td>\n",
       "      <td>-2.80</td>\n",
       "    </tr>\n",
       "    <tr>\n",
       "      <th>1</th>\n",
       "      <td>202</td>\n",
       "      <td>Afrique du Sud</td>\n",
       "      <td>6125</td>\n",
       "      <td>Stabilité politique et absence de violence/ter...</td>\n",
       "      <td>2017</td>\n",
       "      <td>indice</td>\n",
       "      <td>-0.28</td>\n",
       "    </tr>\n",
       "    <tr>\n",
       "      <th>2</th>\n",
       "      <td>3</td>\n",
       "      <td>Albanie</td>\n",
       "      <td>6125</td>\n",
       "      <td>Stabilité politique et absence de violence/ter...</td>\n",
       "      <td>2017</td>\n",
       "      <td>indice</td>\n",
       "      <td>0.38</td>\n",
       "    </tr>\n",
       "    <tr>\n",
       "      <th>3</th>\n",
       "      <td>4</td>\n",
       "      <td>Algérie</td>\n",
       "      <td>6125</td>\n",
       "      <td>Stabilité politique et absence de violence/ter...</td>\n",
       "      <td>2017</td>\n",
       "      <td>indice</td>\n",
       "      <td>-0.92</td>\n",
       "    </tr>\n",
       "    <tr>\n",
       "      <th>4</th>\n",
       "      <td>79</td>\n",
       "      <td>Allemagne</td>\n",
       "      <td>6125</td>\n",
       "      <td>Stabilité politique et absence de violence/ter...</td>\n",
       "      <td>2017</td>\n",
       "      <td>indice</td>\n",
       "      <td>0.59</td>\n",
       "    </tr>\n",
       "  </tbody>\n",
       "</table>\n",
       "</div>"
      ],
      "text/plain": [
       "   Code zone            Zone  Code Élément  \\\n",
       "0          2     Afghanistan          6125   \n",
       "1        202  Afrique du Sud          6125   \n",
       "2          3         Albanie          6125   \n",
       "3          4         Algérie          6125   \n",
       "4         79       Allemagne          6125   \n",
       "\n",
       "                                             Produit  Année   Unité  Valeur  \n",
       "0  Stabilité politique et absence de violence/ter...   2017  indice   -2.80  \n",
       "1  Stabilité politique et absence de violence/ter...   2017  indice   -0.28  \n",
       "2  Stabilité politique et absence de violence/ter...   2017  indice    0.38  \n",
       "3  Stabilité politique et absence de violence/ter...   2017  indice   -0.92  \n",
       "4  Stabilité politique et absence de violence/ter...   2017  indice    0.59  "
      ]
     },
     "execution_count": 68,
     "metadata": {},
     "output_type": "execute_result"
    }
   ],
   "source": [
    "data_pol_stab.head()"
   ]
  },
  {
   "cell_type": "markdown",
   "id": "68a0dda6",
   "metadata": {},
   "source": [
    "- Number of rows and columns :"
   ]
  },
  {
   "cell_type": "code",
   "execution_count": 69,
   "id": "109b046e",
   "metadata": {},
   "outputs": [
    {
     "data": {
      "text/plain": [
       "(204, 7)"
      ]
     },
     "execution_count": 69,
     "metadata": {},
     "output_type": "execute_result"
    }
   ],
   "source": [
    "data_pol_stab.shape"
   ]
  },
  {
   "cell_type": "markdown",
   "id": "ebcec1ff",
   "metadata": {},
   "source": [
    "- .info display :"
   ]
  },
  {
   "cell_type": "code",
   "execution_count": 70,
   "id": "dd30aab9",
   "metadata": {},
   "outputs": [
    {
     "name": "stdout",
     "output_type": "stream",
     "text": [
      "<class 'pandas.core.frame.DataFrame'>\n",
      "RangeIndex: 204 entries, 0 to 203\n",
      "Data columns (total 7 columns):\n",
      " #   Column        Non-Null Count  Dtype  \n",
      "---  ------        --------------  -----  \n",
      " 0   Code zone     204 non-null    int64  \n",
      " 1   Zone          204 non-null    object \n",
      " 2   Code Élément  204 non-null    int64  \n",
      " 3   Produit       204 non-null    object \n",
      " 4   Année         204 non-null    int64  \n",
      " 5   Unité         204 non-null    object \n",
      " 6   Valeur        197 non-null    float64\n",
      "dtypes: float64(1), int64(3), object(3)\n",
      "memory usage: 11.3+ KB\n"
     ]
    }
   ],
   "source": [
    "data_pol_stab.info()"
   ]
  },
  {
   "cell_type": "markdown",
   "id": "f708cc15",
   "metadata": {},
   "source": [
    "- Fill NA/NaN values :"
   ]
  },
  {
   "cell_type": "code",
   "execution_count": 71,
   "id": "2042787b",
   "metadata": {},
   "outputs": [
    {
     "name": "stdout",
     "output_type": "stream",
     "text": [
      "<class 'pandas.core.frame.DataFrame'>\n",
      "RangeIndex: 204 entries, 0 to 203\n",
      "Data columns (total 7 columns):\n",
      " #   Column        Non-Null Count  Dtype  \n",
      "---  ------        --------------  -----  \n",
      " 0   Code zone     204 non-null    int64  \n",
      " 1   Zone          204 non-null    object \n",
      " 2   Code Élément  204 non-null    int64  \n",
      " 3   Produit       204 non-null    object \n",
      " 4   Année         204 non-null    int64  \n",
      " 5   Unité         204 non-null    object \n",
      " 6   Valeur        204 non-null    float64\n",
      "dtypes: float64(1), int64(3), object(3)\n",
      "memory usage: 11.3+ KB\n"
     ]
    }
   ],
   "source": [
    "data_pol_stab['Valeur'].fillna(0, inplace=True)\n",
    "data_pol_stab.info()"
   ]
  },
  {
   "cell_type": "markdown",
   "id": "523723d9",
   "metadata": {},
   "source": [
    "- Check min and max values :"
   ]
  },
  {
   "cell_type": "code",
   "execution_count": 72,
   "id": "7b175a2d",
   "metadata": {},
   "outputs": [
    {
     "name": "stdout",
     "output_type": "stream",
     "text": [
      "Country stability indices are range from -2.94 to 1.92\n"
     ]
    }
   ],
   "source": [
    "print(\"Country stability indices are range from\", data_pol_stab['Valeur'].min(), \"to\",data_pol_stab['Valeur'].max())"
   ]
  },
  {
   "cell_type": "markdown",
   "id": "da942b22",
   "metadata": {},
   "source": [
    "<div class=\"alert-success\">\n",
    "    <u>Notice</u> :\n",
    "<i><br><li> Political stability data provides information on the political stability and terrorism in the worldwilde countries : their zone code (primary key), the name of zone and the political stability index of each country (between -2,94 and 1,92)</br></li>\n",
    "<li> There are 204 countries concerned in 2017</li>\n",
    "</i></div>"
   ]
  },
  {
   "cell_type": "markdown",
   "id": "49e80025",
   "metadata": {},
   "source": [
    "- Rename the column \"Valeur\" :"
   ]
  },
  {
   "cell_type": "code",
   "execution_count": 73,
   "id": "e853eb4b",
   "metadata": {},
   "outputs": [],
   "source": [
    "data_pol_stab.rename(columns={\"Valeur\":\"Indice de stabilité politique\"}, inplace=True)"
   ]
  },
  {
   "cell_type": "markdown",
   "id": "38f6bcab",
   "metadata": {},
   "source": [
    "- Removed some unnecessary columns :"
   ]
  },
  {
   "cell_type": "code",
   "execution_count": 74,
   "id": "e740b94b",
   "metadata": {},
   "outputs": [
    {
     "data": {
      "text/html": [
       "<div>\n",
       "<style scoped>\n",
       "    .dataframe tbody tr th:only-of-type {\n",
       "        vertical-align: middle;\n",
       "    }\n",
       "\n",
       "    .dataframe tbody tr th {\n",
       "        vertical-align: top;\n",
       "    }\n",
       "\n",
       "    .dataframe thead th {\n",
       "        text-align: right;\n",
       "    }\n",
       "</style>\n",
       "<table border=\"1\" class=\"dataframe\">\n",
       "  <thead>\n",
       "    <tr style=\"text-align: right;\">\n",
       "      <th></th>\n",
       "      <th>Code zone</th>\n",
       "      <th>Indice de stabilité politique</th>\n",
       "    </tr>\n",
       "  </thead>\n",
       "  <tbody>\n",
       "    <tr>\n",
       "      <th>0</th>\n",
       "      <td>2</td>\n",
       "      <td>-2.80</td>\n",
       "    </tr>\n",
       "    <tr>\n",
       "      <th>1</th>\n",
       "      <td>202</td>\n",
       "      <td>-0.28</td>\n",
       "    </tr>\n",
       "    <tr>\n",
       "      <th>2</th>\n",
       "      <td>3</td>\n",
       "      <td>0.38</td>\n",
       "    </tr>\n",
       "    <tr>\n",
       "      <th>3</th>\n",
       "      <td>4</td>\n",
       "      <td>-0.92</td>\n",
       "    </tr>\n",
       "    <tr>\n",
       "      <th>4</th>\n",
       "      <td>79</td>\n",
       "      <td>0.59</td>\n",
       "    </tr>\n",
       "  </tbody>\n",
       "</table>\n",
       "</div>"
      ],
      "text/plain": [
       "   Code zone  Indice de stabilité politique\n",
       "0          2                          -2.80\n",
       "1        202                          -0.28\n",
       "2          3                           0.38\n",
       "3          4                          -0.92\n",
       "4         79                           0.59"
      ]
     },
     "execution_count": 74,
     "metadata": {},
     "output_type": "execute_result"
    }
   ],
   "source": [
    "data_pol_stab.drop(columns =['Zone', 'Code Élément', 'Produit', 'Année', 'Unité'], inplace=True)\n",
    "data_pol_stab.head()"
   ]
  },
  {
   "cell_type": "markdown",
   "id": "2505fed1",
   "metadata": {},
   "source": [
    "- Outliers on the variable \"Indice de stabilité politique\" : "
   ]
  },
  {
   "cell_type": "code",
   "execution_count": 75,
   "id": "45cd034c",
   "metadata": {},
   "outputs": [
    {
     "name": "stdout",
     "output_type": "stream",
     "text": [
      "---------------------------------------------------------------------------------------------------- \n",
      "\n"
     ]
    },
    {
     "data": {
      "image/png": "[encoded data removed]",
      "text/plain": [
       "<Figure size 648x432 with 1 Axes>"
      ]
     },
     "metadata": {
      "needs_background": "light"
     },
     "output_type": "display_data"
    },
    {
     "name": "stdout",
     "output_type": "stream",
     "text": [
      "---------------------------------------------------------------------------------------------------- \n",
      "\n"
     ]
    },
    {
     "data": {
      "text/html": [
       "<div>\n",
       "<style scoped>\n",
       "    .dataframe tbody tr th:only-of-type {\n",
       "        vertical-align: middle;\n",
       "    }\n",
       "\n",
       "    .dataframe tbody tr th {\n",
       "        vertical-align: top;\n",
       "    }\n",
       "\n",
       "    .dataframe thead th {\n",
       "        text-align: right;\n",
       "    }\n",
       "</style>\n",
       "<table border=\"1\" class=\"dataframe\">\n",
       "  <thead>\n",
       "    <tr style=\"text-align: right;\">\n",
       "      <th></th>\n",
       "      <th>Code zone</th>\n",
       "      <th>Indice de stabilité politique</th>\n",
       "      <th>zscore</th>\n",
       "    </tr>\n",
       "  </thead>\n",
       "  <tbody>\n",
       "    <tr>\n",
       "      <th>73</th>\n",
       "      <td>85</td>\n",
       "      <td>1.92</td>\n",
       "      <td>2.025064</td>\n",
       "    </tr>\n",
       "    <tr>\n",
       "      <th>176</th>\n",
       "      <td>201</td>\n",
       "      <td>-2.26</td>\n",
       "      <td>-2.250812</td>\n",
       "    </tr>\n",
       "    <tr>\n",
       "      <th>155</th>\n",
       "      <td>250</td>\n",
       "      <td>-2.30</td>\n",
       "      <td>-2.291730</td>\n",
       "    </tr>\n",
       "    <tr>\n",
       "      <th>88</th>\n",
       "      <td>103</td>\n",
       "      <td>-2.31</td>\n",
       "      <td>-2.301959</td>\n",
       "    </tr>\n",
       "    <tr>\n",
       "      <th>105</th>\n",
       "      <td>124</td>\n",
       "      <td>-2.36</td>\n",
       "      <td>-2.353106</td>\n",
       "    </tr>\n",
       "    <tr>\n",
       "      <th>137</th>\n",
       "      <td>165</td>\n",
       "      <td>-2.41</td>\n",
       "      <td>-2.404253</td>\n",
       "    </tr>\n",
       "    <tr>\n",
       "      <th>178</th>\n",
       "      <td>277</td>\n",
       "      <td>-2.45</td>\n",
       "      <td>-2.445170</td>\n",
       "    </tr>\n",
       "    <tr>\n",
       "      <th>151</th>\n",
       "      <td>212</td>\n",
       "      <td>-2.62</td>\n",
       "      <td>-2.619070</td>\n",
       "    </tr>\n",
       "    <tr>\n",
       "      <th>0</th>\n",
       "      <td>2</td>\n",
       "      <td>-2.80</td>\n",
       "      <td>-2.803198</td>\n",
       "    </tr>\n",
       "    <tr>\n",
       "      <th>201</th>\n",
       "      <td>249</td>\n",
       "      <td>-2.94</td>\n",
       "      <td>-2.946409</td>\n",
       "    </tr>\n",
       "  </tbody>\n",
       "</table>\n",
       "</div>"
      ],
      "text/plain": [
       "     Code zone  Indice de stabilité politique    zscore\n",
       "73          85                           1.92  2.025064\n",
       "176        201                          -2.26 -2.250812\n",
       "155        250                          -2.30 -2.291730\n",
       "88         103                          -2.31 -2.301959\n",
       "105        124                          -2.36 -2.353106\n",
       "137        165                          -2.41 -2.404253\n",
       "178        277                          -2.45 -2.445170\n",
       "151        212                          -2.62 -2.619070\n",
       "0            2                          -2.80 -2.803198\n",
       "201        249                          -2.94 -2.946409"
      ]
     },
     "execution_count": 75,
     "metadata": {},
     "output_type": "execute_result"
    }
   ],
   "source": [
    "outliers = data_pol_stab.copy()\n",
    "outliers[\"zscore\"] = (outliers[\"Indice de stabilité politique\"] - outliers[\"Indice de stabilité politique\"].mean())/outliers[\"Indice de stabilité politique\"].std()\n",
    "the_ok = outliers[(outliers[\"zscore\"] <= 2) & (outliers[\"zscore\"] >= -2)]\n",
    "the_outliers = outliers[outliers[\"zscore\"].abs() >2];\n",
    "print('-'*100, \"\\n\")\n",
    "plt.figure(figsize=(9,6))\n",
    "sns.scatterplot(x=the_ok[\"Indice de stabilité politique\"].index, y=the_ok[\"Indice de stabilité politique\"].values,)\n",
    "sns.scatterplot(x=the_outliers[\"Indice de stabilité politique\"].index, y=the_outliers[\"Indice de stabilité politique\"].values)\n",
    "plt.title('Outliers graphic representation')\n",
    "plt.savefig(\"Part1.Outliers graphic representation on worldwilde political stability.png\", bbox_inches='tight')\n",
    "plt.show()\n",
    "print('-'*100, \"\\n\")\n",
    "the_outliers.sort_values(by=[\"zscore\"], ascending=False)"
   ]
  },
  {
   "cell_type": "code",
   "execution_count": 76,
   "id": "ec9aa7ff",
   "metadata": {},
   "outputs": [
    {
     "name": "stdout",
     "output_type": "stream",
     "text": [
      "Numbers of outliers detected : 10\n"
     ]
    }
   ],
   "source": [
    "print(\"Numbers of outliers detected :\", len(the_outliers))"
   ]
  },
  {
   "cell_type": "markdown",
   "id": "d51cdfbe",
   "metadata": {},
   "source": [
    "<div class=\"alert-warning\">\n",
    "    <u>Warning</u> :\n",
    "<i><br><li> Number of outliers detected : 10</br></li>\n",
    "<i><li> The most politically unstable countries are : Yemen, Afghanistan, Syria, South Soudan, Pakistan, Libya, Iraq, Congo and Somalia</li>\n",
    "</i></div>"
   ]
  },
  {
   "cell_type": "markdown",
   "id": "f5427c52",
   "metadata": {},
   "source": [
    "<a id='another_cell_k'></a>"
   ]
  },
  {
   "cell_type": "markdown",
   "id": "8ca26d7d",
   "metadata": {},
   "source": [
    "#### 3. [data_gdp_per_hab.csv](http://localhost:8888/edit/data_PIB_hab_2017.csv) : exploration and data cleaning"
   ]
  },
  {
   "cell_type": "markdown",
   "id": "89fb6160",
   "metadata": {},
   "source": [
    "- Loading file:"
   ]
  },
  {
   "cell_type": "code",
   "execution_count": 77,
   "id": "8ccdb03f",
   "metadata": {},
   "outputs": [],
   "source": [
    "data_gdp_per_hab = pd.read_csv('data_PIB_hab_2017.csv', sep=';')"
   ]
  },
  {
   "cell_type": "markdown",
   "id": "f8d1de49",
   "metadata": {},
   "source": [
    "- First 5 rows display :"
   ]
  },
  {
   "cell_type": "code",
   "execution_count": 78,
   "id": "28e655b2",
   "metadata": {},
   "outputs": [
    {
     "data": {
      "text/html": [
       "<div>\n",
       "<style scoped>\n",
       "    .dataframe tbody tr th:only-of-type {\n",
       "        vertical-align: middle;\n",
       "    }\n",
       "\n",
       "    .dataframe tbody tr th {\n",
       "        vertical-align: top;\n",
       "    }\n",
       "\n",
       "    .dataframe thead th {\n",
       "        text-align: right;\n",
       "    }\n",
       "</style>\n",
       "<table border=\"1\" class=\"dataframe\">\n",
       "  <thead>\n",
       "    <tr style=\"text-align: right;\">\n",
       "      <th></th>\n",
       "      <th>Code zone</th>\n",
       "      <th>Zone</th>\n",
       "      <th>Code Élément</th>\n",
       "      <th>Produit</th>\n",
       "      <th>Code année</th>\n",
       "      <th>Année</th>\n",
       "      <th>Unité</th>\n",
       "      <th>Valeur</th>\n",
       "    </tr>\n",
       "  </thead>\n",
       "  <tbody>\n",
       "    <tr>\n",
       "      <th>0</th>\n",
       "      <td>2</td>\n",
       "      <td>Afghanistan</td>\n",
       "      <td>6126</td>\n",
       "      <td>PIB par habitant, ($ PPA internationaux consta...</td>\n",
       "      <td>2017</td>\n",
       "      <td>2017</td>\n",
       "      <td>I$</td>\n",
       "      <td>2058.4</td>\n",
       "    </tr>\n",
       "    <tr>\n",
       "      <th>1</th>\n",
       "      <td>202</td>\n",
       "      <td>Afrique du Sud</td>\n",
       "      <td>6126</td>\n",
       "      <td>PIB par habitant, ($ PPA internationaux consta...</td>\n",
       "      <td>2017</td>\n",
       "      <td>2017</td>\n",
       "      <td>I$</td>\n",
       "      <td>13860.3</td>\n",
       "    </tr>\n",
       "    <tr>\n",
       "      <th>2</th>\n",
       "      <td>3</td>\n",
       "      <td>Albanie</td>\n",
       "      <td>6126</td>\n",
       "      <td>PIB par habitant, ($ PPA internationaux consta...</td>\n",
       "      <td>2017</td>\n",
       "      <td>2017</td>\n",
       "      <td>I$</td>\n",
       "      <td>12771.0</td>\n",
       "    </tr>\n",
       "    <tr>\n",
       "      <th>3</th>\n",
       "      <td>4</td>\n",
       "      <td>Algérie</td>\n",
       "      <td>6126</td>\n",
       "      <td>PIB par habitant, ($ PPA internationaux consta...</td>\n",
       "      <td>2017</td>\n",
       "      <td>2017</td>\n",
       "      <td>I$</td>\n",
       "      <td>11737.4</td>\n",
       "    </tr>\n",
       "    <tr>\n",
       "      <th>4</th>\n",
       "      <td>79</td>\n",
       "      <td>Allemagne</td>\n",
       "      <td>6126</td>\n",
       "      <td>PIB par habitant, ($ PPA internationaux consta...</td>\n",
       "      <td>2017</td>\n",
       "      <td>2017</td>\n",
       "      <td>I$</td>\n",
       "      <td>53071.5</td>\n",
       "    </tr>\n",
       "  </tbody>\n",
       "</table>\n",
       "</div>"
      ],
      "text/plain": [
       "   Code zone            Zone  Code Élément  \\\n",
       "0          2     Afghanistan          6126   \n",
       "1        202  Afrique du Sud          6126   \n",
       "2          3         Albanie          6126   \n",
       "3          4         Algérie          6126   \n",
       "4         79       Allemagne          6126   \n",
       "\n",
       "                                             Produit  Code année  Année Unité  \\\n",
       "0  PIB par habitant, ($ PPA internationaux consta...        2017   2017    I$   \n",
       "1  PIB par habitant, ($ PPA internationaux consta...        2017   2017    I$   \n",
       "2  PIB par habitant, ($ PPA internationaux consta...        2017   2017    I$   \n",
       "3  PIB par habitant, ($ PPA internationaux consta...        2017   2017    I$   \n",
       "4  PIB par habitant, ($ PPA internationaux consta...        2017   2017    I$   \n",
       "\n",
       "    Valeur  \n",
       "0   2058.4  \n",
       "1  13860.3  \n",
       "2  12771.0  \n",
       "3  11737.4  \n",
       "4  53071.5  "
      ]
     },
     "execution_count": 78,
     "metadata": {},
     "output_type": "execute_result"
    }
   ],
   "source": [
    "data_gdp_per_hab.head()"
   ]
  },
  {
   "cell_type": "markdown",
   "id": "9e7a036a",
   "metadata": {},
   "source": [
    "- Number of rows and columns :"
   ]
  },
  {
   "cell_type": "code",
   "execution_count": 79,
   "id": "7a114ce4",
   "metadata": {},
   "outputs": [
    {
     "data": {
      "text/plain": [
       "(187, 8)"
      ]
     },
     "execution_count": 79,
     "metadata": {},
     "output_type": "execute_result"
    }
   ],
   "source": [
    "data_gdp_per_hab.shape"
   ]
  },
  {
   "cell_type": "markdown",
   "id": "7e1cdfb9",
   "metadata": {},
   "source": [
    "- .info display :"
   ]
  },
  {
   "cell_type": "code",
   "execution_count": 80,
   "id": "d66da480",
   "metadata": {},
   "outputs": [
    {
     "name": "stdout",
     "output_type": "stream",
     "text": [
      "<class 'pandas.core.frame.DataFrame'>\n",
      "RangeIndex: 187 entries, 0 to 186\n",
      "Data columns (total 8 columns):\n",
      " #   Column        Non-Null Count  Dtype  \n",
      "---  ------        --------------  -----  \n",
      " 0   Code zone     187 non-null    int64  \n",
      " 1   Zone          187 non-null    object \n",
      " 2   Code Élément  187 non-null    int64  \n",
      " 3   Produit       187 non-null    object \n",
      " 4   Code année    187 non-null    int64  \n",
      " 5   Année         187 non-null    int64  \n",
      " 6   Unité         187 non-null    object \n",
      " 7   Valeur        187 non-null    float64\n",
      "dtypes: float64(1), int64(4), object(3)\n",
      "memory usage: 11.8+ KB\n"
     ]
    }
   ],
   "source": [
    "data_gdp_per_hab.info()"
   ]
  },
  {
   "cell_type": "markdown",
   "id": "ff507699",
   "metadata": {},
   "source": [
    "- Check missing and duplicate values :"
   ]
  },
  {
   "cell_type": "code",
   "execution_count": 81,
   "id": "17ba24af",
   "metadata": {},
   "outputs": [
    {
     "name": "stdout",
     "output_type": "stream",
     "text": [
      "The column Code zone does not contain any missing values\n",
      "The column Code zone does not contain duplicates\n"
     ]
    }
   ],
   "source": [
    "check_nan(data_gdp_per_hab, \"Code zone\")\n",
    "check_duplicates(data_gdp_per_hab,\"Code zone\")"
   ]
  },
  {
   "cell_type": "markdown",
   "id": "8a3541c7",
   "metadata": {},
   "source": [
    "<div class=\"alert-success\">\n",
    "    <u>Notice</u> :\n",
    "<i><br><li> GDP per inhabitant data give information on the average GDP per inhabitant for each country in the world in 2017 (in international $): their zone code (primary key), the name of zone and the value of this average GDP per inhabitant</br></li>\n",
    "<li> There are 187 countries concerned in 2017</li>\n",
    "<li> The data file does not contain any missing value or duplicates on the primary key</li>\n",
    "</i></div>"
   ]
  },
  {
   "cell_type": "markdown",
   "id": "7e9a15c1",
   "metadata": {},
   "source": [
    "- Rename the column \"Valeur\" :"
   ]
  },
  {
   "cell_type": "code",
   "execution_count": 82,
   "id": "27c138ac",
   "metadata": {},
   "outputs": [],
   "source": [
    "data_gdp_per_hab.rename(columns={\"Valeur\":\"PIB moyen par habitant\"}, inplace=True)"
   ]
  },
  {
   "cell_type": "markdown",
   "id": "756be9a9",
   "metadata": {},
   "source": [
    "- Removed some unnecessary columns :"
   ]
  },
  {
   "cell_type": "code",
   "execution_count": 83,
   "id": "4915b510",
   "metadata": {},
   "outputs": [
    {
     "data": {
      "text/html": [
       "<div>\n",
       "<style scoped>\n",
       "    .dataframe tbody tr th:only-of-type {\n",
       "        vertical-align: middle;\n",
       "    }\n",
       "\n",
       "    .dataframe tbody tr th {\n",
       "        vertical-align: top;\n",
       "    }\n",
       "\n",
       "    .dataframe thead th {\n",
       "        text-align: right;\n",
       "    }\n",
       "</style>\n",
       "<table border=\"1\" class=\"dataframe\">\n",
       "  <thead>\n",
       "    <tr style=\"text-align: right;\">\n",
       "      <th></th>\n",
       "      <th>Code zone</th>\n",
       "      <th>PIB moyen par habitant</th>\n",
       "    </tr>\n",
       "  </thead>\n",
       "  <tbody>\n",
       "    <tr>\n",
       "      <th>0</th>\n",
       "      <td>2</td>\n",
       "      <td>2058.4</td>\n",
       "    </tr>\n",
       "    <tr>\n",
       "      <th>1</th>\n",
       "      <td>202</td>\n",
       "      <td>13860.3</td>\n",
       "    </tr>\n",
       "    <tr>\n",
       "      <th>2</th>\n",
       "      <td>3</td>\n",
       "      <td>12771.0</td>\n",
       "    </tr>\n",
       "    <tr>\n",
       "      <th>3</th>\n",
       "      <td>4</td>\n",
       "      <td>11737.4</td>\n",
       "    </tr>\n",
       "    <tr>\n",
       "      <th>4</th>\n",
       "      <td>79</td>\n",
       "      <td>53071.5</td>\n",
       "    </tr>\n",
       "  </tbody>\n",
       "</table>\n",
       "</div>"
      ],
      "text/plain": [
       "   Code zone  PIB moyen par habitant\n",
       "0          2                  2058.4\n",
       "1        202                 13860.3\n",
       "2          3                 12771.0\n",
       "3          4                 11737.4\n",
       "4         79                 53071.5"
      ]
     },
     "execution_count": 83,
     "metadata": {},
     "output_type": "execute_result"
    }
   ],
   "source": [
    "data_gdp_per_hab.drop(columns =['Zone', 'Code Élément', 'Produit', 'Code année', 'Année', 'Unité'], inplace=True)\n",
    "data_gdp_per_hab.head()"
   ]
  },
  {
   "cell_type": "markdown",
   "id": "7ac354fd",
   "metadata": {},
   "source": [
    "- Outliers on the variable \"PIB moyen par habitant\" : "
   ]
  },
  {
   "cell_type": "code",
   "execution_count": 84,
   "id": "2d2d690e",
   "metadata": {},
   "outputs": [
    {
     "name": "stdout",
     "output_type": "stream",
     "text": [
      "---------------------------------------------------------------------------------------------------- \n",
      "\n"
     ]
    },
    {
     "data": {
      "image/png": "[encoded data removed]",
      "text/plain": [
       "<Figure size 648x432 with 1 Axes>"
      ]
     },
     "metadata": {
      "needs_background": "light"
     },
     "output_type": "display_data"
    },
    {
     "name": "stdout",
     "output_type": "stream",
     "text": [
      "---------------------------------------------------------------------------------------------------- \n",
      "\n"
     ]
    },
    {
     "data": {
      "text/html": [
       "<div>\n",
       "<style scoped>\n",
       "    .dataframe tbody tr th:only-of-type {\n",
       "        vertical-align: middle;\n",
       "    }\n",
       "\n",
       "    .dataframe tbody tr th {\n",
       "        vertical-align: top;\n",
       "    }\n",
       "\n",
       "    .dataframe thead th {\n",
       "        text-align: right;\n",
       "    }\n",
       "</style>\n",
       "<table border=\"1\" class=\"dataframe\">\n",
       "  <thead>\n",
       "    <tr style=\"text-align: right;\">\n",
       "      <th></th>\n",
       "      <th>Code zone</th>\n",
       "      <th>PIB moyen par habitant</th>\n",
       "      <th>zscore</th>\n",
       "    </tr>\n",
       "  </thead>\n",
       "  <tbody>\n",
       "    <tr>\n",
       "      <th>38</th>\n",
       "      <td>128</td>\n",
       "      <td>126144.0</td>\n",
       "      <td>4.763987</td>\n",
       "    </tr>\n",
       "    <tr>\n",
       "      <th>100</th>\n",
       "      <td>256</td>\n",
       "      <td>114986.0</td>\n",
       "      <td>4.258786</td>\n",
       "    </tr>\n",
       "    <tr>\n",
       "      <th>160</th>\n",
       "      <td>200</td>\n",
       "      <td>95310.3</td>\n",
       "      <td>3.367929</td>\n",
       "    </tr>\n",
       "    <tr>\n",
       "      <th>140</th>\n",
       "      <td>179</td>\n",
       "      <td>91738.8</td>\n",
       "      <td>3.206222</td>\n",
       "    </tr>\n",
       "    <tr>\n",
       "      <th>21</th>\n",
       "      <td>17</td>\n",
       "      <td>81835.0</td>\n",
       "      <td>2.757808</td>\n",
       "    </tr>\n",
       "    <tr>\n",
       "      <th>82</th>\n",
       "      <td>104</td>\n",
       "      <td>77749.2</td>\n",
       "      <td>2.572815</td>\n",
       "    </tr>\n",
       "    <tr>\n",
       "      <th>167</th>\n",
       "      <td>211</td>\n",
       "      <td>69103.6</td>\n",
       "      <td>2.181368</td>\n",
       "    </tr>\n",
       "    <tr>\n",
       "      <th>51</th>\n",
       "      <td>225</td>\n",
       "      <td>67183.6</td>\n",
       "      <td>2.094436</td>\n",
       "    </tr>\n",
       "  </tbody>\n",
       "</table>\n",
       "</div>"
      ],
      "text/plain": [
       "     Code zone  PIB moyen par habitant    zscore\n",
       "38         128                126144.0  4.763987\n",
       "100        256                114986.0  4.258786\n",
       "160        200                 95310.3  3.367929\n",
       "140        179                 91738.8  3.206222\n",
       "21          17                 81835.0  2.757808\n",
       "82         104                 77749.2  2.572815\n",
       "167        211                 69103.6  2.181368\n",
       "51         225                 67183.6  2.094436"
      ]
     },
     "execution_count": 84,
     "metadata": {},
     "output_type": "execute_result"
    }
   ],
   "source": [
    "outliers = data_gdp_per_hab.copy()\n",
    "outliers[\"zscore\"] = (outliers[\"PIB moyen par habitant\"] - outliers[\"PIB moyen par habitant\"].mean())/outliers[\"PIB moyen par habitant\"].std()\n",
    "the_ok = outliers[(outliers[\"zscore\"] <= 2) & (outliers[\"zscore\"] >= -2)]\n",
    "the_outliers = outliers[outliers[\"zscore\"].abs() >2];\n",
    "print('-'*100, \"\\n\")\n",
    "plt.figure(figsize=(9,6))\n",
    "sns.scatterplot(x=the_ok[\"PIB moyen par habitant\"].index, y=the_ok[\"PIB moyen par habitant\"].values,)\n",
    "sns.scatterplot(x=the_outliers[\"PIB moyen par habitant\"].index, y=the_outliers[\"PIB moyen par habitant\"].values)\n",
    "plt.title('Outliers graphic representation')\n",
    "plt.savefig(\"Part1.Outliers graphic representation on PIB per inhabitant.png\", bbox_inches='tight')\n",
    "plt.show()\n",
    "print('-'*100, \"\\n\")\n",
    "the_outliers.sort_values(by=[\"zscore\"], ascending=False)"
   ]
  },
  {
   "cell_type": "code",
   "execution_count": 85,
   "id": "ba0bfc0f",
   "metadata": {},
   "outputs": [
    {
     "name": "stdout",
     "output_type": "stream",
     "text": [
      "Numbers of outliers detected : 8\n"
     ]
    }
   ],
   "source": [
    "print(\"Numbers of outliers detected :\", len(the_outliers))"
   ]
  },
  {
   "cell_type": "markdown",
   "id": "0483ed57",
   "metadata": {},
   "source": [
    "<div class=\"alert-warning\">\n",
    "    <u>Warning</u> :\n",
    "<i><br><li> Number of outliers detected : 8</br></li>\n",
    "<i><li> The most important average GDP per inhabitant in the world are in : China (Macao territory), Luxemburg, Singapore, Qatar, Bermuda, Irland, Swiss and United Arab Emirates</li>\n",
    "</i></div>"
   ]
  },
  {
   "cell_type": "markdown",
   "id": "f238c595",
   "metadata": {},
   "source": [
    "<a id='another_cell_l'></a>"
   ]
  },
  {
   "cell_type": "markdown",
   "id": "2db314ca",
   "metadata": {},
   "source": [
    "#### 4. [data_inflation.csv](http://localhost:8888/edit/data_inflation_food_month_2017.csv) : exploration and data cleaning"
   ]
  },
  {
   "cell_type": "markdown",
   "id": "65690e8c",
   "metadata": {},
   "source": [
    "- Loading file:"
   ]
  },
  {
   "cell_type": "code",
   "execution_count": 86,
   "id": "1a90ee7f",
   "metadata": {},
   "outputs": [],
   "source": [
    "data_inflation = pd.read_csv('data_inflation_food_month_2017.csv', sep=';')"
   ]
  },
  {
   "cell_type": "markdown",
   "id": "9287798e",
   "metadata": {},
   "source": [
    "- First 5 rows display :"
   ]
  },
  {
   "cell_type": "code",
   "execution_count": 87,
   "id": "dd464bf9",
   "metadata": {},
   "outputs": [
    {
     "data": {
      "text/html": [
       "<div>\n",
       "<style scoped>\n",
       "    .dataframe tbody tr th:only-of-type {\n",
       "        vertical-align: middle;\n",
       "    }\n",
       "\n",
       "    .dataframe tbody tr th {\n",
       "        vertical-align: top;\n",
       "    }\n",
       "\n",
       "    .dataframe thead th {\n",
       "        text-align: right;\n",
       "    }\n",
       "</style>\n",
       "<table border=\"1\" class=\"dataframe\">\n",
       "  <thead>\n",
       "    <tr style=\"text-align: right;\">\n",
       "      <th></th>\n",
       "      <th>Code zone</th>\n",
       "      <th>Zone</th>\n",
       "      <th>Année</th>\n",
       "      <th>Code Produit</th>\n",
       "      <th>Produit</th>\n",
       "      <th>Mois</th>\n",
       "      <th>Unité</th>\n",
       "      <th>Valeur</th>\n",
       "    </tr>\n",
       "  </thead>\n",
       "  <tbody>\n",
       "    <tr>\n",
       "      <th>0</th>\n",
       "      <td>2</td>\n",
       "      <td>Afghanistan</td>\n",
       "      <td>2017</td>\n",
       "      <td>23014</td>\n",
       "      <td>Food price inflation</td>\n",
       "      <td>Janvier</td>\n",
       "      <td>%</td>\n",
       "      <td>4.730651</td>\n",
       "    </tr>\n",
       "    <tr>\n",
       "      <th>1</th>\n",
       "      <td>2</td>\n",
       "      <td>Afghanistan</td>\n",
       "      <td>2017</td>\n",
       "      <td>23014</td>\n",
       "      <td>Food price inflation</td>\n",
       "      <td>Février</td>\n",
       "      <td>%</td>\n",
       "      <td>4.553673</td>\n",
       "    </tr>\n",
       "    <tr>\n",
       "      <th>2</th>\n",
       "      <td>2</td>\n",
       "      <td>Afghanistan</td>\n",
       "      <td>2017</td>\n",
       "      <td>23014</td>\n",
       "      <td>Food price inflation</td>\n",
       "      <td>Mars</td>\n",
       "      <td>%</td>\n",
       "      <td>10.028383</td>\n",
       "    </tr>\n",
       "    <tr>\n",
       "      <th>3</th>\n",
       "      <td>2</td>\n",
       "      <td>Afghanistan</td>\n",
       "      <td>2017</td>\n",
       "      <td>23014</td>\n",
       "      <td>Food price inflation</td>\n",
       "      <td>Avril</td>\n",
       "      <td>%</td>\n",
       "      <td>9.367880</td>\n",
       "    </tr>\n",
       "    <tr>\n",
       "      <th>4</th>\n",
       "      <td>2</td>\n",
       "      <td>Afghanistan</td>\n",
       "      <td>2017</td>\n",
       "      <td>23014</td>\n",
       "      <td>Food price inflation</td>\n",
       "      <td>Mai</td>\n",
       "      <td>%</td>\n",
       "      <td>10.723921</td>\n",
       "    </tr>\n",
       "  </tbody>\n",
       "</table>\n",
       "</div>"
      ],
      "text/plain": [
       "   Code zone         Zone  Année  Code Produit               Produit     Mois  \\\n",
       "0          2  Afghanistan   2017         23014  Food price inflation  Janvier   \n",
       "1          2  Afghanistan   2017         23014  Food price inflation  Février   \n",
       "2          2  Afghanistan   2017         23014  Food price inflation     Mars   \n",
       "3          2  Afghanistan   2017         23014  Food price inflation    Avril   \n",
       "4          2  Afghanistan   2017         23014  Food price inflation      Mai   \n",
       "\n",
       "  Unité     Valeur  \n",
       "0     %   4.730651  \n",
       "1     %   4.553673  \n",
       "2     %  10.028383  \n",
       "3     %   9.367880  \n",
       "4     %  10.723921  "
      ]
     },
     "execution_count": 87,
     "metadata": {},
     "output_type": "execute_result"
    }
   ],
   "source": [
    "data_inflation.head()"
   ]
  },
  {
   "cell_type": "markdown",
   "id": "af29ee15",
   "metadata": {},
   "source": [
    "- Group by Zone for year 2017 :"
   ]
  },
  {
   "cell_type": "code",
   "execution_count": 88,
   "id": "3bcb0336",
   "metadata": {},
   "outputs": [
    {
     "data": {
      "text/html": [
       "<div>\n",
       "<style scoped>\n",
       "    .dataframe tbody tr th:only-of-type {\n",
       "        vertical-align: middle;\n",
       "    }\n",
       "\n",
       "    .dataframe tbody tr th {\n",
       "        vertical-align: top;\n",
       "    }\n",
       "\n",
       "    .dataframe thead th {\n",
       "        text-align: right;\n",
       "    }\n",
       "</style>\n",
       "<table border=\"1\" class=\"dataframe\">\n",
       "  <thead>\n",
       "    <tr style=\"text-align: right;\">\n",
       "      <th></th>\n",
       "      <th>Code zone</th>\n",
       "      <th>Année</th>\n",
       "      <th>Code Produit</th>\n",
       "      <th>Valeur</th>\n",
       "    </tr>\n",
       "    <tr>\n",
       "      <th>Zone</th>\n",
       "      <th></th>\n",
       "      <th></th>\n",
       "      <th></th>\n",
       "      <th></th>\n",
       "    </tr>\n",
       "  </thead>\n",
       "  <tbody>\n",
       "    <tr>\n",
       "      <th>Afghanistan</th>\n",
       "      <td>2.0</td>\n",
       "      <td>2017.0</td>\n",
       "      <td>23014.0</td>\n",
       "      <td>6.957529</td>\n",
       "    </tr>\n",
       "    <tr>\n",
       "      <th>Afrique du Sud</th>\n",
       "      <td>202.0</td>\n",
       "      <td>2017.0</td>\n",
       "      <td>23014.0</td>\n",
       "      <td>6.902628</td>\n",
       "    </tr>\n",
       "    <tr>\n",
       "      <th>Albanie</th>\n",
       "      <td>3.0</td>\n",
       "      <td>2017.0</td>\n",
       "      <td>23014.0</td>\n",
       "      <td>3.924578</td>\n",
       "    </tr>\n",
       "    <tr>\n",
       "      <th>Algérie</th>\n",
       "      <td>4.0</td>\n",
       "      <td>2017.0</td>\n",
       "      <td>23014.0</td>\n",
       "      <td>5.040496</td>\n",
       "    </tr>\n",
       "    <tr>\n",
       "      <th>Allemagne</th>\n",
       "      <td>79.0</td>\n",
       "      <td>2017.0</td>\n",
       "      <td>23014.0</td>\n",
       "      <td>2.762497</td>\n",
       "    </tr>\n",
       "  </tbody>\n",
       "</table>\n",
       "</div>"
      ],
      "text/plain": [
       "                Code zone   Année  Code Produit    Valeur\n",
       "Zone                                                     \n",
       "Afghanistan           2.0  2017.0       23014.0  6.957529\n",
       "Afrique du Sud      202.0  2017.0       23014.0  6.902628\n",
       "Albanie               3.0  2017.0       23014.0  3.924578\n",
       "Algérie               4.0  2017.0       23014.0  5.040496\n",
       "Allemagne            79.0  2017.0       23014.0  2.762497"
      ]
     },
     "execution_count": 88,
     "metadata": {},
     "output_type": "execute_result"
    }
   ],
   "source": [
    "data_inflation = data_inflation.groupby(by=\"Zone\").sum() /12\n",
    "data_inflation.head()"
   ]
  },
  {
   "cell_type": "markdown",
   "id": "3a231f98",
   "metadata": {},
   "source": [
    "- Number of rows and columns :"
   ]
  },
  {
   "cell_type": "code",
   "execution_count": 89,
   "id": "8360b34d",
   "metadata": {},
   "outputs": [
    {
     "data": {
      "text/plain": [
       "(202, 4)"
      ]
     },
     "execution_count": 89,
     "metadata": {},
     "output_type": "execute_result"
    }
   ],
   "source": [
    "data_inflation.shape"
   ]
  },
  {
   "cell_type": "markdown",
   "id": "c2a3f0e6",
   "metadata": {},
   "source": [
    "- .info display :"
   ]
  },
  {
   "cell_type": "code",
   "execution_count": 90,
   "id": "8f1c523a",
   "metadata": {},
   "outputs": [
    {
     "name": "stdout",
     "output_type": "stream",
     "text": [
      "<class 'pandas.core.frame.DataFrame'>\n",
      "Index: 202 entries, Afghanistan to Îles d'Åland\n",
      "Data columns (total 4 columns):\n",
      " #   Column        Non-Null Count  Dtype  \n",
      "---  ------        --------------  -----  \n",
      " 0   Code zone     202 non-null    float64\n",
      " 1   Année         202 non-null    float64\n",
      " 2   Code Produit  202 non-null    float64\n",
      " 3   Valeur        202 non-null    float64\n",
      "dtypes: float64(4)\n",
      "memory usage: 7.9+ KB\n"
     ]
    }
   ],
   "source": [
    "data_inflation.info()"
   ]
  },
  {
   "cell_type": "markdown",
   "id": "1bf21058",
   "metadata": {},
   "source": [
    "- Check missing and duplicate values :"
   ]
  },
  {
   "cell_type": "code",
   "execution_count": 91,
   "id": "eeb4565f",
   "metadata": {},
   "outputs": [
    {
     "name": "stdout",
     "output_type": "stream",
     "text": [
      "The column Code zone does not contain any missing values\n",
      "The column Code zone does not contain duplicates\n"
     ]
    }
   ],
   "source": [
    "check_nan(data_inflation, \"Code zone\")\n",
    "check_duplicates(data_inflation,\"Code zone\")"
   ]
  },
  {
   "cell_type": "markdown",
   "id": "7515878a",
   "metadata": {},
   "source": [
    "<div class=\"alert-success\">\n",
    "    <u>Notice</u> :\n",
    "<i><br><li> Inflation data give information on the average inflation in 2017 for each country in the world : their zone code (primary key), the name of zone and the value of this average inflation per country</br></li>\n",
    "<li> There are 202 countries concerned in 2017</li>\n",
    "<li> The data file does not contain any missing value or duplicates on the primary key</li>\n",
    "</i></div>"
   ]
  },
  {
   "cell_type": "markdown",
   "id": "209304cd",
   "metadata": {},
   "source": [
    "- Rename the column \"Valeur\" :"
   ]
  },
  {
   "cell_type": "code",
   "execution_count": 92,
   "id": "dd612163",
   "metadata": {},
   "outputs": [],
   "source": [
    "data_inflation.rename(columns={\"Valeur\":\"Inflation (%)\"}, inplace=True)"
   ]
  },
  {
   "cell_type": "markdown",
   "id": "36488e85",
   "metadata": {},
   "source": [
    "- Removed some unnecessary columns :"
   ]
  },
  {
   "cell_type": "code",
   "execution_count": 93,
   "id": "823aab30",
   "metadata": {},
   "outputs": [
    {
     "data": {
      "text/html": [
       "<div>\n",
       "<style scoped>\n",
       "    .dataframe tbody tr th:only-of-type {\n",
       "        vertical-align: middle;\n",
       "    }\n",
       "\n",
       "    .dataframe tbody tr th {\n",
       "        vertical-align: top;\n",
       "    }\n",
       "\n",
       "    .dataframe thead th {\n",
       "        text-align: right;\n",
       "    }\n",
       "</style>\n",
       "<table border=\"1\" class=\"dataframe\">\n",
       "  <thead>\n",
       "    <tr style=\"text-align: right;\">\n",
       "      <th></th>\n",
       "      <th>Code zone</th>\n",
       "      <th>Inflation (%)</th>\n",
       "    </tr>\n",
       "  </thead>\n",
       "  <tbody>\n",
       "    <tr>\n",
       "      <th>0</th>\n",
       "      <td>2.0</td>\n",
       "      <td>6.957529</td>\n",
       "    </tr>\n",
       "    <tr>\n",
       "      <th>1</th>\n",
       "      <td>202.0</td>\n",
       "      <td>6.902628</td>\n",
       "    </tr>\n",
       "    <tr>\n",
       "      <th>2</th>\n",
       "      <td>3.0</td>\n",
       "      <td>3.924577</td>\n",
       "    </tr>\n",
       "    <tr>\n",
       "      <th>3</th>\n",
       "      <td>4.0</td>\n",
       "      <td>5.040496</td>\n",
       "    </tr>\n",
       "    <tr>\n",
       "      <th>4</th>\n",
       "      <td>79.0</td>\n",
       "      <td>2.762497</td>\n",
       "    </tr>\n",
       "  </tbody>\n",
       "</table>\n",
       "</div>"
      ],
      "text/plain": [
       "   Code zone  Inflation (%)\n",
       "0        2.0       6.957529\n",
       "1      202.0       6.902628\n",
       "2        3.0       3.924577\n",
       "3        4.0       5.040496\n",
       "4       79.0       2.762497"
      ]
     },
     "execution_count": 93,
     "metadata": {},
     "output_type": "execute_result"
    }
   ],
   "source": [
    "data_inflation.to_csv(\"export_data_inflation.csv\", sep=';')\n",
    "data_inflation = pd.read_csv(\"export_data_inflation.csv\", sep=';')\n",
    "data_inflation.drop(columns =['Zone', 'Année', 'Code Produit'], inplace=True)\n",
    "data_inflation.head()"
   ]
  },
  {
   "cell_type": "markdown",
   "id": "f3c10ab6",
   "metadata": {},
   "source": [
    "- Outliers on the variable \"Inflation\" : "
   ]
  },
  {
   "cell_type": "code",
   "execution_count": 94,
   "id": "0f6e6e4b",
   "metadata": {},
   "outputs": [
    {
     "name": "stdout",
     "output_type": "stream",
     "text": [
      "---------------------------------------------------------------------------------------------------- \n",
      "\n"
     ]
    },
    {
     "data": {
      "image/png": "[encoded data removed]",
      "text/plain": [
       "<Figure size 648x432 with 1 Axes>"
      ]
     },
     "metadata": {
      "needs_background": "light"
     },
     "output_type": "display_data"
    },
    {
     "name": "stdout",
     "output_type": "stream",
     "text": [
      "---------------------------------------------------------------------------------------------------- \n",
      "\n"
     ]
    },
    {
     "data": {
      "text/html": [
       "<div>\n",
       "<style scoped>\n",
       "    .dataframe tbody tr th:only-of-type {\n",
       "        vertical-align: middle;\n",
       "    }\n",
       "\n",
       "    .dataframe tbody tr th {\n",
       "        vertical-align: top;\n",
       "    }\n",
       "\n",
       "    .dataframe thead th {\n",
       "        text-align: right;\n",
       "    }\n",
       "</style>\n",
       "<table border=\"1\" class=\"dataframe\">\n",
       "  <thead>\n",
       "    <tr style=\"text-align: right;\">\n",
       "      <th></th>\n",
       "      <th>Code zone</th>\n",
       "      <th>Inflation (%)</th>\n",
       "      <th>zscore</th>\n",
       "    </tr>\n",
       "  </thead>\n",
       "  <tbody>\n",
       "    <tr>\n",
       "      <th>187</th>\n",
       "      <td>236.0</td>\n",
       "      <td>480.863389</td>\n",
       "      <td>12.502277</td>\n",
       "    </tr>\n",
       "    <tr>\n",
       "      <th>168</th>\n",
       "      <td>277.0</td>\n",
       "      <td>236.952454</td>\n",
       "      <td>6.055100</td>\n",
       "    </tr>\n",
       "  </tbody>\n",
       "</table>\n",
       "</div>"
      ],
      "text/plain": [
       "     Code zone  Inflation (%)     zscore\n",
       "187      236.0     480.863389  12.502277\n",
       "168      277.0     236.952454   6.055100"
      ]
     },
     "execution_count": 94,
     "metadata": {},
     "output_type": "execute_result"
    }
   ],
   "source": [
    "outliers = data_inflation.copy()\n",
    "outliers[\"zscore\"] = (outliers[\"Inflation (%)\"] - outliers[\"Inflation (%)\"].mean())/outliers[\"Inflation (%)\"].std()\n",
    "the_ok = outliers[(outliers[\"zscore\"] <= 2) & (outliers[\"zscore\"] >= -2)]\n",
    "the_outliers = outliers[outliers[\"zscore\"].abs() >2];\n",
    "print('-'*100, \"\\n\")\n",
    "plt.figure(figsize=(9,6))\n",
    "sns.scatterplot(x=the_ok[\"Inflation (%)\"].index, y=the_ok[\"Inflation (%)\"].values,)\n",
    "sns.scatterplot(x=the_outliers[\"Inflation (%)\"].index, y=the_outliers[\"Inflation (%)\"].values)\n",
    "plt.title('Outliers graphic representation')\n",
    "plt.savefig(\"Part1.Outliers graphic representation on inflation.png\", bbox_inches='tight')\n",
    "plt.show()\n",
    "print('-'*100, \"\\n\")\n",
    "the_outliers.sort_values(by=[\"zscore\"], ascending=False)"
   ]
  },
  {
   "cell_type": "markdown",
   "id": "e3cf3415",
   "metadata": {},
   "source": [
    "<div class=\"alert-warning\">\n",
    "    <u>Warning</u> :\n",
    "<i><br><li> Number of outliers detected : 2</br></li>\n",
    "<i><li> The highest inflation rates in 2017 were found in: Venezuela and South Sudan</li>\n",
    "</i></div>"
   ]
  },
  {
   "cell_type": "markdown",
   "id": "b8456be2",
   "metadata": {},
   "source": [
    "<a id='another_cell_m'></a>"
   ]
  },
  {
   "cell_type": "markdown",
   "id": "88e8f119",
   "metadata": {},
   "source": [
    "#### 5. Final merge, explore and clean"
   ]
  },
  {
   "cell_type": "code",
   "execution_count": 95,
   "id": "08d0dffc",
   "metadata": {},
   "outputs": [
    {
     "data": {
      "text/html": [
       "<div>\n",
       "<style scoped>\n",
       "    .dataframe tbody tr th:only-of-type {\n",
       "        vertical-align: middle;\n",
       "    }\n",
       "\n",
       "    .dataframe tbody tr th {\n",
       "        vertical-align: top;\n",
       "    }\n",
       "\n",
       "    .dataframe thead th {\n",
       "        text-align: right;\n",
       "    }\n",
       "</style>\n",
       "<table border=\"1\" class=\"dataframe\">\n",
       "  <thead>\n",
       "    <tr style=\"text-align: right;\">\n",
       "      <th></th>\n",
       "      <th>Code zone</th>\n",
       "      <th>Zone</th>\n",
       "      <th>Consommation de poulet (en tonnes)</th>\n",
       "      <th>Disponibilité de poulet (en tonnes)</th>\n",
       "      <th>Disponibilité alimentaire moyenne par habitant (en kg)</th>\n",
       "      <th>Production de poulet (en tonnes)</th>\n",
       "      <th>Exportation de poulet (en tonnes)</th>\n",
       "      <th>Importation de poulet (en tonnes)</th>\n",
       "      <th>Population (en unité)</th>\n",
       "      <th>Indice de stabilité politique</th>\n",
       "      <th>PIB moyen par habitant</th>\n",
       "      <th>Inflation (%)</th>\n",
       "    </tr>\n",
       "  </thead>\n",
       "  <tbody>\n",
       "    <tr>\n",
       "      <th>0</th>\n",
       "      <td>2</td>\n",
       "      <td>Afghanistan</td>\n",
       "      <td>55000</td>\n",
       "      <td>57000</td>\n",
       "      <td>1.53</td>\n",
       "      <td>28000.0</td>\n",
       "      <td>0.0</td>\n",
       "      <td>29000</td>\n",
       "      <td>36296113.0</td>\n",
       "      <td>-2.80</td>\n",
       "      <td>2058.4</td>\n",
       "      <td>6.957529</td>\n",
       "    </tr>\n",
       "    <tr>\n",
       "      <th>1</th>\n",
       "      <td>202</td>\n",
       "      <td>Afrique du Sud</td>\n",
       "      <td>2035000</td>\n",
       "      <td>2118000</td>\n",
       "      <td>35.69</td>\n",
       "      <td>1667000.0</td>\n",
       "      <td>63000.0</td>\n",
       "      <td>514000</td>\n",
       "      <td>57009756.0</td>\n",
       "      <td>-0.28</td>\n",
       "      <td>13860.3</td>\n",
       "      <td>6.902628</td>\n",
       "    </tr>\n",
       "    <tr>\n",
       "      <th>2</th>\n",
       "      <td>3</td>\n",
       "      <td>Albanie</td>\n",
       "      <td>47000</td>\n",
       "      <td>47000</td>\n",
       "      <td>16.36</td>\n",
       "      <td>13000.0</td>\n",
       "      <td>0.0</td>\n",
       "      <td>38000</td>\n",
       "      <td>2884169.0</td>\n",
       "      <td>0.38</td>\n",
       "      <td>12771.0</td>\n",
       "      <td>3.924577</td>\n",
       "    </tr>\n",
       "    <tr>\n",
       "      <th>3</th>\n",
       "      <td>4</td>\n",
       "      <td>Algérie</td>\n",
       "      <td>264000</td>\n",
       "      <td>277000</td>\n",
       "      <td>6.38</td>\n",
       "      <td>275000.0</td>\n",
       "      <td>0.0</td>\n",
       "      <td>2000</td>\n",
       "      <td>41389189.0</td>\n",
       "      <td>-0.92</td>\n",
       "      <td>11737.4</td>\n",
       "      <td>5.040496</td>\n",
       "    </tr>\n",
       "    <tr>\n",
       "      <th>4</th>\n",
       "      <td>79</td>\n",
       "      <td>Allemagne</td>\n",
       "      <td>1609000</td>\n",
       "      <td>1739000</td>\n",
       "      <td>19.47</td>\n",
       "      <td>1514000.0</td>\n",
       "      <td>646000.0</td>\n",
       "      <td>842000</td>\n",
       "      <td>82658409.0</td>\n",
       "      <td>0.59</td>\n",
       "      <td>53071.5</td>\n",
       "      <td>2.762497</td>\n",
       "    </tr>\n",
       "  </tbody>\n",
       "</table>\n",
       "</div>"
      ],
      "text/plain": [
       "   Code zone            Zone  Consommation de poulet (en tonnes)  \\\n",
       "0          2     Afghanistan                               55000   \n",
       "1        202  Afrique du Sud                             2035000   \n",
       "2          3         Albanie                               47000   \n",
       "3          4         Algérie                              264000   \n",
       "4         79       Allemagne                             1609000   \n",
       "\n",
       "   Disponibilité de poulet (en tonnes)  \\\n",
       "0                                57000   \n",
       "1                              2118000   \n",
       "2                                47000   \n",
       "3                               277000   \n",
       "4                              1739000   \n",
       "\n",
       "   Disponibilité alimentaire moyenne par habitant (en kg)  \\\n",
       "0                                               1.53        \n",
       "1                                              35.69        \n",
       "2                                              16.36        \n",
       "3                                               6.38        \n",
       "4                                              19.47        \n",
       "\n",
       "   Production de poulet (en tonnes)  Exportation de poulet (en tonnes)  \\\n",
       "0                           28000.0                                0.0   \n",
       "1                         1667000.0                            63000.0   \n",
       "2                           13000.0                                0.0   \n",
       "3                          275000.0                                0.0   \n",
       "4                         1514000.0                           646000.0   \n",
       "\n",
       "   Importation de poulet (en tonnes)  Population (en unité)  \\\n",
       "0                              29000             36296113.0   \n",
       "1                             514000             57009756.0   \n",
       "2                              38000              2884169.0   \n",
       "3                               2000             41389189.0   \n",
       "4                             842000             82658409.0   \n",
       "\n",
       "   Indice de stabilité politique  PIB moyen par habitant  Inflation (%)  \n",
       "0                          -2.80                  2058.4       6.957529  \n",
       "1                          -0.28                 13860.3       6.902628  \n",
       "2                           0.38                 12771.0       3.924577  \n",
       "3                          -0.92                 11737.4       5.040496  \n",
       "4                           0.59                 53071.5       2.762497  "
      ]
     },
     "metadata": {},
     "output_type": "display_data"
    }
   ],
   "source": [
    "chickenALL = chickenALL1.merge(data_pop, how='left', on='Code zone').merge(data_pol_stab, how='left', on='Code zone').merge(data_gdp_per_hab, how='left', on='Code zone').merge(data_inflation, how='left', on='Code zone')\n",
    "display(chickenALL.head())"
   ]
  },
  {
   "cell_type": "markdown",
   "id": "20a2e912",
   "metadata": {},
   "source": [
    "- Explore the final result :"
   ]
  },
  {
   "cell_type": "code",
   "execution_count": 96,
   "id": "f7f2ea51",
   "metadata": {},
   "outputs": [
    {
     "data": {
      "text/plain": [
       "(170, 12)"
      ]
     },
     "execution_count": 96,
     "metadata": {},
     "output_type": "execute_result"
    }
   ],
   "source": [
    "chickenALL.shape"
   ]
  },
  {
   "cell_type": "code",
   "execution_count": 97,
   "id": "01515c64",
   "metadata": {},
   "outputs": [
    {
     "name": "stdout",
     "output_type": "stream",
     "text": [
      "<class 'pandas.core.frame.DataFrame'>\n",
      "Int64Index: 170 entries, 0 to 169\n",
      "Data columns (total 12 columns):\n",
      " #   Column                                                  Non-Null Count  Dtype  \n",
      "---  ------                                                  --------------  -----  \n",
      " 0   Code zone                                               170 non-null    int64  \n",
      " 1   Zone                                                    170 non-null    object \n",
      " 2   Consommation de poulet (en tonnes)                      170 non-null    int64  \n",
      " 3   Disponibilité de poulet (en tonnes)                     170 non-null    int64  \n",
      " 4   Disponibilité alimentaire moyenne par habitant (en kg)  170 non-null    float64\n",
      " 5   Production de poulet (en tonnes)                        170 non-null    float64\n",
      " 6   Exportation de poulet (en tonnes)                       170 non-null    float64\n",
      " 7   Importation de poulet (en tonnes)                       170 non-null    int64  \n",
      " 8   Population (en unité)                                   170 non-null    float64\n",
      " 9   Indice de stabilité politique                           170 non-null    float64\n",
      " 10  PIB moyen par habitant                                  163 non-null    float64\n",
      " 11  Inflation (%)                                           164 non-null    float64\n",
      "dtypes: float64(7), int64(4), object(1)\n",
      "memory usage: 17.3+ KB\n"
     ]
    }
   ],
   "source": [
    "chickenALL.info()"
   ]
  },
  {
   "cell_type": "markdown",
   "id": "327fef90",
   "metadata": {},
   "source": [
    "- Check duplicate values :"
   ]
  },
  {
   "cell_type": "code",
   "execution_count": 98,
   "id": "c896e691",
   "metadata": {},
   "outputs": [
    {
     "name": "stdout",
     "output_type": "stream",
     "text": [
      "The column Code zone does not contain duplicates\n"
     ]
    }
   ],
   "source": [
    "check_duplicates(chickenALL,\"Code zone\")"
   ]
  },
  {
   "cell_type": "markdown",
   "id": "0795058c",
   "metadata": {},
   "source": [
    "- Fill NA/NaN values :"
   ]
  },
  {
   "cell_type": "code",
   "execution_count": 99,
   "id": "6a09d549",
   "metadata": {},
   "outputs": [
    {
     "name": "stdout",
     "output_type": "stream",
     "text": [
      "<class 'pandas.core.frame.DataFrame'>\n",
      "Int64Index: 170 entries, 0 to 169\n",
      "Data columns (total 12 columns):\n",
      " #   Column                                                  Non-Null Count  Dtype  \n",
      "---  ------                                                  --------------  -----  \n",
      " 0   Code zone                                               170 non-null    int64  \n",
      " 1   Zone                                                    170 non-null    object \n",
      " 2   Consommation de poulet (en tonnes)                      170 non-null    int64  \n",
      " 3   Disponibilité de poulet (en tonnes)                     170 non-null    int64  \n",
      " 4   Disponibilité alimentaire moyenne par habitant (en kg)  170 non-null    float64\n",
      " 5   Production de poulet (en tonnes)                        170 non-null    float64\n",
      " 6   Exportation de poulet (en tonnes)                       170 non-null    float64\n",
      " 7   Importation de poulet (en tonnes)                       170 non-null    int64  \n",
      " 8   Population (en unité)                                   170 non-null    float64\n",
      " 9   Indice de stabilité politique                           170 non-null    float64\n",
      " 10  PIB moyen par habitant                                  170 non-null    float64\n",
      " 11  Inflation (%)                                           170 non-null    float64\n",
      "dtypes: float64(7), int64(4), object(1)\n",
      "memory usage: 17.3+ KB\n"
     ]
    },
    {
     "data": {
      "text/html": [
       "<div>\n",
       "<style scoped>\n",
       "    .dataframe tbody tr th:only-of-type {\n",
       "        vertical-align: middle;\n",
       "    }\n",
       "\n",
       "    .dataframe tbody tr th {\n",
       "        vertical-align: top;\n",
       "    }\n",
       "\n",
       "    .dataframe thead th {\n",
       "        text-align: right;\n",
       "    }\n",
       "</style>\n",
       "<table border=\"1\" class=\"dataframe\">\n",
       "  <thead>\n",
       "    <tr style=\"text-align: right;\">\n",
       "      <th></th>\n",
       "      <th>Code zone</th>\n",
       "      <th>Zone</th>\n",
       "      <th>Consommation de poulet (en tonnes)</th>\n",
       "      <th>Disponibilité de poulet (en tonnes)</th>\n",
       "      <th>Disponibilité alimentaire moyenne par habitant (en kg)</th>\n",
       "      <th>Production de poulet (en tonnes)</th>\n",
       "      <th>Exportation de poulet (en tonnes)</th>\n",
       "      <th>Importation de poulet (en tonnes)</th>\n",
       "      <th>Population (en unité)</th>\n",
       "      <th>Indice de stabilité politique</th>\n",
       "      <th>PIB moyen par habitant</th>\n",
       "      <th>Inflation (%)</th>\n",
       "    </tr>\n",
       "  </thead>\n",
       "  <tbody>\n",
       "    <tr>\n",
       "      <th>0</th>\n",
       "      <td>2</td>\n",
       "      <td>Afghanistan</td>\n",
       "      <td>55000</td>\n",
       "      <td>57000</td>\n",
       "      <td>1.53</td>\n",
       "      <td>28000.0</td>\n",
       "      <td>0.0</td>\n",
       "      <td>29000</td>\n",
       "      <td>36296113.0</td>\n",
       "      <td>-2.80</td>\n",
       "      <td>2058.4</td>\n",
       "      <td>6.957529</td>\n",
       "    </tr>\n",
       "    <tr>\n",
       "      <th>1</th>\n",
       "      <td>202</td>\n",
       "      <td>Afrique du Sud</td>\n",
       "      <td>2035000</td>\n",
       "      <td>2118000</td>\n",
       "      <td>35.69</td>\n",
       "      <td>1667000.0</td>\n",
       "      <td>63000.0</td>\n",
       "      <td>514000</td>\n",
       "      <td>57009756.0</td>\n",
       "      <td>-0.28</td>\n",
       "      <td>13860.3</td>\n",
       "      <td>6.902628</td>\n",
       "    </tr>\n",
       "    <tr>\n",
       "      <th>2</th>\n",
       "      <td>3</td>\n",
       "      <td>Albanie</td>\n",
       "      <td>47000</td>\n",
       "      <td>47000</td>\n",
       "      <td>16.36</td>\n",
       "      <td>13000.0</td>\n",
       "      <td>0.0</td>\n",
       "      <td>38000</td>\n",
       "      <td>2884169.0</td>\n",
       "      <td>0.38</td>\n",
       "      <td>12771.0</td>\n",
       "      <td>3.924577</td>\n",
       "    </tr>\n",
       "    <tr>\n",
       "      <th>3</th>\n",
       "      <td>4</td>\n",
       "      <td>Algérie</td>\n",
       "      <td>264000</td>\n",
       "      <td>277000</td>\n",
       "      <td>6.38</td>\n",
       "      <td>275000.0</td>\n",
       "      <td>0.0</td>\n",
       "      <td>2000</td>\n",
       "      <td>41389189.0</td>\n",
       "      <td>-0.92</td>\n",
       "      <td>11737.4</td>\n",
       "      <td>5.040496</td>\n",
       "    </tr>\n",
       "    <tr>\n",
       "      <th>4</th>\n",
       "      <td>79</td>\n",
       "      <td>Allemagne</td>\n",
       "      <td>1609000</td>\n",
       "      <td>1739000</td>\n",
       "      <td>19.47</td>\n",
       "      <td>1514000.0</td>\n",
       "      <td>646000.0</td>\n",
       "      <td>842000</td>\n",
       "      <td>82658409.0</td>\n",
       "      <td>0.59</td>\n",
       "      <td>53071.5</td>\n",
       "      <td>2.762497</td>\n",
       "    </tr>\n",
       "  </tbody>\n",
       "</table>\n",
       "</div>"
      ],
      "text/plain": [
       "   Code zone            Zone  Consommation de poulet (en tonnes)  \\\n",
       "0          2     Afghanistan                               55000   \n",
       "1        202  Afrique du Sud                             2035000   \n",
       "2          3         Albanie                               47000   \n",
       "3          4         Algérie                              264000   \n",
       "4         79       Allemagne                             1609000   \n",
       "\n",
       "   Disponibilité de poulet (en tonnes)  \\\n",
       "0                                57000   \n",
       "1                              2118000   \n",
       "2                                47000   \n",
       "3                               277000   \n",
       "4                              1739000   \n",
       "\n",
       "   Disponibilité alimentaire moyenne par habitant (en kg)  \\\n",
       "0                                               1.53        \n",
       "1                                              35.69        \n",
       "2                                              16.36        \n",
       "3                                               6.38        \n",
       "4                                              19.47        \n",
       "\n",
       "   Production de poulet (en tonnes)  Exportation de poulet (en tonnes)  \\\n",
       "0                           28000.0                                0.0   \n",
       "1                         1667000.0                            63000.0   \n",
       "2                           13000.0                                0.0   \n",
       "3                          275000.0                                0.0   \n",
       "4                         1514000.0                           646000.0   \n",
       "\n",
       "   Importation de poulet (en tonnes)  Population (en unité)  \\\n",
       "0                              29000             36296113.0   \n",
       "1                             514000             57009756.0   \n",
       "2                              38000              2884169.0   \n",
       "3                               2000             41389189.0   \n",
       "4                             842000             82658409.0   \n",
       "\n",
       "   Indice de stabilité politique  PIB moyen par habitant  Inflation (%)  \n",
       "0                          -2.80                  2058.4       6.957529  \n",
       "1                          -0.28                 13860.3       6.902628  \n",
       "2                           0.38                 12771.0       3.924577  \n",
       "3                          -0.92                 11737.4       5.040496  \n",
       "4                           0.59                 53071.5       2.762497  "
      ]
     },
     "execution_count": 99,
     "metadata": {},
     "output_type": "execute_result"
    }
   ],
   "source": [
    "chickenALL[\"PIB moyen par habitant\"].fillna(0, inplace=True)\n",
    "chickenALL[\"Inflation (%)\"].fillna(0, inplace=True)\n",
    "chickenALL.info()\n",
    "chickenALL.head()"
   ]
  },
  {
   "cell_type": "markdown",
   "id": "a512103d",
   "metadata": {},
   "source": [
    "<a id='another_cell_n'></a>"
   ]
  },
  {
   "cell_type": "markdown",
   "id": "4edbeee8",
   "metadata": {},
   "source": [
    "#### Conclusion (part I/b)"
   ]
  },
  {
   "cell_type": "markdown",
   "id": "34f63da5",
   "metadata": {},
   "source": [
    "<div class=\"alert-success\">\n",
    "<i>→ We have 4 variables of global macroeconomic and political data</i></br>\n",
    "<i><br>→ There are between 187 and 235 countries concerned by these variables</br></i>\n",
    "<i><br>→ We have grouped the monthly dataframe \"Inflation\" by year, taking care to average the inflation rate by country over the 12 months of 2017</i></br>\n",
    "<i><br>→ All data files do not contain any missing value or duplicates on the primary key (\"Code zone\")</i></br>\n",
    "<i><br>→ All data files contain between 2 and 10 data outliers :</i></br>\n",
    "<i><br>---- 🗴 Yemen, Afghanistan, Syria, South Soudan, Pakistan, Libya, Iraq, Congo and Somalia are the most unstable countries in the world ; at first glance, these countries do not seem to be good customers for La Poule qui chante</i></br>\n",
    "<i><br>---- 🗴 The highest inflation rates in 2017 were found in Venezuela and South Sudan ; these countries do not seem to be good customers for La Poule qui chante too</i></br>\n",
    "<i><br>---- 🗸 China, India and USA have the most important demographies in the world ; at first glance, these countries seem to be good clients for La Poule qui chante</i></br>\n",
    "<i><br>---- 🗸 China (Macao territory), Luxemburg, Singapore, Qatar, Bermuda, Irland, Swiss and United Arab Emirates have the most important average GDP per inhabitant in the world ; these countries seem to be good clients for La Poule qui chante too</i></br>\n",
    "</i></div>"
   ]
  },
  {
   "cell_type": "markdown",
   "id": "562674a1",
   "metadata": {},
   "source": [
    "<a id='another_cell_o'></a> "
   ]
  },
  {
   "cell_type": "markdown",
   "id": "45b1c52d",
   "metadata": {},
   "source": [
    "### Conclusion"
   ]
  },
  {
   "cell_type": "code",
   "execution_count": 100,
   "id": "0fc72968",
   "metadata": {},
   "outputs": [
    {
     "name": "stdout",
     "output_type": "stream",
     "text": [
      "<class 'pandas.core.frame.DataFrame'>\n",
      "Index: 170 entries, Afghanistan to Îles Salomon\n",
      "Data columns (total 10 columns):\n",
      " #   Column                                                  Non-Null Count  Dtype  \n",
      "---  ------                                                  --------------  -----  \n",
      " 0   Consommation de poulet (en tonnes)                      170 non-null    int64  \n",
      " 1   Disponibilité de poulet (en tonnes)                     170 non-null    int64  \n",
      " 2   Disponibilité alimentaire moyenne par habitant (en kg)  170 non-null    float64\n",
      " 3   Production de poulet (en tonnes)                        170 non-null    float64\n",
      " 4   Exportation de poulet (en tonnes)                       170 non-null    float64\n",
      " 5   Importation de poulet (en tonnes)                       170 non-null    int64  \n",
      " 6   Population (en unité)                                   170 non-null    float64\n",
      " 7   Indice de stabilité politique                           170 non-null    float64\n",
      " 8   PIB moyen par habitant                                  170 non-null    float64\n",
      " 9   Inflation (%)                                           170 non-null    float64\n",
      "dtypes: float64(7), int64(3)\n",
      "memory usage: 14.6+ KB\n"
     ]
    }
   ],
   "source": [
    "chickenALL = chickenALL.drop([\"Code zone\"], axis=1)\n",
    "chicken = chickenALL.groupby(by=\"Zone\").sum()\n",
    "chicken.info()"
   ]
  },
  {
   "cell_type": "code",
   "execution_count": 101,
   "id": "cce709d6",
   "metadata": {},
   "outputs": [
    {
     "data": {
      "text/html": [
       "<div>\n",
       "<style scoped>\n",
       "    .dataframe tbody tr th:only-of-type {\n",
       "        vertical-align: middle;\n",
       "    }\n",
       "\n",
       "    .dataframe tbody tr th {\n",
       "        vertical-align: top;\n",
       "    }\n",
       "\n",
       "    .dataframe thead th {\n",
       "        text-align: right;\n",
       "    }\n",
       "</style>\n",
       "<table border=\"1\" class=\"dataframe\">\n",
       "  <thead>\n",
       "    <tr style=\"text-align: right;\">\n",
       "      <th></th>\n",
       "      <th>Consommation de poulet (en tonnes)</th>\n",
       "      <th>Disponibilité de poulet (en tonnes)</th>\n",
       "      <th>Disponibilité alimentaire moyenne par habitant (en kg)</th>\n",
       "      <th>Production de poulet (en tonnes)</th>\n",
       "      <th>Exportation de poulet (en tonnes)</th>\n",
       "      <th>Importation de poulet (en tonnes)</th>\n",
       "      <th>Population (en unité)</th>\n",
       "      <th>Indice de stabilité politique</th>\n",
       "      <th>PIB moyen par habitant</th>\n",
       "      <th>Inflation (%)</th>\n",
       "    </tr>\n",
       "    <tr>\n",
       "      <th>Zone</th>\n",
       "      <th></th>\n",
       "      <th></th>\n",
       "      <th></th>\n",
       "      <th></th>\n",
       "      <th></th>\n",
       "      <th></th>\n",
       "      <th></th>\n",
       "      <th></th>\n",
       "      <th></th>\n",
       "      <th></th>\n",
       "    </tr>\n",
       "  </thead>\n",
       "  <tbody>\n",
       "    <tr>\n",
       "      <th>Afghanistan</th>\n",
       "      <td>55000</td>\n",
       "      <td>57000</td>\n",
       "      <td>1.53</td>\n",
       "      <td>28000.0</td>\n",
       "      <td>0.0</td>\n",
       "      <td>29000</td>\n",
       "      <td>36296113.0</td>\n",
       "      <td>-2.80</td>\n",
       "      <td>2058.4</td>\n",
       "      <td>6.957529</td>\n",
       "    </tr>\n",
       "    <tr>\n",
       "      <th>Afrique du Sud</th>\n",
       "      <td>2035000</td>\n",
       "      <td>2118000</td>\n",
       "      <td>35.69</td>\n",
       "      <td>1667000.0</td>\n",
       "      <td>63000.0</td>\n",
       "      <td>514000</td>\n",
       "      <td>57009756.0</td>\n",
       "      <td>-0.28</td>\n",
       "      <td>13860.3</td>\n",
       "      <td>6.902628</td>\n",
       "    </tr>\n",
       "    <tr>\n",
       "      <th>Albanie</th>\n",
       "      <td>47000</td>\n",
       "      <td>47000</td>\n",
       "      <td>16.36</td>\n",
       "      <td>13000.0</td>\n",
       "      <td>0.0</td>\n",
       "      <td>38000</td>\n",
       "      <td>2884169.0</td>\n",
       "      <td>0.38</td>\n",
       "      <td>12771.0</td>\n",
       "      <td>3.924577</td>\n",
       "    </tr>\n",
       "    <tr>\n",
       "      <th>Algérie</th>\n",
       "      <td>264000</td>\n",
       "      <td>277000</td>\n",
       "      <td>6.38</td>\n",
       "      <td>275000.0</td>\n",
       "      <td>0.0</td>\n",
       "      <td>2000</td>\n",
       "      <td>41389189.0</td>\n",
       "      <td>-0.92</td>\n",
       "      <td>11737.4</td>\n",
       "      <td>5.040496</td>\n",
       "    </tr>\n",
       "    <tr>\n",
       "      <th>Allemagne</th>\n",
       "      <td>1609000</td>\n",
       "      <td>1739000</td>\n",
       "      <td>19.47</td>\n",
       "      <td>1514000.0</td>\n",
       "      <td>646000.0</td>\n",
       "      <td>842000</td>\n",
       "      <td>82658409.0</td>\n",
       "      <td>0.59</td>\n",
       "      <td>53071.5</td>\n",
       "      <td>2.762497</td>\n",
       "    </tr>\n",
       "  </tbody>\n",
       "</table>\n",
       "</div>"
      ],
      "text/plain": [
       "                Consommation de poulet (en tonnes)  \\\n",
       "Zone                                                 \n",
       "Afghanistan                                  55000   \n",
       "Afrique du Sud                             2035000   \n",
       "Albanie                                      47000   \n",
       "Algérie                                     264000   \n",
       "Allemagne                                  1609000   \n",
       "\n",
       "                Disponibilité de poulet (en tonnes)  \\\n",
       "Zone                                                  \n",
       "Afghanistan                                   57000   \n",
       "Afrique du Sud                              2118000   \n",
       "Albanie                                       47000   \n",
       "Algérie                                      277000   \n",
       "Allemagne                                   1739000   \n",
       "\n",
       "                Disponibilité alimentaire moyenne par habitant (en kg)  \\\n",
       "Zone                                                                     \n",
       "Afghanistan                                                  1.53        \n",
       "Afrique du Sud                                              35.69        \n",
       "Albanie                                                     16.36        \n",
       "Algérie                                                      6.38        \n",
       "Allemagne                                                   19.47        \n",
       "\n",
       "                Production de poulet (en tonnes)  \\\n",
       "Zone                                               \n",
       "Afghanistan                              28000.0   \n",
       "Afrique du Sud                         1667000.0   \n",
       "Albanie                                  13000.0   \n",
       "Algérie                                 275000.0   \n",
       "Allemagne                              1514000.0   \n",
       "\n",
       "                Exportation de poulet (en tonnes)  \\\n",
       "Zone                                                \n",
       "Afghanistan                                   0.0   \n",
       "Afrique du Sud                            63000.0   \n",
       "Albanie                                       0.0   \n",
       "Algérie                                       0.0   \n",
       "Allemagne                                646000.0   \n",
       "\n",
       "                Importation de poulet (en tonnes)  Population (en unité)  \\\n",
       "Zone                                                                       \n",
       "Afghanistan                                 29000             36296113.0   \n",
       "Afrique du Sud                             514000             57009756.0   \n",
       "Albanie                                     38000              2884169.0   \n",
       "Algérie                                      2000             41389189.0   \n",
       "Allemagne                                  842000             82658409.0   \n",
       "\n",
       "                Indice de stabilité politique  PIB moyen par habitant  \\\n",
       "Zone                                                                    \n",
       "Afghanistan                             -2.80                  2058.4   \n",
       "Afrique du Sud                          -0.28                 13860.3   \n",
       "Albanie                                  0.38                 12771.0   \n",
       "Algérie                                 -0.92                 11737.4   \n",
       "Allemagne                                0.59                 53071.5   \n",
       "\n",
       "                Inflation (%)  \n",
       "Zone                           \n",
       "Afghanistan          6.957529  \n",
       "Afrique du Sud       6.902628  \n",
       "Albanie              3.924577  \n",
       "Algérie              5.040496  \n",
       "Allemagne            2.762497  "
      ]
     },
     "execution_count": 101,
     "metadata": {},
     "output_type": "execute_result"
    }
   ],
   "source": [
    "chicken.head()"
   ]
  },
  {
   "cell_type": "markdown",
   "id": "76181ec0",
   "metadata": {},
   "source": [
    "<div class=\"alert-success\">\n",
    "<i>→ We have 10 variables in the final dataframe : 6 variables of consumption and sale of chicken in the world and 4 variables of global macroeconomic and political data</i></br>\n",
    "<i><br>→ 170 countries are concerned by these variables</br></i>\n",
    "<i><br>→ All data files do not contain any missing value or duplicates on the primary key (\"Code zone\")</i></br>\n",
    "<i><br>→ The results of the exploration show us that, in view of the selection criteria, China seems to be a very good client for La Poule qui chante, but also to a lesser extent Japan, Mexico, Germany, England, Saoudia, South Africa, Luxemburg, Singapore, Qatar, Bermuda, Irland, Swiss and United Arab Emirates</i></br>"
   ]
  },
  {
   "cell_type": "code",
   "execution_count": 102,
   "id": "5ee032d4",
   "metadata": {},
   "outputs": [],
   "source": [
    "chicken.to_csv(\"export_chicken.csv\", sep=';')"
   ]
  },
  {
   "cell_type": "markdown",
   "id": "857a31e6",
   "metadata": {},
   "source": [
    " "
   ]
  }
 ],
 "metadata": {
  "kernelspec": {
   "display_name": "Python 3",
   "language": "python",
   "name": "python3"
  },
  "language_info": {
   "codemirror_mode": {
    "name": "ipython",
    "version": 3
   },
   "file_extension": ".py",
   "mimetype": "text/x-python",
   "name": "python",
   "nbconvert_exporter": "python",
   "pygments_lexer": "ipython3",
   "version": "3.8.8"
  }
 },
 "nbformat": 4,
 "nbformat_minor": 5
}
