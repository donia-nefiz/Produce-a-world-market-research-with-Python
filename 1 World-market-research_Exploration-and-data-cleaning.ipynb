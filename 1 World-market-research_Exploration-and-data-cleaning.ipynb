{
 "cells": [
  {
   "cell_type": "markdown",
   "id": "f8b22c1d",
   "metadata": {},
   "source": [
    "# Produce a world market research with Python"
   ]
  },
  {
   "cell_type": "markdown",
   "id": "0577cd0e",
   "metadata": {},
   "source": [
    "## <i>Exploration and data cleaning</i>"
   ]
  },
  {
   "cell_type": "markdown",
   "id": "e0e867f8",
   "metadata": {},
   "source": [
    " "
   ]
  },
  {
   "cell_type": "markdown",
   "id": "2f514382",
   "metadata": {},
   "source": [
    "My mission here for <i>La Poule qui chante</i> is to analyze the global chicken market to help them choose their direction for international development.\n",
    "\n",
    "All data have been sourced from www.fao.org for the year 2017.\n",
    "\n",
    "In this part, we will start by determining the relevant indicators for our mission and prepare the data for the rest of the analysis.\n",
    "\n",
    " <br></br>\n",
    " \n",
    "<u> Summary</u> :\n",
    "\n",
    " Tools [(here)](#another_cell_0)\n",
    "\n",
    " I. Explore and clean <a href=\"https://github.com/donia-nefiz/...\" target=\"_blank\">world market research data</a>\n",
    "     <br>*1. [customers.csv](http://localhost:8888/edit/customers.csv) : exploration and data cleaning [(here)](#another_cell_a)*</br>\n",
    "     <br>*2. [products.csv](http://localhost:8888/edit/products.csv) : exploration and data cleaning [(here)](#another_cell_b)*</br>\n",
    "     <br>*3. [transactions.csv](http://localhost:8888/edit/transactions.csv) : exploration and data cleaning [(here)](#another_cell_c)</br>*\n",
    "     <br>*4. Merge Lapage dataframes, explore and clean [(here)](#another_cell_d)</br>*\n",
    "     \n",
    " Conclusion (part 1) [(here)](#another_cell_e)\n",
    "     "
   ]
  },
  {
   "cell_type": "markdown",
   "id": "a8dc4e3a",
   "metadata": {},
   "source": [
    " <a id='another_cell_0'></a>"
   ]
  },
  {
   "cell_type": "markdown",
   "id": "3cb10302",
   "metadata": {},
   "source": [
    "### Tools"
   ]
  },
  {
   "cell_type": "code",
   "execution_count": 1,
   "id": "95056797",
   "metadata": {},
   "outputs": [],
   "source": [
    "import numpy as np\n",
    "import pandas as pd\n",
    "import matplotlib.pyplot as plt\n",
    "import datetime as dt\n",
    "import seaborn as sns\n",
    "import warnings"
   ]
  },
  {
   "cell_type": "code",
   "execution_count": 2,
   "id": "c7e130c3",
   "metadata": {},
   "outputs": [],
   "source": [
    "#Check null values function :\n",
    "def check_nan(data, column):\n",
    "    if len(data[data[column].isnull()]) == 0:\n",
    "        print (\"The column\", column, \"does not contain any missing values\")\n",
    "    else :\n",
    "        print(\"The column\", column, \"contain \", len(data[data[column].isnull()]), \" missing values\")"
   ]
  },
  {
   "cell_type": "code",
   "execution_count": 3,
   "id": "9378449d",
   "metadata": {},
   "outputs": [],
   "source": [
    "#Check duplicates function :\n",
    "def check_duplicates(data, column):\n",
    "    n = len(data.index)\n",
    "    if len(data[column].drop_duplicates()) == n :\n",
    "        print (\"The column\", column, \"does not contain duplicates\")\n",
    "    else :\n",
    "        print(\"The column\", column, \"contains \", len(data[data[column].duplicated()]), \" duplicates.\")\n",
    "        return data[data[column].duplicated()]"
   ]
  },
  {
   "cell_type": "markdown",
   "id": "4c83f18e",
   "metadata": {},
   "source": [
    " "
   ]
  },
  {
   "cell_type": "markdown",
   "id": "aa3a3a62",
   "metadata": {},
   "source": [
    "## I. World market research data, files exploration and data cleaning"
   ]
  },
  {
   "cell_type": "markdown",
   "id": "f3820031",
   "metadata": {},
   "source": [
    "### A. Worldwilde chicken consumption and sale (2017)"
   ]
  },
  {
   "cell_type": "markdown",
   "id": "654360da",
   "metadata": {},
   "source": [
    "<a id='another_cell_a'></a>"
   ]
  },
  {
   "cell_type": "markdown",
   "id": "fd6b24bd",
   "metadata": {},
   "source": [
    "#### 1. [chicken_consum.csv](http://localhost:8888/edit/chicken_consum_2017.csv) : exploration and data cleaning"
   ]
  },
  {
   "cell_type": "markdown",
   "id": "a0f710aa",
   "metadata": {},
   "source": [
    "- Loading file:"
   ]
  },
  {
   "cell_type": "code",
   "execution_count": 4,
   "id": "045b66e5",
   "metadata": {},
   "outputs": [],
   "source": [
    "chicken_consum = pd.read_csv('chicken_consum_2017.csv', sep=';')"
   ]
  },
  {
   "cell_type": "markdown",
   "id": "1442e77f",
   "metadata": {},
   "source": [
    "- First 5 rows display :"
   ]
  },
  {
   "cell_type": "code",
   "execution_count": 5,
   "id": "49a5be12",
   "metadata": {},
   "outputs": [
    {
     "data": {
      "text/html": [
       "<div>\n",
       "<style scoped>\n",
       "    .dataframe tbody tr th:only-of-type {\n",
       "        vertical-align: middle;\n",
       "    }\n",
       "\n",
       "    .dataframe tbody tr th {\n",
       "        vertical-align: top;\n",
       "    }\n",
       "\n",
       "    .dataframe thead th {\n",
       "        text-align: right;\n",
       "    }\n",
       "</style>\n",
       "<table border=\"1\" class=\"dataframe\">\n",
       "  <thead>\n",
       "    <tr style=\"text-align: right;\">\n",
       "      <th></th>\n",
       "      <th>Code zone</th>\n",
       "      <th>Zone</th>\n",
       "      <th>Code Élément</th>\n",
       "      <th>Élément</th>\n",
       "      <th>Code Produit</th>\n",
       "      <th>Produit</th>\n",
       "      <th>Année</th>\n",
       "      <th>Unité</th>\n",
       "      <th>Valeur</th>\n",
       "    </tr>\n",
       "  </thead>\n",
       "  <tbody>\n",
       "    <tr>\n",
       "      <th>0</th>\n",
       "      <td>2</td>\n",
       "      <td>Afghanistan</td>\n",
       "      <td>5142</td>\n",
       "      <td>Nourriture</td>\n",
       "      <td>2734</td>\n",
       "      <td>Viande de Volailles</td>\n",
       "      <td>2017</td>\n",
       "      <td>Milliers de tonnes</td>\n",
       "      <td>55</td>\n",
       "    </tr>\n",
       "    <tr>\n",
       "      <th>1</th>\n",
       "      <td>202</td>\n",
       "      <td>Afrique du Sud</td>\n",
       "      <td>5142</td>\n",
       "      <td>Nourriture</td>\n",
       "      <td>2734</td>\n",
       "      <td>Viande de Volailles</td>\n",
       "      <td>2017</td>\n",
       "      <td>Milliers de tonnes</td>\n",
       "      <td>2035</td>\n",
       "    </tr>\n",
       "    <tr>\n",
       "      <th>2</th>\n",
       "      <td>3</td>\n",
       "      <td>Albanie</td>\n",
       "      <td>5142</td>\n",
       "      <td>Nourriture</td>\n",
       "      <td>2734</td>\n",
       "      <td>Viande de Volailles</td>\n",
       "      <td>2017</td>\n",
       "      <td>Milliers de tonnes</td>\n",
       "      <td>47</td>\n",
       "    </tr>\n",
       "    <tr>\n",
       "      <th>3</th>\n",
       "      <td>4</td>\n",
       "      <td>Algérie</td>\n",
       "      <td>5142</td>\n",
       "      <td>Nourriture</td>\n",
       "      <td>2734</td>\n",
       "      <td>Viande de Volailles</td>\n",
       "      <td>2017</td>\n",
       "      <td>Milliers de tonnes</td>\n",
       "      <td>264</td>\n",
       "    </tr>\n",
       "    <tr>\n",
       "      <th>4</th>\n",
       "      <td>79</td>\n",
       "      <td>Allemagne</td>\n",
       "      <td>5142</td>\n",
       "      <td>Nourriture</td>\n",
       "      <td>2734</td>\n",
       "      <td>Viande de Volailles</td>\n",
       "      <td>2017</td>\n",
       "      <td>Milliers de tonnes</td>\n",
       "      <td>1609</td>\n",
       "    </tr>\n",
       "  </tbody>\n",
       "</table>\n",
       "</div>"
      ],
      "text/plain": [
       "   Code zone            Zone  Code Élément     Élément  Code Produit  \\\n",
       "0          2     Afghanistan          5142  Nourriture          2734   \n",
       "1        202  Afrique du Sud          5142  Nourriture          2734   \n",
       "2          3         Albanie          5142  Nourriture          2734   \n",
       "3          4         Algérie          5142  Nourriture          2734   \n",
       "4         79       Allemagne          5142  Nourriture          2734   \n",
       "\n",
       "               Produit  Année               Unité  Valeur  \n",
       "0  Viande de Volailles   2017  Milliers de tonnes      55  \n",
       "1  Viande de Volailles   2017  Milliers de tonnes    2035  \n",
       "2  Viande de Volailles   2017  Milliers de tonnes      47  \n",
       "3  Viande de Volailles   2017  Milliers de tonnes     264  \n",
       "4  Viande de Volailles   2017  Milliers de tonnes    1609  "
      ]
     },
     "execution_count": 5,
     "metadata": {},
     "output_type": "execute_result"
    }
   ],
   "source": [
    "chicken_consum.head()"
   ]
  },
  {
   "cell_type": "markdown",
   "id": "ff790a4c",
   "metadata": {},
   "source": [
    "- Number of rows and columns :"
   ]
  },
  {
   "cell_type": "code",
   "execution_count": 6,
   "id": "7b00a5ae",
   "metadata": {},
   "outputs": [
    {
     "data": {
      "text/plain": [
       "(170, 9)"
      ]
     },
     "execution_count": 6,
     "metadata": {},
     "output_type": "execute_result"
    }
   ],
   "source": [
    "chicken_consum.shape"
   ]
  },
  {
   "cell_type": "markdown",
   "id": "f8ed62a1",
   "metadata": {},
   "source": [
    "- .info display :"
   ]
  },
  {
   "cell_type": "code",
   "execution_count": 7,
   "id": "9e58bc0e",
   "metadata": {},
   "outputs": [
    {
     "name": "stdout",
     "output_type": "stream",
     "text": [
      "<class 'pandas.core.frame.DataFrame'>\n",
      "RangeIndex: 170 entries, 0 to 169\n",
      "Data columns (total 9 columns):\n",
      " #   Column        Non-Null Count  Dtype \n",
      "---  ------        --------------  ----- \n",
      " 0   Code zone     170 non-null    int64 \n",
      " 1   Zone          170 non-null    object\n",
      " 2   Code Élément  170 non-null    int64 \n",
      " 3   Élément       170 non-null    object\n",
      " 4   Code Produit  170 non-null    int64 \n",
      " 5   Produit       170 non-null    object\n",
      " 6   Année         170 non-null    int64 \n",
      " 7   Unité         170 non-null    object\n",
      " 8   Valeur        170 non-null    int64 \n",
      "dtypes: int64(5), object(4)\n",
      "memory usage: 12.1+ KB\n"
     ]
    }
   ],
   "source": [
    "chicken_consum.info()"
   ]
  },
  {
   "cell_type": "markdown",
   "id": "f3361282",
   "metadata": {},
   "source": [
    "- Check null and duplicates values :"
   ]
  },
  {
   "cell_type": "code",
   "execution_count": 8,
   "id": "af61d864",
   "metadata": {},
   "outputs": [
    {
     "name": "stdout",
     "output_type": "stream",
     "text": [
      "The column Code zone does not contain any missing values\n",
      "The column Code zone does not contain duplicates\n"
     ]
    }
   ],
   "source": [
    "check_nan(chicken_consum, \"Code zone\")\n",
    "check_duplicates(chicken_consum, \"Code zone\")"
   ]
  },
  {
   "cell_type": "markdown",
   "id": "42d502ef",
   "metadata": {},
   "source": [
    "<div class=\"alert-success\">\n",
    "    <u>Notice</u> :\n",
    "<i><br><li> Chicken consumption data give information on the chicken consumption of every country in the world : their zone code (primary key), the name of zone and the value of chicken consumption (in thousands of tons)</br></li>\n",
    "<li> There are 170 countries concerned in 2017</li>\n",
    "<li> The data file does not contain any missing value or duplicates on the primary key</li>\n",
    "</i></div>"
   ]
  },
  {
   "cell_type": "markdown",
   "id": "3d73da8c",
   "metadata": {},
   "source": [
    "- Values conversion (from thousands of tons to tons) :"
   ]
  },
  {
   "cell_type": "code",
   "execution_count": 9,
   "id": "c082f754",
   "metadata": {},
   "outputs": [],
   "source": [
    "chicken_consum['Valeur'] = chicken_consum['Valeur'] * 1000\n",
    "chicken_consum.rename(columns={\"Valeur\":\"Consommation de poulet (en tonnes)\"}, inplace=True)"
   ]
  },
  {
   "cell_type": "markdown",
   "id": "720f8b48",
   "metadata": {},
   "source": [
    "- Removed some unnecessary columns :"
   ]
  },
  {
   "cell_type": "code",
   "execution_count": 10,
   "id": "4f5c9d4c",
   "metadata": {},
   "outputs": [
    {
     "data": {
      "text/html": [
       "<div>\n",
       "<style scoped>\n",
       "    .dataframe tbody tr th:only-of-type {\n",
       "        vertical-align: middle;\n",
       "    }\n",
       "\n",
       "    .dataframe tbody tr th {\n",
       "        vertical-align: top;\n",
       "    }\n",
       "\n",
       "    .dataframe thead th {\n",
       "        text-align: right;\n",
       "    }\n",
       "</style>\n",
       "<table border=\"1\" class=\"dataframe\">\n",
       "  <thead>\n",
       "    <tr style=\"text-align: right;\">\n",
       "      <th></th>\n",
       "      <th>Code zone</th>\n",
       "      <th>Zone</th>\n",
       "      <th>Consommation de poulet (en tonnes)</th>\n",
       "    </tr>\n",
       "  </thead>\n",
       "  <tbody>\n",
       "    <tr>\n",
       "      <th>0</th>\n",
       "      <td>2</td>\n",
       "      <td>Afghanistan</td>\n",
       "      <td>55000</td>\n",
       "    </tr>\n",
       "    <tr>\n",
       "      <th>1</th>\n",
       "      <td>202</td>\n",
       "      <td>Afrique du Sud</td>\n",
       "      <td>2035000</td>\n",
       "    </tr>\n",
       "    <tr>\n",
       "      <th>2</th>\n",
       "      <td>3</td>\n",
       "      <td>Albanie</td>\n",
       "      <td>47000</td>\n",
       "    </tr>\n",
       "    <tr>\n",
       "      <th>3</th>\n",
       "      <td>4</td>\n",
       "      <td>Algérie</td>\n",
       "      <td>264000</td>\n",
       "    </tr>\n",
       "    <tr>\n",
       "      <th>4</th>\n",
       "      <td>79</td>\n",
       "      <td>Allemagne</td>\n",
       "      <td>1609000</td>\n",
       "    </tr>\n",
       "  </tbody>\n",
       "</table>\n",
       "</div>"
      ],
      "text/plain": [
       "   Code zone            Zone  Consommation de poulet (en tonnes)\n",
       "0          2     Afghanistan                               55000\n",
       "1        202  Afrique du Sud                             2035000\n",
       "2          3         Albanie                               47000\n",
       "3          4         Algérie                              264000\n",
       "4         79       Allemagne                             1609000"
      ]
     },
     "execution_count": 10,
     "metadata": {},
     "output_type": "execute_result"
    }
   ],
   "source": [
    "chicken_consum.drop(columns =['Code Élément', 'Élément', 'Code Produit', 'Produit', 'Année', 'Unité'], inplace=True)\n",
    "chicken_consum.head()"
   ]
  },
  {
   "cell_type": "markdown",
   "id": "ff481fe4",
   "metadata": {},
   "source": [
    "- Outliers on the variable \"Consommation de poulet\" : "
   ]
  },
  {
   "cell_type": "code",
   "execution_count": 11,
   "id": "511fc8ff",
   "metadata": {},
   "outputs": [
    {
     "name": "stdout",
     "output_type": "stream",
     "text": [
      "---------------------------------------------------------------------------------------------------- \n",
      "\n"
     ]
    },
    {
     "data": {
      "image/png": "[encoded data removed]",
      "text/plain": [
       "<Figure size 648x432 with 1 Axes>"
      ]
     },
     "metadata": {
      "needs_background": "light"
     },
     "output_type": "display_data"
    },
    {
     "name": "stdout",
     "output_type": "stream",
     "text": [
      "---------------------------------------------------------------------------------------------------- \n",
      "\n"
     ]
    },
    {
     "data": {
      "text/html": [
       "<div>\n",
       "<style scoped>\n",
       "    .dataframe tbody tr th:only-of-type {\n",
       "        vertical-align: middle;\n",
       "    }\n",
       "\n",
       "    .dataframe tbody tr th {\n",
       "        vertical-align: top;\n",
       "    }\n",
       "\n",
       "    .dataframe thead th {\n",
       "        text-align: right;\n",
       "    }\n",
       "</style>\n",
       "<table border=\"1\" class=\"dataframe\">\n",
       "  <thead>\n",
       "    <tr style=\"text-align: right;\">\n",
       "      <th></th>\n",
       "      <th>Code zone</th>\n",
       "      <th>Zone</th>\n",
       "      <th>Consommation de poulet (en tonnes)</th>\n",
       "      <th>zscore</th>\n",
       "    </tr>\n",
       "  </thead>\n",
       "  <tbody>\n",
       "    <tr>\n",
       "      <th>52</th>\n",
       "      <td>231</td>\n",
       "      <td>États-Unis d'Amérique</td>\n",
       "      <td>18100000</td>\n",
       "      <td>8.164090</td>\n",
       "    </tr>\n",
       "    <tr>\n",
       "      <th>33</th>\n",
       "      <td>41</td>\n",
       "      <td>Chine, continentale</td>\n",
       "      <td>17518000</td>\n",
       "      <td>7.891688</td>\n",
       "    </tr>\n",
       "    <tr>\n",
       "      <th>23</th>\n",
       "      <td>21</td>\n",
       "      <td>Brésil</td>\n",
       "      <td>9982000</td>\n",
       "      <td>4.364499</td>\n",
       "    </tr>\n",
       "  </tbody>\n",
       "</table>\n",
       "</div>"
      ],
      "text/plain": [
       "    Code zone                   Zone  Consommation de poulet (en tonnes)  \\\n",
       "52        231  États-Unis d'Amérique                            18100000   \n",
       "33         41    Chine, continentale                            17518000   \n",
       "23         21                 Brésil                             9982000   \n",
       "\n",
       "      zscore  \n",
       "52  8.164090  \n",
       "33  7.891688  \n",
       "23  4.364499  "
      ]
     },
     "execution_count": 11,
     "metadata": {},
     "output_type": "execute_result"
    }
   ],
   "source": [
    "outliers = chicken_consum.copy()\n",
    "outliers[\"zscore\"] = (outliers[\"Consommation de poulet (en tonnes)\"] - outliers[\"Consommation de poulet (en tonnes)\"].mean())/outliers[\"Consommation de poulet (en tonnes)\"].std()\n",
    "the_ok = outliers[(outliers[\"zscore\"] <= 2) & (outliers[\"zscore\"] >= -2)]\n",
    "the_outliers = outliers[outliers[\"zscore\"].abs() >2];\n",
    "print('-'*100, \"\\n\")\n",
    "plt.figure(figsize=(9,6))\n",
    "sns.scatterplot(x=the_ok[\"Consommation de poulet (en tonnes)\"].index, y=the_ok[\"Consommation de poulet (en tonnes)\"].values,)\n",
    "sns.scatterplot(x=the_outliers[\"Consommation de poulet (en tonnes)\"].index, y=the_outliers[\"Consommation de poulet (en tonnes)\"].values)\n",
    "plt.title('Outliers graphic representation');\n",
    "plt.savefig(\"Part1.Outliers graphic representation on the chicken consumption.png\", bbox_inches='tight')\n",
    "plt.show()\n",
    "print('-'*100, \"\\n\")\n",
    "the_outliers.sort_values(by=[\"zscore\"], ascending=False)"
   ]
  },
  {
   "cell_type": "markdown",
   "id": "dff13272",
   "metadata": {},
   "source": [
    "<div class=\"alert-warning\">\n",
    "    <u>Warning</u> :\n",
    "<i><br><li> Number of outliers detected : 3</br></li>\n",
    "<i><li> The biggest consumers of chicken in the world are : the USA, China and Brazil</li>\n",
    "</i></div>"
   ]
  },
  {
   "cell_type": "markdown",
   "id": "d877e2f0",
   "metadata": {},
   "source": [
    " <a id='another_cell_b'></a>\n"
   ]
  },
  {
   "cell_type": "markdown",
   "id": "7a86823f",
   "metadata": {},
   "source": [
    "#### 2. [chicken_avail.csv](http://localhost:8888/edit/chicken_avail_2017.csv) : exploration and data cleaning"
   ]
  },
  {
   "cell_type": "markdown",
   "id": "82925741",
   "metadata": {},
   "source": [
    "- Loading file:"
   ]
  },
  {
   "cell_type": "code",
   "execution_count": 12,
   "id": "38e7d46c",
   "metadata": {},
   "outputs": [],
   "source": [
    "chicken_avail = pd.read_csv('chicken_avail_2017.csv', sep=';')"
   ]
  },
  {
   "cell_type": "markdown",
   "id": "8932303b",
   "metadata": {},
   "source": [
    "- First 5 rows display :"
   ]
  },
  {
   "cell_type": "code",
   "execution_count": 13,
   "id": "05ce6096",
   "metadata": {},
   "outputs": [
    {
     "data": {
      "text/html": [
       "<div>\n",
       "<style scoped>\n",
       "    .dataframe tbody tr th:only-of-type {\n",
       "        vertical-align: middle;\n",
       "    }\n",
       "\n",
       "    .dataframe tbody tr th {\n",
       "        vertical-align: top;\n",
       "    }\n",
       "\n",
       "    .dataframe thead th {\n",
       "        text-align: right;\n",
       "    }\n",
       "</style>\n",
       "<table border=\"1\" class=\"dataframe\">\n",
       "  <thead>\n",
       "    <tr style=\"text-align: right;\">\n",
       "      <th></th>\n",
       "      <th>Code zone</th>\n",
       "      <th>Zone</th>\n",
       "      <th>Code Élément</th>\n",
       "      <th>Élément</th>\n",
       "      <th>Produit</th>\n",
       "      <th>Année</th>\n",
       "      <th>Unité</th>\n",
       "      <th>Valeur</th>\n",
       "    </tr>\n",
       "  </thead>\n",
       "  <tbody>\n",
       "    <tr>\n",
       "      <th>0</th>\n",
       "      <td>2</td>\n",
       "      <td>Afghanistan</td>\n",
       "      <td>5301</td>\n",
       "      <td>Disponibilité intérieure</td>\n",
       "      <td>Viande de Volailles</td>\n",
       "      <td>2017</td>\n",
       "      <td>Milliers de tonnes</td>\n",
       "      <td>57</td>\n",
       "    </tr>\n",
       "    <tr>\n",
       "      <th>1</th>\n",
       "      <td>202</td>\n",
       "      <td>Afrique du Sud</td>\n",
       "      <td>5301</td>\n",
       "      <td>Disponibilité intérieure</td>\n",
       "      <td>Viande de Volailles</td>\n",
       "      <td>2017</td>\n",
       "      <td>Milliers de tonnes</td>\n",
       "      <td>2118</td>\n",
       "    </tr>\n",
       "    <tr>\n",
       "      <th>2</th>\n",
       "      <td>3</td>\n",
       "      <td>Albanie</td>\n",
       "      <td>5301</td>\n",
       "      <td>Disponibilité intérieure</td>\n",
       "      <td>Viande de Volailles</td>\n",
       "      <td>2017</td>\n",
       "      <td>Milliers de tonnes</td>\n",
       "      <td>47</td>\n",
       "    </tr>\n",
       "    <tr>\n",
       "      <th>3</th>\n",
       "      <td>4</td>\n",
       "      <td>Algérie</td>\n",
       "      <td>5301</td>\n",
       "      <td>Disponibilité intérieure</td>\n",
       "      <td>Viande de Volailles</td>\n",
       "      <td>2017</td>\n",
       "      <td>Milliers de tonnes</td>\n",
       "      <td>277</td>\n",
       "    </tr>\n",
       "    <tr>\n",
       "      <th>4</th>\n",
       "      <td>79</td>\n",
       "      <td>Allemagne</td>\n",
       "      <td>5301</td>\n",
       "      <td>Disponibilité intérieure</td>\n",
       "      <td>Viande de Volailles</td>\n",
       "      <td>2017</td>\n",
       "      <td>Milliers de tonnes</td>\n",
       "      <td>1739</td>\n",
       "    </tr>\n",
       "  </tbody>\n",
       "</table>\n",
       "</div>"
      ],
      "text/plain": [
       "   Code zone            Zone  Code Élément                   Élément  \\\n",
       "0          2     Afghanistan          5301  Disponibilité intérieure   \n",
       "1        202  Afrique du Sud          5301  Disponibilité intérieure   \n",
       "2          3         Albanie          5301  Disponibilité intérieure   \n",
       "3          4         Algérie          5301  Disponibilité intérieure   \n",
       "4         79       Allemagne          5301  Disponibilité intérieure   \n",
       "\n",
       "               Produit  Année               Unité  Valeur  \n",
       "0  Viande de Volailles   2017  Milliers de tonnes      57  \n",
       "1  Viande de Volailles   2017  Milliers de tonnes    2118  \n",
       "2  Viande de Volailles   2017  Milliers de tonnes      47  \n",
       "3  Viande de Volailles   2017  Milliers de tonnes     277  \n",
       "4  Viande de Volailles   2017  Milliers de tonnes    1739  "
      ]
     },
     "execution_count": 13,
     "metadata": {},
     "output_type": "execute_result"
    }
   ],
   "source": [
    "chicken_avail.head()"
   ]
  },
  {
   "cell_type": "markdown",
   "id": "6769255d",
   "metadata": {},
   "source": [
    "- Number of rows and columns :"
   ]
  },
  {
   "cell_type": "code",
   "execution_count": 14,
   "id": "50473c0c",
   "metadata": {},
   "outputs": [
    {
     "data": {
      "text/plain": [
       "(170, 8)"
      ]
     },
     "execution_count": 14,
     "metadata": {},
     "output_type": "execute_result"
    }
   ],
   "source": [
    "chicken_avail.shape"
   ]
  },
  {
   "cell_type": "markdown",
   "id": "f368d0e4",
   "metadata": {},
   "source": [
    "- .info display :"
   ]
  },
  {
   "cell_type": "code",
   "execution_count": 15,
   "id": "e02bda03",
   "metadata": {},
   "outputs": [
    {
     "name": "stdout",
     "output_type": "stream",
     "text": [
      "<class 'pandas.core.frame.DataFrame'>\n",
      "RangeIndex: 170 entries, 0 to 169\n",
      "Data columns (total 8 columns):\n",
      " #   Column        Non-Null Count  Dtype \n",
      "---  ------        --------------  ----- \n",
      " 0   Code zone     170 non-null    int64 \n",
      " 1   Zone          170 non-null    object\n",
      " 2   Code Élément  170 non-null    int64 \n",
      " 3   Élément       170 non-null    object\n",
      " 4   Produit       170 non-null    object\n",
      " 5   Année         170 non-null    int64 \n",
      " 6   Unité         170 non-null    object\n",
      " 7   Valeur        170 non-null    int64 \n",
      "dtypes: int64(4), object(4)\n",
      "memory usage: 10.8+ KB\n"
     ]
    }
   ],
   "source": [
    "chicken_avail.info()"
   ]
  },
  {
   "cell_type": "markdown",
   "id": "83049c2f",
   "metadata": {},
   "source": [
    "- Check missing and duplicate values :"
   ]
  },
  {
   "cell_type": "code",
   "execution_count": 16,
   "id": "b905e20c",
   "metadata": {},
   "outputs": [
    {
     "name": "stdout",
     "output_type": "stream",
     "text": [
      "The column Code zone does not contain any missing values\n",
      "The column Code zone does not contain duplicates\n"
     ]
    }
   ],
   "source": [
    "check_nan(chicken_avail, \"Code zone\")\n",
    "check_duplicates(chicken_avail,\"Code zone\")"
   ]
  },
  {
   "cell_type": "markdown",
   "id": "be4e40c3",
   "metadata": {},
   "source": [
    "<div class=\"alert-success\">\n",
    "    <u>Notice</u> :\n",
    "<i><br><li> Chicken availibility data give information on the chicken availibility of every country in the world : their zone code (primary key), the name of zone and the value of chicken availibility (in thousands of tons)</br></li>\n",
    "<li> There are 170 countries concerned in 2017</li>\n",
    "<li> The data file does not contain any missing value or duplicates on the primary key</li>\n",
    "</i></div>"
   ]
  },
  {
   "cell_type": "markdown",
   "id": "1fbaa96d",
   "metadata": {},
   "source": [
    "- Values conversion (from thousands of tons to tons) :"
   ]
  },
  {
   "cell_type": "code",
   "execution_count": 17,
   "id": "950bb141",
   "metadata": {},
   "outputs": [],
   "source": [
    "chicken_avail['Valeur'] = chicken_avail['Valeur'] * 1000\n",
    "chicken_avail.rename(columns={\"Valeur\":\"Disponibilité de poulet (en tonnes)\"}, inplace=True)"
   ]
  },
  {
   "cell_type": "markdown",
   "id": "7550978a",
   "metadata": {},
   "source": [
    "- Removed some unnecessary columns :"
   ]
  },
  {
   "cell_type": "code",
   "execution_count": 18,
   "id": "b0dfbbb8",
   "metadata": {},
   "outputs": [
    {
     "data": {
      "text/html": [
       "<div>\n",
       "<style scoped>\n",
       "    .dataframe tbody tr th:only-of-type {\n",
       "        vertical-align: middle;\n",
       "    }\n",
       "\n",
       "    .dataframe tbody tr th {\n",
       "        vertical-align: top;\n",
       "    }\n",
       "\n",
       "    .dataframe thead th {\n",
       "        text-align: right;\n",
       "    }\n",
       "</style>\n",
       "<table border=\"1\" class=\"dataframe\">\n",
       "  <thead>\n",
       "    <tr style=\"text-align: right;\">\n",
       "      <th></th>\n",
       "      <th>Code zone</th>\n",
       "      <th>Disponibilité de poulet (en tonnes)</th>\n",
       "    </tr>\n",
       "  </thead>\n",
       "  <tbody>\n",
       "    <tr>\n",
       "      <th>0</th>\n",
       "      <td>2</td>\n",
       "      <td>57000</td>\n",
       "    </tr>\n",
       "    <tr>\n",
       "      <th>1</th>\n",
       "      <td>202</td>\n",
       "      <td>2118000</td>\n",
       "    </tr>\n",
       "    <tr>\n",
       "      <th>2</th>\n",
       "      <td>3</td>\n",
       "      <td>47000</td>\n",
       "    </tr>\n",
       "    <tr>\n",
       "      <th>3</th>\n",
       "      <td>4</td>\n",
       "      <td>277000</td>\n",
       "    </tr>\n",
       "    <tr>\n",
       "      <th>4</th>\n",
       "      <td>79</td>\n",
       "      <td>1739000</td>\n",
       "    </tr>\n",
       "  </tbody>\n",
       "</table>\n",
       "</div>"
      ],
      "text/plain": [
       "   Code zone  Disponibilité de poulet (en tonnes)\n",
       "0          2                                57000\n",
       "1        202                              2118000\n",
       "2          3                                47000\n",
       "3          4                               277000\n",
       "4         79                              1739000"
      ]
     },
     "execution_count": 18,
     "metadata": {},
     "output_type": "execute_result"
    }
   ],
   "source": [
    "chicken_avail.drop(columns =['Zone', 'Code Élément', 'Élément', 'Produit', 'Année', 'Unité'], inplace=True)\n",
    "chicken_avail.head()"
   ]
  },
  {
   "cell_type": "markdown",
   "id": "721ac024",
   "metadata": {},
   "source": [
    "- Outliers on the variable \"Disponibilité de poulet\" : "
   ]
  },
  {
   "cell_type": "code",
   "execution_count": 19,
   "id": "a9bb8827",
   "metadata": {},
   "outputs": [
    {
     "name": "stdout",
     "output_type": "stream",
     "text": [
      "---------------------------------------------------------------------------------------------------- \n",
      "\n"
     ]
    },
    {
     "data": {
      "image/png": "[encoded data removed]",
      "text/plain": [
       "<Figure size 648x432 with 1 Axes>"
      ]
     },
     "metadata": {
      "needs_background": "light"
     },
     "output_type": "display_data"
    },
    {
     "name": "stdout",
     "output_type": "stream",
     "text": [
      "---------------------------------------------------------------------------------------------------- \n",
      "\n"
     ]
    },
    {
     "data": {
      "text/html": [
       "<div>\n",
       "<style scoped>\n",
       "    .dataframe tbody tr th:only-of-type {\n",
       "        vertical-align: middle;\n",
       "    }\n",
       "\n",
       "    .dataframe tbody tr th {\n",
       "        vertical-align: top;\n",
       "    }\n",
       "\n",
       "    .dataframe thead th {\n",
       "        text-align: right;\n",
       "    }\n",
       "</style>\n",
       "<table border=\"1\" class=\"dataframe\">\n",
       "  <thead>\n",
       "    <tr style=\"text-align: right;\">\n",
       "      <th></th>\n",
       "      <th>Code zone</th>\n",
       "      <th>Disponibilité de poulet (en tonnes)</th>\n",
       "      <th>zscore</th>\n",
       "    </tr>\n",
       "  </thead>\n",
       "  <tbody>\n",
       "    <tr>\n",
       "      <th>52</th>\n",
       "      <td>231</td>\n",
       "      <td>18266000</td>\n",
       "      <td>8.037001</td>\n",
       "    </tr>\n",
       "    <tr>\n",
       "      <th>33</th>\n",
       "      <td>41</td>\n",
       "      <td>18161000</td>\n",
       "      <td>7.988994</td>\n",
       "    </tr>\n",
       "    <tr>\n",
       "      <th>23</th>\n",
       "      <td>21</td>\n",
       "      <td>9982000</td>\n",
       "      <td>4.249484</td>\n",
       "    </tr>\n",
       "  </tbody>\n",
       "</table>\n",
       "</div>"
      ],
      "text/plain": [
       "    Code zone  Disponibilité de poulet (en tonnes)    zscore\n",
       "52        231                             18266000  8.037001\n",
       "33         41                             18161000  7.988994\n",
       "23         21                              9982000  4.249484"
      ]
     },
     "execution_count": 19,
     "metadata": {},
     "output_type": "execute_result"
    }
   ],
   "source": [
    "outliers = chicken_avail.copy()\n",
    "outliers[\"zscore\"] = (outliers[\"Disponibilité de poulet (en tonnes)\"] - outliers[\"Disponibilité de poulet (en tonnes)\"].mean())/outliers[\"Disponibilité de poulet (en tonnes)\"].std()\n",
    "the_ok = outliers[(outliers[\"zscore\"] <= 2) & (outliers[\"zscore\"] >= -2)]\n",
    "the_outliers = outliers[outliers[\"zscore\"].abs() >2];\n",
    "print('-'*100, \"\\n\")\n",
    "plt.figure(figsize=(9,6))\n",
    "sns.scatterplot(x=the_ok[\"Disponibilité de poulet (en tonnes)\"].index, y=the_ok[\"Disponibilité de poulet (en tonnes)\"].values,)\n",
    "sns.scatterplot(x=the_outliers[\"Disponibilité de poulet (en tonnes)\"].index, y=the_outliers[\"Disponibilité de poulet (en tonnes)\"].values)\n",
    "plt.title('Outliers graphic representation');\n",
    "plt.savefig(\"Part1.Outliers graphic representation on chicken availibility.png\", bbox_inches='tight')\n",
    "plt.show()\n",
    "print('-'*100, \"\\n\")\n",
    "the_outliers.sort_values(by=[\"zscore\"], ascending=False)"
   ]
  },
  {
   "cell_type": "markdown",
   "id": "1cf7d06c",
   "metadata": {},
   "source": [
    "<div class=\"alert-warning\">\n",
    "    <u>Warning</u> :\n",
    "<i><br><li> Number of outliers detected : 3</br></li>\n",
    "<i><li> The biggest availibility of chicken in the world are in : the USA, China and Brazil</li>\n",
    "</i></div>"
   ]
  },
  {
   "cell_type": "markdown",
   "id": "32d1ace9",
   "metadata": {},
   "source": [
    "  <a id='another_cell_c'></a>"
   ]
  },
  {
   "cell_type": "markdown",
   "id": "59d67a9f",
   "metadata": {},
   "source": [
    "#### 3. [chicken_avail_per_hab.csv](http://localhost:8888/edit/chicken_avail_per_hab_2017.csv) : exploration and data cleaning\n"
   ]
  },
  {
   "cell_type": "markdown",
   "id": "2c06c344",
   "metadata": {},
   "source": [
    "- Loading file:"
   ]
  },
  {
   "cell_type": "code",
   "execution_count": 20,
   "id": "afa04da3",
   "metadata": {},
   "outputs": [],
   "source": [
    "chicken_avail_per_hab = pd.read_csv('chicken_avail_per_hab_2017.csv', sep=';')"
   ]
  },
  {
   "cell_type": "markdown",
   "id": "61799f36",
   "metadata": {},
   "source": [
    "- First 5 rows display :"
   ]
  },
  {
   "cell_type": "code",
   "execution_count": 21,
   "id": "928ed6c2",
   "metadata": {},
   "outputs": [
    {
     "data": {
      "text/html": [
       "<div>\n",
       "<style scoped>\n",
       "    .dataframe tbody tr th:only-of-type {\n",
       "        vertical-align: middle;\n",
       "    }\n",
       "\n",
       "    .dataframe tbody tr th {\n",
       "        vertical-align: top;\n",
       "    }\n",
       "\n",
       "    .dataframe thead th {\n",
       "        text-align: right;\n",
       "    }\n",
       "</style>\n",
       "<table border=\"1\" class=\"dataframe\">\n",
       "  <thead>\n",
       "    <tr style=\"text-align: right;\">\n",
       "      <th></th>\n",
       "      <th>Code zone</th>\n",
       "      <th>Zone</th>\n",
       "      <th>Code Élément</th>\n",
       "      <th>Élément</th>\n",
       "      <th>Produit</th>\n",
       "      <th>Année</th>\n",
       "      <th>Unité</th>\n",
       "      <th>Valeur</th>\n",
       "    </tr>\n",
       "  </thead>\n",
       "  <tbody>\n",
       "    <tr>\n",
       "      <th>0</th>\n",
       "      <td>2</td>\n",
       "      <td>Afghanistan</td>\n",
       "      <td>645</td>\n",
       "      <td>Disponibilité alimentaire en quantité (kg/pers...</td>\n",
       "      <td>Viande de Volailles</td>\n",
       "      <td>2017</td>\n",
       "      <td>kg</td>\n",
       "      <td>1.53</td>\n",
       "    </tr>\n",
       "    <tr>\n",
       "      <th>1</th>\n",
       "      <td>202</td>\n",
       "      <td>Afrique du Sud</td>\n",
       "      <td>645</td>\n",
       "      <td>Disponibilité alimentaire en quantité (kg/pers...</td>\n",
       "      <td>Viande de Volailles</td>\n",
       "      <td>2017</td>\n",
       "      <td>kg</td>\n",
       "      <td>35.69</td>\n",
       "    </tr>\n",
       "    <tr>\n",
       "      <th>2</th>\n",
       "      <td>3</td>\n",
       "      <td>Albanie</td>\n",
       "      <td>645</td>\n",
       "      <td>Disponibilité alimentaire en quantité (kg/pers...</td>\n",
       "      <td>Viande de Volailles</td>\n",
       "      <td>2017</td>\n",
       "      <td>kg</td>\n",
       "      <td>16.36</td>\n",
       "    </tr>\n",
       "    <tr>\n",
       "      <th>3</th>\n",
       "      <td>4</td>\n",
       "      <td>Algérie</td>\n",
       "      <td>645</td>\n",
       "      <td>Disponibilité alimentaire en quantité (kg/pers...</td>\n",
       "      <td>Viande de Volailles</td>\n",
       "      <td>2017</td>\n",
       "      <td>kg</td>\n",
       "      <td>6.38</td>\n",
       "    </tr>\n",
       "    <tr>\n",
       "      <th>4</th>\n",
       "      <td>79</td>\n",
       "      <td>Allemagne</td>\n",
       "      <td>645</td>\n",
       "      <td>Disponibilité alimentaire en quantité (kg/pers...</td>\n",
       "      <td>Viande de Volailles</td>\n",
       "      <td>2017</td>\n",
       "      <td>kg</td>\n",
       "      <td>19.47</td>\n",
       "    </tr>\n",
       "  </tbody>\n",
       "</table>\n",
       "</div>"
      ],
      "text/plain": [
       "   Code zone            Zone  Code Élément  \\\n",
       "0          2     Afghanistan           645   \n",
       "1        202  Afrique du Sud           645   \n",
       "2          3         Albanie           645   \n",
       "3          4         Algérie           645   \n",
       "4         79       Allemagne           645   \n",
       "\n",
       "                                             Élément              Produit  \\\n",
       "0  Disponibilité alimentaire en quantité (kg/pers...  Viande de Volailles   \n",
       "1  Disponibilité alimentaire en quantité (kg/pers...  Viande de Volailles   \n",
       "2  Disponibilité alimentaire en quantité (kg/pers...  Viande de Volailles   \n",
       "3  Disponibilité alimentaire en quantité (kg/pers...  Viande de Volailles   \n",
       "4  Disponibilité alimentaire en quantité (kg/pers...  Viande de Volailles   \n",
       "\n",
       "   Année Unité  Valeur  \n",
       "0   2017    kg    1.53  \n",
       "1   2017    kg   35.69  \n",
       "2   2017    kg   16.36  \n",
       "3   2017    kg    6.38  \n",
       "4   2017    kg   19.47  "
      ]
     },
     "execution_count": 21,
     "metadata": {},
     "output_type": "execute_result"
    }
   ],
   "source": [
    "chicken_avail_per_hab.head()"
   ]
  },
  {
   "cell_type": "markdown",
   "id": "1c288812",
   "metadata": {},
   "source": [
    "- Number of rows and columns :"
   ]
  },
  {
   "cell_type": "code",
   "execution_count": 22,
   "id": "7bfa1dce",
   "metadata": {},
   "outputs": [
    {
     "data": {
      "text/plain": [
       "(172, 8)"
      ]
     },
     "execution_count": 22,
     "metadata": {},
     "output_type": "execute_result"
    }
   ],
   "source": [
    "chicken_avail_per_hab.shape"
   ]
  },
  {
   "cell_type": "markdown",
   "id": "3591f866",
   "metadata": {},
   "source": [
    "- .info display :"
   ]
  },
  {
   "cell_type": "code",
   "execution_count": 23,
   "id": "40cad71c",
   "metadata": {},
   "outputs": [
    {
     "name": "stdout",
     "output_type": "stream",
     "text": [
      "<class 'pandas.core.frame.DataFrame'>\n",
      "RangeIndex: 172 entries, 0 to 171\n",
      "Data columns (total 8 columns):\n",
      " #   Column        Non-Null Count  Dtype  \n",
      "---  ------        --------------  -----  \n",
      " 0   Code zone     172 non-null    int64  \n",
      " 1   Zone          172 non-null    object \n",
      " 2   Code Élément  172 non-null    int64  \n",
      " 3   Élément       172 non-null    object \n",
      " 4   Produit       172 non-null    object \n",
      " 5   Année         172 non-null    int64  \n",
      " 6   Unité         172 non-null    object \n",
      " 7   Valeur        172 non-null    float64\n",
      "dtypes: float64(1), int64(3), object(4)\n",
      "memory usage: 10.9+ KB\n"
     ]
    }
   ],
   "source": [
    "chicken_avail_per_hab.info()"
   ]
  },
  {
   "cell_type": "markdown",
   "id": "728bef78",
   "metadata": {},
   "source": [
    "- Check missing and duplicate values :"
   ]
  },
  {
   "cell_type": "code",
   "execution_count": 24,
   "id": "3e0b42b6",
   "metadata": {},
   "outputs": [
    {
     "name": "stdout",
     "output_type": "stream",
     "text": [
      "The column Code zone does not contain any missing values\n",
      "The column Code zone does not contain duplicates\n"
     ]
    }
   ],
   "source": [
    "check_nan(chicken_avail_per_hab, \"Code zone\")\n",
    "check_duplicates(chicken_avail_per_hab,\"Code zone\")"
   ]
  },
  {
   "cell_type": "markdown",
   "id": "ff59b2f2",
   "metadata": {},
   "source": [
    "<div class=\"alert-success\">\n",
    "    <u>Notice</u> :\n",
    "<i><br><li> Chicken availibility per habitant data give information on the chicken average availibility per habitant of every country in the world : their zone code (primary key), the name of zone and the value of chicken average availibility per habitant (in kg)</br></li>\n",
    "<li> There are 172 countries concerned in 2017</li>\n",
    "<li> The data file does not contain any missing value or duplicates on the primary key</li>\n",
    "</i></div>"
   ]
  },
  {
   "cell_type": "markdown",
   "id": "1e4d580c",
   "metadata": {},
   "source": [
    "- Rename the last column :"
   ]
  },
  {
   "cell_type": "code",
   "execution_count": 25,
   "id": "9b0a56ba",
   "metadata": {},
   "outputs": [],
   "source": [
    "chicken_avail_per_hab.rename(columns={\"Valeur\":\"Disponibilité alimentaire moyenne par habitant (en tonnes)\"}, inplace=True)"
   ]
  },
  {
   "cell_type": "markdown",
   "id": "a28c340f",
   "metadata": {},
   "source": [
    "- Removed some unnecessary columns :"
   ]
  },
  {
   "cell_type": "code",
   "execution_count": 26,
   "id": "b5dfe32e",
   "metadata": {},
   "outputs": [
    {
     "data": {
      "text/html": [
       "<div>\n",
       "<style scoped>\n",
       "    .dataframe tbody tr th:only-of-type {\n",
       "        vertical-align: middle;\n",
       "    }\n",
       "\n",
       "    .dataframe tbody tr th {\n",
       "        vertical-align: top;\n",
       "    }\n",
       "\n",
       "    .dataframe thead th {\n",
       "        text-align: right;\n",
       "    }\n",
       "</style>\n",
       "<table border=\"1\" class=\"dataframe\">\n",
       "  <thead>\n",
       "    <tr style=\"text-align: right;\">\n",
       "      <th></th>\n",
       "      <th>Code zone</th>\n",
       "      <th>Disponibilité alimentaire moyenne par habitant (en tonnes)</th>\n",
       "    </tr>\n",
       "  </thead>\n",
       "  <tbody>\n",
       "    <tr>\n",
       "      <th>0</th>\n",
       "      <td>2</td>\n",
       "      <td>1.53</td>\n",
       "    </tr>\n",
       "    <tr>\n",
       "      <th>1</th>\n",
       "      <td>202</td>\n",
       "      <td>35.69</td>\n",
       "    </tr>\n",
       "    <tr>\n",
       "      <th>2</th>\n",
       "      <td>3</td>\n",
       "      <td>16.36</td>\n",
       "    </tr>\n",
       "    <tr>\n",
       "      <th>3</th>\n",
       "      <td>4</td>\n",
       "      <td>6.38</td>\n",
       "    </tr>\n",
       "    <tr>\n",
       "      <th>4</th>\n",
       "      <td>79</td>\n",
       "      <td>19.47</td>\n",
       "    </tr>\n",
       "  </tbody>\n",
       "</table>\n",
       "</div>"
      ],
      "text/plain": [
       "   Code zone  Disponibilité alimentaire moyenne par habitant (en tonnes)\n",
       "0          2                                               1.53         \n",
       "1        202                                              35.69         \n",
       "2          3                                              16.36         \n",
       "3          4                                               6.38         \n",
       "4         79                                              19.47         "
      ]
     },
     "execution_count": 26,
     "metadata": {},
     "output_type": "execute_result"
    }
   ],
   "source": [
    "chicken_avail_per_hab.drop(columns =['Zone', 'Code Élément', 'Élément', 'Produit', 'Année', 'Unité'], inplace=True)\n",
    "chicken_avail_per_hab.head()"
   ]
  },
  {
   "cell_type": "markdown",
   "id": "60b3243a",
   "metadata": {},
   "source": [
    "- Outliers on the variable \"Disponibilité alimentaire moyenne par habitant\" :"
   ]
  },
  {
   "cell_type": "code",
   "execution_count": 27,
   "id": "7422d6dd",
   "metadata": {},
   "outputs": [
    {
     "name": "stdout",
     "output_type": "stream",
     "text": [
      "---------------------------------------------------------------------------------------------------- \n",
      "\n"
     ]
    },
    {
     "data": {
      "image/png": "[encoded data removed]",
      "text/plain": [
       "<Figure size 648x432 with 1 Axes>"
      ]
     },
     "metadata": {
      "needs_background": "light"
     },
     "output_type": "display_data"
    },
    {
     "name": "stdout",
     "output_type": "stream",
     "text": [
      "---------------------------------------------------------------------------------------------------- \n",
      "\n"
     ]
    },
    {
     "data": {
      "text/html": [
       "<div>\n",
       "<style scoped>\n",
       "    .dataframe tbody tr th:only-of-type {\n",
       "        vertical-align: middle;\n",
       "    }\n",
       "\n",
       "    .dataframe tbody tr th {\n",
       "        vertical-align: top;\n",
       "    }\n",
       "\n",
       "    .dataframe thead th {\n",
       "        text-align: right;\n",
       "    }\n",
       "</style>\n",
       "<table border=\"1\" class=\"dataframe\">\n",
       "  <thead>\n",
       "    <tr style=\"text-align: right;\">\n",
       "      <th></th>\n",
       "      <th>Code zone</th>\n",
       "      <th>Disponibilité alimentaire moyenne par habitant (en tonnes)</th>\n",
       "      <th>zscore</th>\n",
       "    </tr>\n",
       "  </thead>\n",
       "  <tbody>\n",
       "    <tr>\n",
       "      <th>141</th>\n",
       "      <td>191</td>\n",
       "      <td>72.31</td>\n",
       "      <td>3.284717</td>\n",
       "    </tr>\n",
       "    <tr>\n",
       "      <th>78</th>\n",
       "      <td>105</td>\n",
       "      <td>67.39</td>\n",
       "      <td>2.974508</td>\n",
       "    </tr>\n",
       "    <tr>\n",
       "      <th>142</th>\n",
       "      <td>244</td>\n",
       "      <td>64.77</td>\n",
       "      <td>2.809316</td>\n",
       "    </tr>\n",
       "    <tr>\n",
       "      <th>139</th>\n",
       "      <td>189</td>\n",
       "      <td>56.69</td>\n",
       "      <td>2.299868</td>\n",
       "    </tr>\n",
       "    <tr>\n",
       "      <th>140</th>\n",
       "      <td>188</td>\n",
       "      <td>55.77</td>\n",
       "      <td>2.241862</td>\n",
       "    </tr>\n",
       "    <tr>\n",
       "      <th>52</th>\n",
       "      <td>231</td>\n",
       "      <td>55.68</td>\n",
       "      <td>2.236187</td>\n",
       "    </tr>\n",
       "    <tr>\n",
       "      <th>160</th>\n",
       "      <td>220</td>\n",
       "      <td>54.54</td>\n",
       "      <td>2.164310</td>\n",
       "    </tr>\n",
       "    <tr>\n",
       "      <th>6</th>\n",
       "      <td>8</td>\n",
       "      <td>54.10</td>\n",
       "      <td>2.136568</td>\n",
       "    </tr>\n",
       "    <tr>\n",
       "      <th>31</th>\n",
       "      <td>96</td>\n",
       "      <td>53.51</td>\n",
       "      <td>2.099368</td>\n",
       "    </tr>\n",
       "  </tbody>\n",
       "</table>\n",
       "</div>"
      ],
      "text/plain": [
       "     Code zone  Disponibilité alimentaire moyenne par habitant (en tonnes)  \\\n",
       "141        191                                              72.31            \n",
       "78         105                                              67.39            \n",
       "142        244                                              64.77            \n",
       "139        189                                              56.69            \n",
       "140        188                                              55.77            \n",
       "52         231                                              55.68            \n",
       "160        220                                              54.54            \n",
       "6            8                                              54.10            \n",
       "31          96                                              53.51            \n",
       "\n",
       "       zscore  \n",
       "141  3.284717  \n",
       "78   2.974508  \n",
       "142  2.809316  \n",
       "139  2.299868  \n",
       "140  2.241862  \n",
       "52   2.236187  \n",
       "160  2.164310  \n",
       "6    2.136568  \n",
       "31   2.099368  "
      ]
     },
     "execution_count": 27,
     "metadata": {},
     "output_type": "execute_result"
    }
   ],
   "source": [
    "outliers = chicken_avail_per_hab.copy()\n",
    "outliers[\"zscore\"] = (outliers[\"Disponibilité alimentaire moyenne par habitant (en tonnes)\"] - outliers[\"Disponibilité alimentaire moyenne par habitant (en tonnes)\"].mean())/outliers[\"Disponibilité alimentaire moyenne par habitant (en tonnes)\"].std()\n",
    "the_ok = outliers[(outliers[\"zscore\"] <= 2) & (outliers[\"zscore\"] >= -2)]\n",
    "the_outliers = outliers[outliers[\"zscore\"].abs() >2];\n",
    "print('-'*100, \"\\n\")\n",
    "plt.figure(figsize=(9,6))\n",
    "sns.scatterplot(x=the_ok[\"Disponibilité alimentaire moyenne par habitant (en tonnes)\"].index, y=the_ok[\"Disponibilité alimentaire moyenne par habitant (en tonnes)\"].values,)\n",
    "sns.scatterplot(x=the_outliers[\"Disponibilité alimentaire moyenne par habitant (en tonnes)\"].index, y=the_outliers[\"Disponibilité alimentaire moyenne par habitant (en tonnes)\"].values)\n",
    "plt.title('Outliers graphic representation');\n",
    "plt.savefig(\"Part1.Outliers graphic representation on chicken availibility per habitant.png\", bbox_inches='tight')\n",
    "plt.show()\n",
    "print('-'*100, \"\\n\")\n",
    "the_outliers.sort_values(by=[\"zscore\"], ascending=False)"
   ]
  },
  {
   "cell_type": "code",
   "execution_count": 28,
   "id": "f539d5d7",
   "metadata": {},
   "outputs": [
    {
     "name": "stdout",
     "output_type": "stream",
     "text": [
      "Numbers of outliers detected : 9\n"
     ]
    }
   ],
   "source": [
    "print(\"Numbers of outliers detected :\", len(the_outliers))"
   ]
  },
  {
   "cell_type": "markdown",
   "id": "9191ad2f",
   "metadata": {},
   "source": [
    "<div class=\"alert-warning\">\n",
    "    <u>Warning</u> :\n",
    "<i><br><li> Number of outliers detected : 9</br></li>\n",
    "<i><li> The countries concerned are moslty islands, Israel, USA and China</li>\n",
    "</i></div>"
   ]
  },
  {
   "cell_type": "markdown",
   "id": "20321b5f",
   "metadata": {},
   "source": [
    " "
   ]
  },
  {
   "cell_type": "markdown",
   "id": "1db4e689",
   "metadata": {},
   "source": [
    "#### 4. [chicken_prod.csv](http://localhost:8888/edit/chicken_prod_2017.csv) : exploration and data cleaning"
   ]
  },
  {
   "cell_type": "markdown",
   "id": "3c3d598e",
   "metadata": {},
   "source": [
    "- Loading file:"
   ]
  },
  {
   "cell_type": "code",
   "execution_count": 31,
   "id": "1b8555ae",
   "metadata": {},
   "outputs": [],
   "source": [
    "chicken_prod = pd.read_csv('chicken_prod_2017.csv', sep=';')"
   ]
  },
  {
   "cell_type": "markdown",
   "id": "e6ee70e9",
   "metadata": {},
   "source": [
    "- First 5 rows display :"
   ]
  },
  {
   "cell_type": "code",
   "execution_count": 32,
   "id": "3cb7ba93",
   "metadata": {},
   "outputs": [
    {
     "data": {
      "text/html": [
       "<div>\n",
       "<style scoped>\n",
       "    .dataframe tbody tr th:only-of-type {\n",
       "        vertical-align: middle;\n",
       "    }\n",
       "\n",
       "    .dataframe tbody tr th {\n",
       "        vertical-align: top;\n",
       "    }\n",
       "\n",
       "    .dataframe thead th {\n",
       "        text-align: right;\n",
       "    }\n",
       "</style>\n",
       "<table border=\"1\" class=\"dataframe\">\n",
       "  <thead>\n",
       "    <tr style=\"text-align: right;\">\n",
       "      <th></th>\n",
       "      <th>Code zone</th>\n",
       "      <th>Zone</th>\n",
       "      <th>Code Élément</th>\n",
       "      <th>Élément</th>\n",
       "      <th>Produit</th>\n",
       "      <th>Année</th>\n",
       "      <th>Unité</th>\n",
       "      <th>Valeur</th>\n",
       "    </tr>\n",
       "  </thead>\n",
       "  <tbody>\n",
       "    <tr>\n",
       "      <th>0</th>\n",
       "      <td>2</td>\n",
       "      <td>Afghanistan</td>\n",
       "      <td>5511</td>\n",
       "      <td>Production</td>\n",
       "      <td>Viande de Volailles</td>\n",
       "      <td>2017</td>\n",
       "      <td>Milliers de tonnes</td>\n",
       "      <td>28</td>\n",
       "    </tr>\n",
       "    <tr>\n",
       "      <th>1</th>\n",
       "      <td>202</td>\n",
       "      <td>Afrique du Sud</td>\n",
       "      <td>5511</td>\n",
       "      <td>Production</td>\n",
       "      <td>Viande de Volailles</td>\n",
       "      <td>2017</td>\n",
       "      <td>Milliers de tonnes</td>\n",
       "      <td>1667</td>\n",
       "    </tr>\n",
       "    <tr>\n",
       "      <th>2</th>\n",
       "      <td>3</td>\n",
       "      <td>Albanie</td>\n",
       "      <td>5511</td>\n",
       "      <td>Production</td>\n",
       "      <td>Viande de Volailles</td>\n",
       "      <td>2017</td>\n",
       "      <td>Milliers de tonnes</td>\n",
       "      <td>13</td>\n",
       "    </tr>\n",
       "    <tr>\n",
       "      <th>3</th>\n",
       "      <td>4</td>\n",
       "      <td>Algérie</td>\n",
       "      <td>5511</td>\n",
       "      <td>Production</td>\n",
       "      <td>Viande de Volailles</td>\n",
       "      <td>2017</td>\n",
       "      <td>Milliers de tonnes</td>\n",
       "      <td>275</td>\n",
       "    </tr>\n",
       "    <tr>\n",
       "      <th>4</th>\n",
       "      <td>79</td>\n",
       "      <td>Allemagne</td>\n",
       "      <td>5511</td>\n",
       "      <td>Production</td>\n",
       "      <td>Viande de Volailles</td>\n",
       "      <td>2017</td>\n",
       "      <td>Milliers de tonnes</td>\n",
       "      <td>1514</td>\n",
       "    </tr>\n",
       "  </tbody>\n",
       "</table>\n",
       "</div>"
      ],
      "text/plain": [
       "   Code zone            Zone  Code Élément     Élément              Produit  \\\n",
       "0          2     Afghanistan          5511  Production  Viande de Volailles   \n",
       "1        202  Afrique du Sud          5511  Production  Viande de Volailles   \n",
       "2          3         Albanie          5511  Production  Viande de Volailles   \n",
       "3          4         Algérie          5511  Production  Viande de Volailles   \n",
       "4         79       Allemagne          5511  Production  Viande de Volailles   \n",
       "\n",
       "   Année               Unité  Valeur  \n",
       "0   2017  Milliers de tonnes      28  \n",
       "1   2017  Milliers de tonnes    1667  \n",
       "2   2017  Milliers de tonnes      13  \n",
       "3   2017  Milliers de tonnes     275  \n",
       "4   2017  Milliers de tonnes    1514  "
      ]
     },
     "execution_count": 32,
     "metadata": {},
     "output_type": "execute_result"
    }
   ],
   "source": [
    "chicken_prod.head()"
   ]
  },
  {
   "cell_type": "markdown",
   "id": "dd01d8ab",
   "metadata": {},
   "source": [
    "- Number of rows and columns :"
   ]
  },
  {
   "cell_type": "code",
   "execution_count": 33,
   "id": "b5dd786e",
   "metadata": {},
   "outputs": [
    {
     "data": {
      "text/plain": [
       "(168, 8)"
      ]
     },
     "execution_count": 33,
     "metadata": {},
     "output_type": "execute_result"
    }
   ],
   "source": [
    "chicken_prod.shape"
   ]
  },
  {
   "cell_type": "markdown",
   "id": "f5e217c9",
   "metadata": {},
   "source": [
    "- .info display :"
   ]
  },
  {
   "cell_type": "code",
   "execution_count": 34,
   "id": "40cb2462",
   "metadata": {},
   "outputs": [
    {
     "name": "stdout",
     "output_type": "stream",
     "text": [
      "<class 'pandas.core.frame.DataFrame'>\n",
      "RangeIndex: 168 entries, 0 to 167\n",
      "Data columns (total 8 columns):\n",
      " #   Column        Non-Null Count  Dtype \n",
      "---  ------        --------------  ----- \n",
      " 0   Code zone     168 non-null    int64 \n",
      " 1   Zone          168 non-null    object\n",
      " 2   Code Élément  168 non-null    int64 \n",
      " 3   Élément       168 non-null    object\n",
      " 4   Produit       168 non-null    object\n",
      " 5   Année         168 non-null    int64 \n",
      " 6   Unité         168 non-null    object\n",
      " 7   Valeur        168 non-null    int64 \n",
      "dtypes: int64(4), object(4)\n",
      "memory usage: 10.6+ KB\n"
     ]
    }
   ],
   "source": [
    "chicken_prod.info()"
   ]
  },
  {
   "cell_type": "markdown",
   "id": "7fb2859a",
   "metadata": {},
   "source": [
    "- Check missing and duplicate values :"
   ]
  },
  {
   "cell_type": "code",
   "execution_count": 35,
   "id": "86e56e7f",
   "metadata": {},
   "outputs": [
    {
     "name": "stdout",
     "output_type": "stream",
     "text": [
      "The column Code zone does not contain any missing values\n",
      "The column Code zone does not contain duplicates\n"
     ]
    }
   ],
   "source": [
    "check_nan(chicken_prod, \"Code zone\")\n",
    "check_duplicates(chicken_prod,\"Code zone\")"
   ]
  },
  {
   "cell_type": "markdown",
   "id": "d2449132",
   "metadata": {},
   "source": [
    "<div class=\"alert-success\">\n",
    "    <u>Notice</u> :\n",
    "<i><br><li> Chicken production data give information on the chicken production of every country in the world : their zone code (primary key), the name of zone and the value of chicken production (in thousands of tons)</br></li>\n",
    "<li> There are 168 countries concerned in 2017</li>\n",
    "<li> The data file does not contain any missing value or duplicates on the primary key</li>\n",
    "</i></div>"
   ]
  },
  {
   "cell_type": "markdown",
   "id": "bcc3e0e4",
   "metadata": {},
   "source": [
    "- Values conversion (from thousands of tons to tons) :"
   ]
  },
  {
   "cell_type": "code",
   "execution_count": 36,
   "id": "17465739",
   "metadata": {},
   "outputs": [],
   "source": [
    "chicken_prod['Valeur'] = chicken_prod['Valeur'] * 1000\n",
    "chicken_prod.rename(columns={\"Valeur\":\"Production de poulet (en tonnes)\"}, inplace=True)"
   ]
  },
  {
   "cell_type": "markdown",
   "id": "ee487de0",
   "metadata": {},
   "source": [
    "- Removed some unnecessary columns :"
   ]
  },
  {
   "cell_type": "code",
   "execution_count": 37,
   "id": "945bbd31",
   "metadata": {},
   "outputs": [
    {
     "data": {
      "text/html": [
       "<div>\n",
       "<style scoped>\n",
       "    .dataframe tbody tr th:only-of-type {\n",
       "        vertical-align: middle;\n",
       "    }\n",
       "\n",
       "    .dataframe tbody tr th {\n",
       "        vertical-align: top;\n",
       "    }\n",
       "\n",
       "    .dataframe thead th {\n",
       "        text-align: right;\n",
       "    }\n",
       "</style>\n",
       "<table border=\"1\" class=\"dataframe\">\n",
       "  <thead>\n",
       "    <tr style=\"text-align: right;\">\n",
       "      <th></th>\n",
       "      <th>Code zone</th>\n",
       "      <th>Production de poulet (en tonnes)</th>\n",
       "    </tr>\n",
       "  </thead>\n",
       "  <tbody>\n",
       "    <tr>\n",
       "      <th>0</th>\n",
       "      <td>2</td>\n",
       "      <td>28000</td>\n",
       "    </tr>\n",
       "    <tr>\n",
       "      <th>1</th>\n",
       "      <td>202</td>\n",
       "      <td>1667000</td>\n",
       "    </tr>\n",
       "    <tr>\n",
       "      <th>2</th>\n",
       "      <td>3</td>\n",
       "      <td>13000</td>\n",
       "    </tr>\n",
       "    <tr>\n",
       "      <th>3</th>\n",
       "      <td>4</td>\n",
       "      <td>275000</td>\n",
       "    </tr>\n",
       "    <tr>\n",
       "      <th>4</th>\n",
       "      <td>79</td>\n",
       "      <td>1514000</td>\n",
       "    </tr>\n",
       "  </tbody>\n",
       "</table>\n",
       "</div>"
      ],
      "text/plain": [
       "   Code zone  Production de poulet (en tonnes)\n",
       "0          2                             28000\n",
       "1        202                           1667000\n",
       "2          3                             13000\n",
       "3          4                            275000\n",
       "4         79                           1514000"
      ]
     },
     "execution_count": 37,
     "metadata": {},
     "output_type": "execute_result"
    }
   ],
   "source": [
    "chicken_prod.drop(columns =['Zone', 'Code Élément', 'Élément', 'Produit', 'Année', 'Unité'], inplace=True)\n",
    "chicken_prod.head()"
   ]
  },
  {
   "cell_type": "markdown",
   "id": "b1cab732",
   "metadata": {},
   "source": [
    "- Outliers on the variable \"Production de poulet\" : "
   ]
  },
  {
   "cell_type": "code",
   "execution_count": 40,
   "id": "9a57a517",
   "metadata": {},
   "outputs": [
    {
     "name": "stdout",
     "output_type": "stream",
     "text": [
      "---------------------------------------------------------------------------------------------------- \n",
      "\n"
     ]
    },
    {
     "data": {
      "image/png": "[encoded data removed]",
      "text/plain": [
       "<Figure size 648x432 with 1 Axes>"
      ]
     },
     "metadata": {
      "needs_background": "light"
     },
     "output_type": "display_data"
    },
    {
     "name": "stdout",
     "output_type": "stream",
     "text": [
      "---------------------------------------------------------------------------------------------------- \n",
      "\n"
     ]
    },
    {
     "data": {
      "text/html": [
       "<div>\n",
       "<style scoped>\n",
       "    .dataframe tbody tr th:only-of-type {\n",
       "        vertical-align: middle;\n",
       "    }\n",
       "\n",
       "    .dataframe tbody tr th {\n",
       "        vertical-align: top;\n",
       "    }\n",
       "\n",
       "    .dataframe thead th {\n",
       "        text-align: right;\n",
       "    }\n",
       "</style>\n",
       "<table border=\"1\" class=\"dataframe\">\n",
       "  <thead>\n",
       "    <tr style=\"text-align: right;\">\n",
       "      <th></th>\n",
       "      <th>Code zone</th>\n",
       "      <th>Production de poulet (en tonnes)</th>\n",
       "      <th>zscore</th>\n",
       "    </tr>\n",
       "  </thead>\n",
       "  <tbody>\n",
       "    <tr>\n",
       "      <th>51</th>\n",
       "      <td>231</td>\n",
       "      <td>21914000</td>\n",
       "      <td>8.470587</td>\n",
       "    </tr>\n",
       "    <tr>\n",
       "      <th>33</th>\n",
       "      <td>41</td>\n",
       "      <td>18236000</td>\n",
       "      <td>7.000244</td>\n",
       "    </tr>\n",
       "    <tr>\n",
       "      <th>23</th>\n",
       "      <td>21</td>\n",
       "      <td>14201000</td>\n",
       "      <td>5.387184</td>\n",
       "    </tr>\n",
       "  </tbody>\n",
       "</table>\n",
       "</div>"
      ],
      "text/plain": [
       "    Code zone  Production de poulet (en tonnes)    zscore\n",
       "51        231                          21914000  8.470587\n",
       "33         41                          18236000  7.000244\n",
       "23         21                          14201000  5.387184"
      ]
     },
     "execution_count": 40,
     "metadata": {},
     "output_type": "execute_result"
    }
   ],
   "source": [
    "outliers = chicken_prod.copy()\n",
    "outliers[\"zscore\"] = (outliers[\"Production de poulet (en tonnes)\"] - outliers[\"Production de poulet (en tonnes)\"].mean())/outliers[\"Production de poulet (en tonnes)\"].std()\n",
    "the_ok = outliers[(outliers[\"zscore\"] <= 2) & (outliers[\"zscore\"] >= -2)]\n",
    "the_outliers = outliers[outliers[\"zscore\"].abs() >2];\n",
    "print('-'*100, \"\\n\")\n",
    "plt.figure(figsize=(9,6))\n",
    "sns.scatterplot(x=the_ok[\"Production de poulet (en tonnes)\"].index, y=the_ok[\"Production de poulet (en tonnes)\"].values,)\n",
    "sns.scatterplot(x=the_outliers[\"Production de poulet (en tonnes)\"].index, y=the_outliers[\"Production de poulet (en tonnes)\"].values)\n",
    "plt.title('Outliers graphic representation');\n",
    "plt.savefig(\"Part1.Outliers graphic representation on chicken production.png\", bbox_inches='tight')\n",
    "plt.show()\n",
    "print('-'*100, \"\\n\")\n",
    "the_outliers.sort_values(by=[\"zscore\"], ascending=False)"
   ]
  },
  {
   "cell_type": "markdown",
   "id": "59f8bec3",
   "metadata": {},
   "source": [
    "<div class=\"alert-warning\">\n",
    "    <u>Warning</u> :\n",
    "<i><br><li> Number of outliers detected : 3</br></li>\n",
    "<i><li> The biggest production of chicken in the world are in : the USA, China and Brazil</li>\n",
    "</i></div>"
   ]
  },
  {
   "cell_type": "markdown",
   "id": "54b867b0",
   "metadata": {},
   "source": [
    " "
   ]
  },
  {
   "cell_type": "markdown",
   "id": "60cc67df",
   "metadata": {},
   "source": [
    "#### 5. [chicken_export.csv](http://localhost:8888/edit/chicken_export_2017.csv) : exploration and data cleaning"
   ]
  },
  {
   "cell_type": "markdown",
   "id": "4d1f8b87",
   "metadata": {},
   "source": [
    "- Loading file:"
   ]
  },
  {
   "cell_type": "code",
   "execution_count": 41,
   "id": "c9abae80",
   "metadata": {},
   "outputs": [],
   "source": [
    "chicken_export = pd.read_csv('chicken_export_2017.csv', sep=';')"
   ]
  },
  {
   "cell_type": "markdown",
   "id": "90dcc99e",
   "metadata": {},
   "source": [
    "- First 5 rows display :"
   ]
  },
  {
   "cell_type": "code",
   "execution_count": 42,
   "id": "8b192858",
   "metadata": {},
   "outputs": [
    {
     "data": {
      "text/html": [
       "<div>\n",
       "<style scoped>\n",
       "    .dataframe tbody tr th:only-of-type {\n",
       "        vertical-align: middle;\n",
       "    }\n",
       "\n",
       "    .dataframe tbody tr th {\n",
       "        vertical-align: top;\n",
       "    }\n",
       "\n",
       "    .dataframe thead th {\n",
       "        text-align: right;\n",
       "    }\n",
       "</style>\n",
       "<table border=\"1\" class=\"dataframe\">\n",
       "  <thead>\n",
       "    <tr style=\"text-align: right;\">\n",
       "      <th></th>\n",
       "      <th>Code zone</th>\n",
       "      <th>Zone</th>\n",
       "      <th>Code Élément</th>\n",
       "      <th>Élément</th>\n",
       "      <th>Produit</th>\n",
       "      <th>Année</th>\n",
       "      <th>Unité</th>\n",
       "      <th>Valeur</th>\n",
       "    </tr>\n",
       "  </thead>\n",
       "  <tbody>\n",
       "    <tr>\n",
       "      <th>0</th>\n",
       "      <td>202</td>\n",
       "      <td>Afrique du Sud</td>\n",
       "      <td>5911</td>\n",
       "      <td>Exportations - Quantité</td>\n",
       "      <td>Viande de Volailles</td>\n",
       "      <td>2017</td>\n",
       "      <td>Milliers de tonnes</td>\n",
       "      <td>63</td>\n",
       "    </tr>\n",
       "    <tr>\n",
       "      <th>1</th>\n",
       "      <td>3</td>\n",
       "      <td>Albanie</td>\n",
       "      <td>5911</td>\n",
       "      <td>Exportations - Quantité</td>\n",
       "      <td>Viande de Volailles</td>\n",
       "      <td>2017</td>\n",
       "      <td>Milliers de tonnes</td>\n",
       "      <td>0</td>\n",
       "    </tr>\n",
       "    <tr>\n",
       "      <th>2</th>\n",
       "      <td>4</td>\n",
       "      <td>Algérie</td>\n",
       "      <td>5911</td>\n",
       "      <td>Exportations - Quantité</td>\n",
       "      <td>Viande de Volailles</td>\n",
       "      <td>2017</td>\n",
       "      <td>Milliers de tonnes</td>\n",
       "      <td>0</td>\n",
       "    </tr>\n",
       "    <tr>\n",
       "      <th>3</th>\n",
       "      <td>79</td>\n",
       "      <td>Allemagne</td>\n",
       "      <td>5911</td>\n",
       "      <td>Exportations - Quantité</td>\n",
       "      <td>Viande de Volailles</td>\n",
       "      <td>2017</td>\n",
       "      <td>Milliers de tonnes</td>\n",
       "      <td>646</td>\n",
       "    </tr>\n",
       "    <tr>\n",
       "      <th>4</th>\n",
       "      <td>7</td>\n",
       "      <td>Angola</td>\n",
       "      <td>5911</td>\n",
       "      <td>Exportations - Quantité</td>\n",
       "      <td>Viande de Volailles</td>\n",
       "      <td>2017</td>\n",
       "      <td>Milliers de tonnes</td>\n",
       "      <td>0</td>\n",
       "    </tr>\n",
       "  </tbody>\n",
       "</table>\n",
       "</div>"
      ],
      "text/plain": [
       "   Code zone            Zone  Code Élément                  Élément  \\\n",
       "0        202  Afrique du Sud          5911  Exportations - Quantité   \n",
       "1          3         Albanie          5911  Exportations - Quantité   \n",
       "2          4         Algérie          5911  Exportations - Quantité   \n",
       "3         79       Allemagne          5911  Exportations - Quantité   \n",
       "4          7          Angola          5911  Exportations - Quantité   \n",
       "\n",
       "               Produit  Année               Unité  Valeur  \n",
       "0  Viande de Volailles   2017  Milliers de tonnes      63  \n",
       "1  Viande de Volailles   2017  Milliers de tonnes       0  \n",
       "2  Viande de Volailles   2017  Milliers de tonnes       0  \n",
       "3  Viande de Volailles   2017  Milliers de tonnes     646  \n",
       "4  Viande de Volailles   2017  Milliers de tonnes       0  "
      ]
     },
     "execution_count": 42,
     "metadata": {},
     "output_type": "execute_result"
    }
   ],
   "source": [
    "chicken_export.head()"
   ]
  },
  {
   "cell_type": "markdown",
   "id": "5a5068d7",
   "metadata": {},
   "source": [
    "- Number of rows and columns :"
   ]
  },
  {
   "cell_type": "code",
   "execution_count": 45,
   "id": "f188978d",
   "metadata": {},
   "outputs": [
    {
     "data": {
      "text/plain": [
       "(135, 8)"
      ]
     },
     "execution_count": 45,
     "metadata": {},
     "output_type": "execute_result"
    }
   ],
   "source": [
    "chicken_export.shape"
   ]
  },
  {
   "cell_type": "markdown",
   "id": "2b4b58ba",
   "metadata": {},
   "source": [
    "- .info display :"
   ]
  },
  {
   "cell_type": "code",
   "execution_count": 44,
   "id": "40350f25",
   "metadata": {},
   "outputs": [
    {
     "name": "stdout",
     "output_type": "stream",
     "text": [
      "<class 'pandas.core.frame.DataFrame'>\n",
      "RangeIndex: 135 entries, 0 to 134\n",
      "Data columns (total 8 columns):\n",
      " #   Column        Non-Null Count  Dtype \n",
      "---  ------        --------------  ----- \n",
      " 0   Code zone     135 non-null    int64 \n",
      " 1   Zone          135 non-null    object\n",
      " 2   Code Élément  135 non-null    int64 \n",
      " 3   Élément       135 non-null    object\n",
      " 4   Produit       135 non-null    object\n",
      " 5   Année         135 non-null    int64 \n",
      " 6   Unité         135 non-null    object\n",
      " 7   Valeur        135 non-null    int64 \n",
      "dtypes: int64(4), object(4)\n",
      "memory usage: 8.6+ KB\n"
     ]
    }
   ],
   "source": [
    "chicken_export.info()"
   ]
  },
  {
   "cell_type": "markdown",
   "id": "fa2c0fdd",
   "metadata": {},
   "source": [
    "- Check missing and duplicate values :"
   ]
  },
  {
   "cell_type": "code",
   "execution_count": 46,
   "id": "93b535d9",
   "metadata": {},
   "outputs": [
    {
     "name": "stdout",
     "output_type": "stream",
     "text": [
      "The column Code zone does not contain any missing values\n",
      "The column Code zone does not contain duplicates\n"
     ]
    }
   ],
   "source": [
    "check_nan(chicken_export, \"Code zone\")\n",
    "check_duplicates(chicken_export,\"Code zone\")"
   ]
  },
  {
   "cell_type": "markdown",
   "id": "d2317d3b",
   "metadata": {},
   "source": [
    "<div class=\"alert-success\">\n",
    "    <u>Notice</u> :\n",
    "<i><br><li> Chicken exportation data give information on the chicken exportation of every country in the world : their zone code (primary key), the name of zone and the value of chicken exportation (in thousands of tons)</br></li>\n",
    "<li> There are 135 country concerned in 2017</li>\n",
    "<li> The data file does not contain any missing value or duplicates on the primary key</li>\n",
    "</i></div>"
   ]
  },
  {
   "cell_type": "markdown",
   "id": "36d01e83",
   "metadata": {},
   "source": [
    "- Values conversion (from thousands of tons to tons) :"
   ]
  },
  {
   "cell_type": "code",
   "execution_count": 47,
   "id": "92e8fdc5",
   "metadata": {},
   "outputs": [],
   "source": [
    "chicken_export['Valeur'] = chicken_export['Valeur'] * 1000\n",
    "chicken_export.rename(columns={\"Valeur\":\"Exportation de poulet (en tonnes)\"}, inplace=True)"
   ]
  },
  {
   "cell_type": "markdown",
   "id": "663c8980",
   "metadata": {},
   "source": [
    "- Outliers on the variable \"Exportation de poulet\" : "
   ]
  },
  {
   "cell_type": "code",
   "execution_count": 48,
   "id": "7eb8154a",
   "metadata": {},
   "outputs": [
    {
     "name": "stdout",
     "output_type": "stream",
     "text": [
      "---------------------------------------------------------------------------------------------------- \n",
      "\n"
     ]
    },
    {
     "data": {
      "image/png": "[encoded data removed]",
      "text/plain": [
       "<Figure size 648x432 with 1 Axes>"
      ]
     },
     "metadata": {
      "needs_background": "light"
     },
     "output_type": "display_data"
    },
    {
     "name": "stdout",
     "output_type": "stream",
     "text": [
      "---------------------------------------------------------------------------------------------------- \n",
      "\n"
     ]
    },
    {
     "data": {
      "text/html": [
       "<div>\n",
       "<style scoped>\n",
       "    .dataframe tbody tr th:only-of-type {\n",
       "        vertical-align: middle;\n",
       "    }\n",
       "\n",
       "    .dataframe tbody tr th {\n",
       "        vertical-align: top;\n",
       "    }\n",
       "\n",
       "    .dataframe thead th {\n",
       "        text-align: right;\n",
       "    }\n",
       "</style>\n",
       "<table border=\"1\" class=\"dataframe\">\n",
       "  <thead>\n",
       "    <tr style=\"text-align: right;\">\n",
       "      <th></th>\n",
       "      <th>Code zone</th>\n",
       "      <th>Zone</th>\n",
       "      <th>Code Élément</th>\n",
       "      <th>Élément</th>\n",
       "      <th>Produit</th>\n",
       "      <th>Année</th>\n",
       "      <th>Unité</th>\n",
       "      <th>Exportation de poulet (en tonnes)</th>\n",
       "      <th>zscore</th>\n",
       "    </tr>\n",
       "  </thead>\n",
       "  <tbody>\n",
       "    <tr>\n",
       "      <th>20</th>\n",
       "      <td>21</td>\n",
       "      <td>Brésil</td>\n",
       "      <td>5911</td>\n",
       "      <td>Exportations - Quantité</td>\n",
       "      <td>Viande de Volailles</td>\n",
       "      <td>2017</td>\n",
       "      <td>Milliers de tonnes</td>\n",
       "      <td>4223000</td>\n",
       "      <td>7.962123</td>\n",
       "    </tr>\n",
       "    <tr>\n",
       "      <th>44</th>\n",
       "      <td>231</td>\n",
       "      <td>États-Unis d'Amérique</td>\n",
       "      <td>5911</td>\n",
       "      <td>Exportations - Quantité</td>\n",
       "      <td>Viande de Volailles</td>\n",
       "      <td>2017</td>\n",
       "      <td>Milliers de tonnes</td>\n",
       "      <td>3692000</td>\n",
       "      <td>6.928615</td>\n",
       "    </tr>\n",
       "    <tr>\n",
       "      <th>98</th>\n",
       "      <td>150</td>\n",
       "      <td>Pays-Bas</td>\n",
       "      <td>5911</td>\n",
       "      <td>Exportations - Quantité</td>\n",
       "      <td>Viande de Volailles</td>\n",
       "      <td>2017</td>\n",
       "      <td>Milliers de tonnes</td>\n",
       "      <td>1418000</td>\n",
       "      <td>2.502635</td>\n",
       "    </tr>\n",
       "  </tbody>\n",
       "</table>\n",
       "</div>"
      ],
      "text/plain": [
       "    Code zone                   Zone  Code Élément                  Élément  \\\n",
       "20         21                 Brésil          5911  Exportations - Quantité   \n",
       "44        231  États-Unis d'Amérique          5911  Exportations - Quantité   \n",
       "98        150               Pays-Bas          5911  Exportations - Quantité   \n",
       "\n",
       "                Produit  Année               Unité  \\\n",
       "20  Viande de Volailles   2017  Milliers de tonnes   \n",
       "44  Viande de Volailles   2017  Milliers de tonnes   \n",
       "98  Viande de Volailles   2017  Milliers de tonnes   \n",
       "\n",
       "    Exportation de poulet (en tonnes)    zscore  \n",
       "20                            4223000  7.962123  \n",
       "44                            3692000  6.928615  \n",
       "98                            1418000  2.502635  "
      ]
     },
     "execution_count": 48,
     "metadata": {},
     "output_type": "execute_result"
    }
   ],
   "source": [
    "outliers = chicken_export.copy()\n",
    "outliers[\"zscore\"] = (outliers[\"Exportation de poulet (en tonnes)\"] - outliers[\"Exportation de poulet (en tonnes)\"].mean())/outliers[\"Exportation de poulet (en tonnes)\"].std()\n",
    "the_ok = outliers[(outliers[\"zscore\"] <= 2) & (outliers[\"zscore\"] >= -2)]\n",
    "the_outliers = outliers[outliers[\"zscore\"].abs() >2];\n",
    "print('-'*100, \"\\n\")\n",
    "plt.figure(figsize=(9,6))\n",
    "sns.scatterplot(x=the_ok[\"Exportation de poulet (en tonnes)\"].index, y=the_ok[\"Exportation de poulet (en tonnes)\"].values,)\n",
    "sns.scatterplot(x=the_outliers[\"Exportation de poulet (en tonnes)\"].index, y=the_outliers[\"Exportation de poulet (en tonnes)\"].values)\n",
    "plt.title('Outliers graphic representation');\n",
    "plt.savefig(\"Part1.Outliers graphic representation on chicken exportation.png\", bbox_inches='tight')\n",
    "plt.show()\n",
    "print('-'*100, \"\\n\")\n",
    "the_outliers.sort_values(by=[\"zscore\"], ascending=False)"
   ]
  },
  {
   "cell_type": "markdown",
   "id": "abcd123a",
   "metadata": {},
   "source": [
    "<div class=\"alert-warning\">\n",
    "    <u>Warning</u> :\n",
    "<i><br><li> Number of outliers detected : 3</br></li>\n",
    "<i><li> The biggest exportation of chicken in the world are in : Brazil, USA and The Netherlands</li>\n",
    "</i></div>"
   ]
  },
  {
   "cell_type": "markdown",
   "id": "84935204",
   "metadata": {},
   "source": [
    " "
   ]
  },
  {
   "cell_type": "markdown",
   "id": "5deb0a03",
   "metadata": {},
   "source": [
    "#### 6. [chicken_import.csv](http://localhost:8888/edit/chicken_import_2017.csv) : exploration and data cleaning\n"
   ]
  },
  {
   "cell_type": "markdown",
   "id": "55e0d124",
   "metadata": {},
   "source": [
    "- Loading file:"
   ]
  },
  {
   "cell_type": "code",
   "execution_count": 50,
   "id": "72cbc1e5",
   "metadata": {},
   "outputs": [],
   "source": [
    "chicken_import = pd.read_csv('chicken_import_2017.csv', sep=';')"
   ]
  },
  {
   "cell_type": "markdown",
   "id": "3f6a382e",
   "metadata": {},
   "source": [
    "- First 5 rows display :"
   ]
  },
  {
   "cell_type": "code",
   "execution_count": 51,
   "id": "2c034d46",
   "metadata": {},
   "outputs": [
    {
     "data": {
      "text/html": [
       "<div>\n",
       "<style scoped>\n",
       "    .dataframe tbody tr th:only-of-type {\n",
       "        vertical-align: middle;\n",
       "    }\n",
       "\n",
       "    .dataframe tbody tr th {\n",
       "        vertical-align: top;\n",
       "    }\n",
       "\n",
       "    .dataframe thead th {\n",
       "        text-align: right;\n",
       "    }\n",
       "</style>\n",
       "<table border=\"1\" class=\"dataframe\">\n",
       "  <thead>\n",
       "    <tr style=\"text-align: right;\">\n",
       "      <th></th>\n",
       "      <th>Code zone</th>\n",
       "      <th>Zone</th>\n",
       "      <th>Code Élément</th>\n",
       "      <th>Élément</th>\n",
       "      <th>Produit</th>\n",
       "      <th>Année</th>\n",
       "      <th>Unité</th>\n",
       "      <th>Valeur</th>\n",
       "    </tr>\n",
       "  </thead>\n",
       "  <tbody>\n",
       "    <tr>\n",
       "      <th>0</th>\n",
       "      <td>2</td>\n",
       "      <td>Afghanistan</td>\n",
       "      <td>5611</td>\n",
       "      <td>Importations - Quantité</td>\n",
       "      <td>Viande de Volailles</td>\n",
       "      <td>2017</td>\n",
       "      <td>Milliers de tonnes</td>\n",
       "      <td>29</td>\n",
       "    </tr>\n",
       "    <tr>\n",
       "      <th>1</th>\n",
       "      <td>202</td>\n",
       "      <td>Afrique du Sud</td>\n",
       "      <td>5611</td>\n",
       "      <td>Importations - Quantité</td>\n",
       "      <td>Viande de Volailles</td>\n",
       "      <td>2017</td>\n",
       "      <td>Milliers de tonnes</td>\n",
       "      <td>514</td>\n",
       "    </tr>\n",
       "    <tr>\n",
       "      <th>2</th>\n",
       "      <td>3</td>\n",
       "      <td>Albanie</td>\n",
       "      <td>5611</td>\n",
       "      <td>Importations - Quantité</td>\n",
       "      <td>Viande de Volailles</td>\n",
       "      <td>2017</td>\n",
       "      <td>Milliers de tonnes</td>\n",
       "      <td>38</td>\n",
       "    </tr>\n",
       "    <tr>\n",
       "      <th>3</th>\n",
       "      <td>4</td>\n",
       "      <td>Algérie</td>\n",
       "      <td>5611</td>\n",
       "      <td>Importations - Quantité</td>\n",
       "      <td>Viande de Volailles</td>\n",
       "      <td>2017</td>\n",
       "      <td>Milliers de tonnes</td>\n",
       "      <td>2</td>\n",
       "    </tr>\n",
       "    <tr>\n",
       "      <th>4</th>\n",
       "      <td>79</td>\n",
       "      <td>Allemagne</td>\n",
       "      <td>5611</td>\n",
       "      <td>Importations - Quantité</td>\n",
       "      <td>Viande de Volailles</td>\n",
       "      <td>2017</td>\n",
       "      <td>Milliers de tonnes</td>\n",
       "      <td>842</td>\n",
       "    </tr>\n",
       "  </tbody>\n",
       "</table>\n",
       "</div>"
      ],
      "text/plain": [
       "   Code zone            Zone  Code Élément                  Élément  \\\n",
       "0          2     Afghanistan          5611  Importations - Quantité   \n",
       "1        202  Afrique du Sud          5611  Importations - Quantité   \n",
       "2          3         Albanie          5611  Importations - Quantité   \n",
       "3          4         Algérie          5611  Importations - Quantité   \n",
       "4         79       Allemagne          5611  Importations - Quantité   \n",
       "\n",
       "               Produit  Année               Unité  Valeur  \n",
       "0  Viande de Volailles   2017  Milliers de tonnes      29  \n",
       "1  Viande de Volailles   2017  Milliers de tonnes     514  \n",
       "2  Viande de Volailles   2017  Milliers de tonnes      38  \n",
       "3  Viande de Volailles   2017  Milliers de tonnes       2  \n",
       "4  Viande de Volailles   2017  Milliers de tonnes     842  "
      ]
     },
     "execution_count": 51,
     "metadata": {},
     "output_type": "execute_result"
    }
   ],
   "source": [
    "chicken_import.head()"
   ]
  },
  {
   "cell_type": "markdown",
   "id": "dc83d0c6",
   "metadata": {},
   "source": [
    "- Number of rows and columns :"
   ]
  },
  {
   "cell_type": "code",
   "execution_count": 53,
   "id": "f14d66d4",
   "metadata": {},
   "outputs": [
    {
     "data": {
      "text/plain": [
       "(170, 8)"
      ]
     },
     "execution_count": 53,
     "metadata": {},
     "output_type": "execute_result"
    }
   ],
   "source": [
    "chicken_import.shape"
   ]
  },
  {
   "cell_type": "markdown",
   "id": "7813c654",
   "metadata": {},
   "source": [
    "- .info display :"
   ]
  },
  {
   "cell_type": "code",
   "execution_count": 54,
   "id": "f3a51fc1",
   "metadata": {},
   "outputs": [
    {
     "name": "stdout",
     "output_type": "stream",
     "text": [
      "<class 'pandas.core.frame.DataFrame'>\n",
      "RangeIndex: 170 entries, 0 to 169\n",
      "Data columns (total 8 columns):\n",
      " #   Column        Non-Null Count  Dtype \n",
      "---  ------        --------------  ----- \n",
      " 0   Code zone     170 non-null    int64 \n",
      " 1   Zone          170 non-null    object\n",
      " 2   Code Élément  170 non-null    int64 \n",
      " 3   Élément       170 non-null    object\n",
      " 4   Produit       170 non-null    object\n",
      " 5   Année         170 non-null    int64 \n",
      " 6   Unité         170 non-null    object\n",
      " 7   Valeur        170 non-null    int64 \n",
      "dtypes: int64(4), object(4)\n",
      "memory usage: 10.8+ KB\n"
     ]
    }
   ],
   "source": [
    "chicken_import.info()"
   ]
  },
  {
   "cell_type": "markdown",
   "id": "43b03326",
   "metadata": {},
   "source": [
    "- Check missing and duplicate values :"
   ]
  },
  {
   "cell_type": "code",
   "execution_count": 55,
   "id": "c1be11fd",
   "metadata": {},
   "outputs": [
    {
     "name": "stdout",
     "output_type": "stream",
     "text": [
      "The column Code zone does not contain any missing values\n",
      "The column Code zone does not contain duplicates\n"
     ]
    }
   ],
   "source": [
    "check_nan(chicken_import, \"Code zone\")\n",
    "check_duplicates(chicken_import,\"Code zone\")"
   ]
  },
  {
   "cell_type": "markdown",
   "id": "c26e1bb9",
   "metadata": {},
   "source": [
    "<div class=\"alert-success\">\n",
    "    <u>Notice</u> :\n",
    "<i><br><li> Chicken importation data give information on the chicken importation of every country in the world : their zone code (primary key), the name of zone and the value of chicken importation (in thousands of tons)</br></li>\n",
    "<li> There are 170 countries concerned in 2017</li>\n",
    "<li> The data file does not contain any missing value or duplicates on the primary key</li>\n",
    "</i></div>"
   ]
  },
  {
   "cell_type": "markdown",
   "id": "786b9a93",
   "metadata": {},
   "source": [
    "- Values conversion (from thousands of tons to tons) :"
   ]
  },
  {
   "cell_type": "code",
   "execution_count": 56,
   "id": "b2f7a009",
   "metadata": {},
   "outputs": [],
   "source": [
    "chicken_import['Valeur'] = chicken_import['Valeur'] * 1000\n",
    "chicken_import.rename(columns={\"Valeur\":\"Importation de poulet (en tonnes)\"}, inplace=True)"
   ]
  },
  {
   "cell_type": "markdown",
   "id": "d003021f",
   "metadata": {},
   "source": [
    "- Removed some unnecessary columns :"
   ]
  },
  {
   "cell_type": "code",
   "execution_count": 57,
   "id": "292ed543",
   "metadata": {},
   "outputs": [
    {
     "data": {
      "text/html": [
       "<div>\n",
       "<style scoped>\n",
       "    .dataframe tbody tr th:only-of-type {\n",
       "        vertical-align: middle;\n",
       "    }\n",
       "\n",
       "    .dataframe tbody tr th {\n",
       "        vertical-align: top;\n",
       "    }\n",
       "\n",
       "    .dataframe thead th {\n",
       "        text-align: right;\n",
       "    }\n",
       "</style>\n",
       "<table border=\"1\" class=\"dataframe\">\n",
       "  <thead>\n",
       "    <tr style=\"text-align: right;\">\n",
       "      <th></th>\n",
       "      <th>Code zone</th>\n",
       "      <th>Importation de poulet (en tonnes)</th>\n",
       "    </tr>\n",
       "  </thead>\n",
       "  <tbody>\n",
       "    <tr>\n",
       "      <th>0</th>\n",
       "      <td>2</td>\n",
       "      <td>29000</td>\n",
       "    </tr>\n",
       "    <tr>\n",
       "      <th>1</th>\n",
       "      <td>202</td>\n",
       "      <td>514000</td>\n",
       "    </tr>\n",
       "    <tr>\n",
       "      <th>2</th>\n",
       "      <td>3</td>\n",
       "      <td>38000</td>\n",
       "    </tr>\n",
       "    <tr>\n",
       "      <th>3</th>\n",
       "      <td>4</td>\n",
       "      <td>2000</td>\n",
       "    </tr>\n",
       "    <tr>\n",
       "      <th>4</th>\n",
       "      <td>79</td>\n",
       "      <td>842000</td>\n",
       "    </tr>\n",
       "  </tbody>\n",
       "</table>\n",
       "</div>"
      ],
      "text/plain": [
       "   Code zone  Importation de poulet (en tonnes)\n",
       "0          2                              29000\n",
       "1        202                             514000\n",
       "2          3                              38000\n",
       "3          4                               2000\n",
       "4         79                             842000"
      ]
     },
     "execution_count": 57,
     "metadata": {},
     "output_type": "execute_result"
    }
   ],
   "source": [
    "chicken_import.drop(columns =['Zone', 'Code Élément', 'Élément', 'Produit', 'Année', 'Unité'], inplace=True)\n",
    "chicken_import.head()"
   ]
  },
  {
   "cell_type": "markdown",
   "id": "d0a6f2d4",
   "metadata": {},
   "source": [
    "- Outliers on the variable \"Importation de poulet\" : "
   ]
  },
  {
   "cell_type": "code",
   "execution_count": null,
   "id": "cc18a630",
   "metadata": {},
   "outputs": [],
   "source": [
    "outliers = chicken_import.copy()\n",
    "outliers[\"zscore\"] = (outliers[\"Disponibilité de poulet (en tonnes)\"] - outliers[\"Disponibilité de poulet (en tonnes)\"].mean())/outliers[\"Disponibilité de poulet (en tonnes)\"].std()\n",
    "the_ok = outliers[(outliers[\"zscore\"] <= 2) & (outliers[\"zscore\"] >= -2)]\n",
    "the_outliers = outliers[outliers[\"zscore\"].abs() >2];\n",
    "print('-'*100, \"\\n\")\n",
    "plt.figure(figsize=(9,6))\n",
    "sns.scatterplot(x=the_ok[\"Disponibilité de poulet (en tonnes)\"].index, y=the_ok[\"Disponibilité de poulet (en tonnes)\"].values,)\n",
    "sns.scatterplot(x=the_outliers[\"Disponibilité de poulet (en tonnes)\"].index, y=the_outliers[\"Disponibilité de poulet (en tonnes)\"].values)\n",
    "plt.title('Outliers graphic representation');\n",
    "plt.savefig(\"Part1.Outliers graphic representation on chicken availibility.png\", bbox_inches='tight')\n",
    "plt.show()\n",
    "print('-'*100, \"\\n\")\n",
    "the_outliers.sort_values(by=[\"zscore\"], ascending=False)"
   ]
  },
  {
   "cell_type": "code",
   "execution_count": null,
   "id": "34a4f401",
   "metadata": {},
   "outputs": [],
   "source": []
  },
  {
   "cell_type": "code",
   "execution_count": null,
   "id": "4b383c35",
   "metadata": {},
   "outputs": [],
   "source": []
  },
  {
   "cell_type": "markdown",
   "id": "43a70e75",
   "metadata": {},
   "source": [
    "- BIG MERGE :"
   ]
  },
  {
   "cell_type": "code",
   "execution_count": 29,
   "id": "ae6df3f7",
   "metadata": {},
   "outputs": [
    {
     "data": {
      "text/html": [
       "<div>\n",
       "<style scoped>\n",
       "    .dataframe tbody tr th:only-of-type {\n",
       "        vertical-align: middle;\n",
       "    }\n",
       "\n",
       "    .dataframe tbody tr th {\n",
       "        vertical-align: top;\n",
       "    }\n",
       "\n",
       "    .dataframe thead th {\n",
       "        text-align: right;\n",
       "    }\n",
       "</style>\n",
       "<table border=\"1\" class=\"dataframe\">\n",
       "  <thead>\n",
       "    <tr style=\"text-align: right;\">\n",
       "      <th></th>\n",
       "      <th>Code zone</th>\n",
       "      <th>Zone</th>\n",
       "      <th>Consommation de poulet (en tonnes)</th>\n",
       "      <th>Disponibilité de poulet (en tonnes)</th>\n",
       "      <th>Disponibilité alimentaire moyenne par habitant (en tonnes)</th>\n",
       "    </tr>\n",
       "  </thead>\n",
       "  <tbody>\n",
       "    <tr>\n",
       "      <th>0</th>\n",
       "      <td>2</td>\n",
       "      <td>Afghanistan</td>\n",
       "      <td>55000</td>\n",
       "      <td>57000</td>\n",
       "      <td>1.53</td>\n",
       "    </tr>\n",
       "    <tr>\n",
       "      <th>1</th>\n",
       "      <td>202</td>\n",
       "      <td>Afrique du Sud</td>\n",
       "      <td>2035000</td>\n",
       "      <td>2118000</td>\n",
       "      <td>35.69</td>\n",
       "    </tr>\n",
       "    <tr>\n",
       "      <th>2</th>\n",
       "      <td>3</td>\n",
       "      <td>Albanie</td>\n",
       "      <td>47000</td>\n",
       "      <td>47000</td>\n",
       "      <td>16.36</td>\n",
       "    </tr>\n",
       "    <tr>\n",
       "      <th>3</th>\n",
       "      <td>4</td>\n",
       "      <td>Algérie</td>\n",
       "      <td>264000</td>\n",
       "      <td>277000</td>\n",
       "      <td>6.38</td>\n",
       "    </tr>\n",
       "    <tr>\n",
       "      <th>4</th>\n",
       "      <td>79</td>\n",
       "      <td>Allemagne</td>\n",
       "      <td>1609000</td>\n",
       "      <td>1739000</td>\n",
       "      <td>19.47</td>\n",
       "    </tr>\n",
       "  </tbody>\n",
       "</table>\n",
       "</div>"
      ],
      "text/plain": [
       "   Code zone            Zone  Consommation de poulet (en tonnes)  \\\n",
       "0          2     Afghanistan                               55000   \n",
       "1        202  Afrique du Sud                             2035000   \n",
       "2          3         Albanie                               47000   \n",
       "3          4         Algérie                              264000   \n",
       "4         79       Allemagne                             1609000   \n",
       "\n",
       "   Disponibilité de poulet (en tonnes)  \\\n",
       "0                                57000   \n",
       "1                              2118000   \n",
       "2                                47000   \n",
       "3                               277000   \n",
       "4                              1739000   \n",
       "\n",
       "   Disponibilité alimentaire moyenne par habitant (en tonnes)  \n",
       "0                                               1.53           \n",
       "1                                              35.69           \n",
       "2                                              16.36           \n",
       "3                                               6.38           \n",
       "4                                              19.47           "
      ]
     },
     "metadata": {},
     "output_type": "display_data"
    }
   ],
   "source": [
    "chickenOK = chicken_consum.merge(chicken_avail, how='left', on='Code zone').merge(chicken_avail_per_hab, how='left', on='Code zone')\n",
    "display(chickenOK.head())"
   ]
  },
  {
   "cell_type": "code",
   "execution_count": null,
   "id": "8a94021d",
   "metadata": {},
   "outputs": [],
   "source": []
  },
  {
   "cell_type": "code",
   "execution_count": null,
   "id": "128fb576",
   "metadata": {},
   "outputs": [],
   "source": []
  },
  {
   "cell_type": "markdown",
   "id": "d93f235f",
   "metadata": {},
   "source": [
    "- Add a new column \"period\" :"
   ]
  },
  {
   "cell_type": "code",
   "execution_count": 30,
   "id": "a1fd3fbd",
   "metadata": {},
   "outputs": [
    {
     "ename": "NameError",
     "evalue": "name 'transactions' is not defined",
     "output_type": "error",
     "traceback": [
      "\u001b[1;31m---------------------------------------------------------------------------\u001b[0m",
      "\u001b[1;31mNameError\u001b[0m                                 Traceback (most recent call last)",
      "\u001b[1;32m<ipython-input-30-054f770cf818>\u001b[0m in \u001b[0;36m<module>\u001b[1;34m\u001b[0m\n\u001b[1;32m----> 1\u001b[1;33m \u001b[0mtransactions\u001b[0m\u001b[1;33m[\u001b[0m\u001b[1;34m'period'\u001b[0m\u001b[1;33m]\u001b[0m \u001b[1;33m=\u001b[0m \u001b[0mtransactions\u001b[0m\u001b[1;33m[\u001b[0m\u001b[1;34m'date'\u001b[0m\u001b[1;33m]\u001b[0m\u001b[1;33m.\u001b[0m\u001b[0mdt\u001b[0m\u001b[1;33m.\u001b[0m\u001b[0mto_period\u001b[0m\u001b[1;33m(\u001b[0m\u001b[1;34m\"m\"\u001b[0m\u001b[1;33m)\u001b[0m\u001b[1;33m\u001b[0m\u001b[1;33m\u001b[0m\u001b[0m\n\u001b[0m\u001b[0;32m      2\u001b[0m \u001b[0mtransactions\u001b[0m\u001b[1;33m\u001b[0m\u001b[1;33m\u001b[0m\u001b[0m\n",
      "\u001b[1;31mNameError\u001b[0m: name 'transactions' is not defined"
     ]
    }
   ],
   "source": [
    "transactions['period'] = transactions['date'].dt.to_period(\"m\")\n",
    "transactions"
   ]
  },
  {
   "cell_type": "markdown",
   "id": "1fb6b724",
   "metadata": {},
   "source": [
    "- Online sales graphical representation from 2021 to 2023 :"
   ]
  },
  {
   "cell_type": "code",
   "execution_count": null,
   "id": "e990866a",
   "metadata": {},
   "outputs": [],
   "source": [
    "transactions[\"period\"].value_counts().reset_index().set_index('index').sort_values(\"index\").plot( figsize=(10,6))\n",
    "plt.ylabel(\"Sales\")\n",
    "plt.title(\"Online sales graphical representation from 2021 to 2023\");\n",
    "plt.savefig(\"Part1.Online sales graphical representation from 2021 to 2023.png\", bbox_inches='tight')"
   ]
  },
  {
   "cell_type": "markdown",
   "id": "637d706c",
   "metadata": {},
   "source": [
    "<div class=\"alert-danger\">\n",
    "    <u>Danger</u> :\n",
    "<i><br><li> There is a significant drop in sales on October 2021 (to analyse later)</br></li>\n",
    "</i></div>"
   ]
  },
  {
   "cell_type": "markdown",
   "id": "d5cf0b14",
   "metadata": {},
   "source": [
    "<a id='another_cell_d'></a>"
   ]
  },
  {
   "cell_type": "markdown",
   "id": "bae67f7d",
   "metadata": {},
   "source": [
    "### 4. Merge Lapage dataframes, explore and clean"
   ]
  },
  {
   "cell_type": "markdown",
   "id": "7ee14a5d",
   "metadata": {},
   "source": [
    "- Merge dataframes :"
   ]
  },
  {
   "cell_type": "code",
   "execution_count": null,
   "id": "cc49a2bd",
   "metadata": {},
   "outputs": [],
   "source": [
    "lapage_df = transactions.merge(customers, how='left', on='client_id').merge(products, how='left', on='id_prod')\n",
    "display(lapage_df.head())"
   ]
  },
  {
   "cell_type": "markdown",
   "id": "5a88ab3b",
   "metadata": {},
   "source": [
    "- Explore the final result :"
   ]
  },
  {
   "cell_type": "code",
   "execution_count": null,
   "id": "62713e9e",
   "metadata": {},
   "outputs": [],
   "source": [
    "lapage_df.shape"
   ]
  },
  {
   "cell_type": "code",
   "execution_count": null,
   "id": "884608bd",
   "metadata": {},
   "outputs": [],
   "source": [
    "lapage_df.info()"
   ]
  },
  {
   "cell_type": "markdown",
   "id": "f9d3fa96",
   "metadata": {},
   "source": [
    "<div class=\"alert-danger\">\n",
    "    <u>Danger</u> :\n",
    "<i><br><li> Columns \"price\" and \"categ\" have missing values</br></li>\n",
    "</i></div>"
   ]
  },
  {
   "cell_type": "code",
   "execution_count": null,
   "id": "056749f1",
   "metadata": {},
   "outputs": [],
   "source": [
    "check_nan(lapage_df, \"price\")\n",
    "check_nan(lapage_df, \"categ\")"
   ]
  },
  {
   "cell_type": "markdown",
   "id": "50198b28",
   "metadata": {},
   "source": [
    "- Check mask values :"
   ]
  },
  {
   "cell_type": "code",
   "execution_count": null,
   "id": "75e46848",
   "metadata": {},
   "outputs": [],
   "source": [
    "mask_nan = (lapage_df['price'].isnull()) | (lapage_df['categ'].isnull())\n",
    "print(\"Missing values concern those products :\", lapage_df[mask_nan][\"id_prod\"].unique())"
   ]
  },
  {
   "cell_type": "markdown",
   "id": "943c116e",
   "metadata": {},
   "source": [
    "- Check id_prod '0_2245' in products df :"
   ]
  },
  {
   "cell_type": "code",
   "execution_count": null,
   "id": "a87069cf",
   "metadata": {},
   "outputs": [],
   "source": [
    "products[products[\"id_prod\"]==\"0_2245\" ]"
   ]
  },
  {
   "cell_type": "markdown",
   "id": "e24ae1f6",
   "metadata": {},
   "source": [
    "<div class=\"alert-danger\">\n",
    "    <u>Danger</u> :\n",
    "<i><br><li> The product '0_2245' is not listed in products df</br></li>\n",
    "<li> The product '0_2245' was saled 221 times</li>\n",
    "<li> The product '0_2245' starts with 0_xxxx, so it belongs to the category 0</li>\n",
    "<li> We must keep this product in the final result and assign it an average price: the category 0's one</li>\n",
    "</i></div>"
   ]
  },
  {
   "cell_type": "markdown",
   "id": "b398f9b0",
   "metadata": {},
   "source": [
    "- Clean the final result : "
   ]
  },
  {
   "cell_type": "code",
   "execution_count": null,
   "id": "be122741",
   "metadata": {},
   "outputs": [],
   "source": [
    "categ_0_mean = round(lapage_df[lapage_df[\"categ\"]==0][\"price\"].mean(),2)#categ 0 average price\n",
    "\n",
    "lapage_df.loc[lapage_df[\"id_prod\"]==\"0_2245\", \"price\"] = categ_0_mean#categ 0 average price inputation\n",
    "\n",
    "lapage_df.loc[lapage_df[\"id_prod\"]==\"0_2245\", \"categ\"] = 0#categ 0 inputation on categ\n",
    "\n",
    "lapage_df[lapage_df[\"id_prod\"]==\"0_2245\"].head()#final chek"
   ]
  },
  {
   "cell_type": "code",
   "execution_count": null,
   "id": "672fd468",
   "metadata": {},
   "outputs": [],
   "source": [
    "lapage_df.info()"
   ]
  },
  {
   "cell_type": "markdown",
   "id": "be8c1944",
   "metadata": {},
   "source": [
    "<a id='another_cell_e'></a>"
   ]
  },
  {
   "cell_type": "markdown",
   "id": "5650bfd2",
   "metadata": {},
   "source": [
    "### Conclusion (part 1)"
   ]
  },
  {
   "cell_type": "markdown",
   "id": "b95727fa",
   "metadata": {},
   "source": [
    "<div class=\"alert-success\">\n",
    "There are 679,332 transactions in the final dataframe :\n",
    "<br><i>→ The test product T_0 has been deleted (200 lines)</i></br>\n",
    "<i><br>→ The missing price of product 0_2245 has been updated by the category 0's products average price (221 lines)</br></i>\n",
    "<i><br>→ 157 outliers have been detected on price</i></br>\n",
    "</i></div>"
   ]
  },
  {
   "cell_type": "code",
   "execution_count": null,
   "id": "7bd56fba",
   "metadata": {},
   "outputs": [],
   "source": [
    "lapage_df"
   ]
  },
  {
   "cell_type": "code",
   "execution_count": null,
   "id": "7415160d",
   "metadata": {},
   "outputs": [],
   "source": [
    "lapage_df.to_csv(\"export_lapage_df.csv\", sep=';')"
   ]
  },
  {
   "cell_type": "markdown",
   "id": "f9fb266e",
   "metadata": {},
   "source": [
    " "
   ]
  },
  {
   "cell_type": "markdown",
   "id": "18553c2e",
   "metadata": {},
   "source": [
    " "
   ]
  }
 ],
 "metadata": {
  "kernelspec": {
   "display_name": "Python 3",
   "language": "python",
   "name": "python3"
  },
  "language_info": {
   "codemirror_mode": {
    "name": "ipython",
    "version": 3
   },
   "file_extension": ".py",
   "mimetype": "text/x-python",
   "name": "python",
   "nbconvert_exporter": "python",
   "pygments_lexer": "ipython3",
   "version": "3.8.8"
  }
 },
 "nbformat": 4,
 "nbformat_minor": 5
}
